{
 "cells": [
  {
   "cell_type": "markdown",
   "metadata": {},
   "source": [
    "# LIMPIEZA DE DATOS "
   ]
  },
  {
   "cell_type": "markdown",
   "metadata": {},
   "source": [
    "## Indice notebook \n",
    "\n",
    "+ 1.\tAnalizamos columnas\n",
    "+ 2.\tLimpieza en particular de la columna “place_with_parent_names”\n",
    "+ 3.\tRegex a columna \"description”\n",
    "+ 4.    Outliers Superficie de superficie y precios en USD\n",
    "+ 5.\tRegex a la columna \"title\"\n",
    "+ 6.\tResultados Regex de las columnas \"description\" y \"title\"\n",
    "+ 7.\tVisualizamos y agregamos los datos obtenidos en “description” y “title”\n",
    "+ 8.\tConclusiones sobre los Regex y Fillna\n",
    "+ 9.    Nuevo Dataset limpio \n"
   ]
  },
  {
   "cell_type": "code",
   "execution_count": 1,
   "metadata": {},
   "outputs": [],
   "source": [
    "import pandas as pd\n",
    "import numpy as np\n",
    "import re"
   ]
  },
  {
   "cell_type": "code",
   "execution_count": 2,
   "metadata": {},
   "outputs": [],
   "source": [
    "data_location = \"C:\\DATA SCIENCE\\CLASES\\desafio 1\\properatti.csv\"\n",
    "data = pd.read_csv(data_location)\n"
   ]
  },
  {
   "cell_type": "markdown",
   "metadata": {},
   "source": [
    "# 1. Analizamos columnas"
   ]
  },
  {
   "cell_type": "markdown",
   "metadata": {},
   "source": [
    "### Al analizar las columnas procedemos a ver que es lo que sirve y que cosas no nos son utiles para nuestro objetivo: \n",
    "\n",
    "\n",
    "+ INDEX \n",
    "\n",
    "si bien **UNNAMED: 0** Indica el índice de la base de datos de Properatti,  nos vamos a quedar con el índice por default de Pandas. \n",
    "\n",
    "\n",
    "* UBICACIÓN \n",
    "\n",
    "La columna **PLACE_WITH_PARENT_NAMES** engloba el país, la provincia, el barrio y la zona donde esta. Tiene el 100% de valores y no tiene ningún nulo con lo cual utilizaremos la función SPLIT y REGEX para ir extrayendo paso a paso los elementos de la misma e iremos poniendo a cada uno de ellos en una columna nueva.\n",
    "\n",
    "Descartaremos las columnas **PLACE_NAME, COUNTRY_NAME y STATE_NAME** ya que por lo que estuvimos analizando podremos sacar esa información e incluso mas de la columna **PLACE_WITH_PARENT_NAMES**\n",
    "\n",
    "\n",
    "+ GEOLOCALIZACION \n",
    "\n",
    "En cuanto a las columnas **GEONAMES_ID, LAT-LON, LAT  y LON** haremos un drop de todas ellas  debido a que son prescindibles en nuestra estrategia para determinar el precio del metro cuadrado de los inmuebles.\n",
    "\n",
    "\n",
    "+ PRECIO\n",
    "\n",
    "Al analizar las columnas **PRICE, PRICE_APROX_LOCAL_CURRENCY y PRICE_APROX_USD**, las tres son idénticas, solamente están en una moneda distinta, contienen 100810 valores y 20410 de nulos (porcentaje de nulos de 16,84%). Razón por la cual optaremos por mantener solamente la que se encuentra en dólares para estandarizar con los números que podemos obtener de la columna Description y Title.\n",
    "\n",
    "\n",
    "+ SUPERFICIE \n",
    "\n",
    "La principal idea es rellenar la columna **SURFACE_TOTAL_IN_M2** mediante un REGEX sobre las columnas Description y Title, intentando rellenarla lo mas posible y si esto no alcanza vamos a aplicar los valores de la columna de la superficie cubierta siempre que no exista ningún valor en la columna de superficie total.\n",
    "Por ello no dropearemos la columna de **SURFACE_COVERED_IN_M2** porque posiblemente la utilicemos para complementar los valores faltantes de la total.\n",
    "\n",
    "\n",
    "+ PRECIO POR METRO CUADRADO \n",
    "\n",
    "La estrategia que vamos a desplegar implica logra conseguir la mayor cantidad de valores de las columnas de superficie total y el precio de los inmuebles en dólares, por lo que dropearemos las columnas **PRICE_USD_PER_M2 y PRICE_PER_M2**\n",
    "\n",
    "\n",
    "+ CARACTERISTICAS DE LOS INMUEBLES\n",
    "\n",
    "Primero a la hora de analizar la columna **FLOOR** veremos que la cantidad de plantas que tiene el inmueble no es un dato que nos sirva para el modelo que intentamos lograr con lo cual la dropearemos. Situación parecida sucede con la columna **EXPENSES** con lo cual haremos lo mismo.\n",
    "Por otro lado, la columna creemos que es muy importante rescatar la cantidad de habitaciones que tienen los inmuebles por lo cual intentaremos rellenar **ROOMS** haciendo un REGEX en las columnas Description y Title.\n",
    "\n",
    "\n",
    "+ INFO DE LOS INMUEBLES\n",
    "\n",
    "Conservaremos la columna **PROPERTY_TYPE** ya que creemos que saber el tipo de propiedad puede ser una variable a tener en cuenta a la hora de poder predecir el valor de un inmueble.\n",
    "\n",
    "Al indagar en las columnas **DESCRIPTION y TITLE** pudimos notar que las mismas contenían mucha y variada información con lo cual les aplicaremos un REGEX a ambas para sacar de ellas datos sobre: cantidad de ambientes, metros cuadrados y precio en usd.\n",
    "\n",
    "Por último, dropearemos las columnas **IMAGE_THUMBNAI, OPERATION y PROPERATI_URL** ya que ninguna de ellas tiene información relevante para poder llevar a cabo nuestro objetivo.\n",
    "\n"
   ]
  },
  {
   "cell_type": "code",
   "execution_count": 3,
   "metadata": {},
   "outputs": [],
   "source": [
    "#data.drop(columns=['Unnamed: 0','operation','place_name','country_name','price','currency','price_aprox_local_currency','expenses','floor','properati_url','image_thumbnail'],inplace=True)"
   ]
  },
  {
   "cell_type": "markdown",
   "metadata": {},
   "source": [
    "# 2.  Limpieza en particular de la columna place_with_parent_names\n"
   ]
  },
  {
   "cell_type": "markdown",
   "metadata": {},
   "source": [
    "### 2.1Teniendo en cuenta que esta variable engloba toda la informacion referida a la ubicacion decidimos filtrarla para extraer las categorias: \n",
    "* PAIS\n",
    "* PROVINCIA \n",
    "* BARRIO\n",
    "* ZONA \n",
    "\n"
   ]
  },
  {
   "cell_type": "code",
   "execution_count": 4,
   "metadata": {},
   "outputs": [
    {
     "data": {
      "text/plain": [
       "0                     |Argentina|Capital Federal|Mataderos|\n",
       "1               |Argentina|Bs.As. G.B.A. Zona Sur|La Plata|\n",
       "2                     |Argentina|Capital Federal|Mataderos|\n",
       "3                       |Argentina|Capital Federal|Liniers|\n",
       "4         |Argentina|Buenos Aires Costa Atlántica|Mar de...\n",
       "                                ...                        \n",
       "121215                 |Argentina|Capital Federal|Belgrano|\n",
       "121216    |Argentina|Bs.As. G.B.A. Zona Norte|San Isidro...\n",
       "121217            |Argentina|Capital Federal|Villa Urquiza|\n",
       "121218    |Argentina|Buenos Aires Costa Atlántica|Mar de...\n",
       "121219                          |Argentina|Capital Federal|\n",
       "Name: place_with_parent_names, Length: 121220, dtype: object"
      ]
     },
     "execution_count": 4,
     "metadata": {},
     "output_type": "execute_result"
    }
   ],
   "source": [
    "data_places = data.place_with_parent_names\n",
    "data_places"
   ]
  },
  {
   "cell_type": "code",
   "execution_count": 5,
   "metadata": {
    "scrolled": true
   },
   "outputs": [
    {
     "data": {
      "text/html": [
       "<div>\n",
       "<style scoped>\n",
       "    .dataframe tbody tr th:only-of-type {\n",
       "        vertical-align: middle;\n",
       "    }\n",
       "\n",
       "    .dataframe tbody tr th {\n",
       "        vertical-align: top;\n",
       "    }\n",
       "\n",
       "    .dataframe thead th {\n",
       "        text-align: right;\n",
       "    }\n",
       "</style>\n",
       "<table border=\"1\" class=\"dataframe\">\n",
       "  <thead>\n",
       "    <tr style=\"text-align: right;\">\n",
       "      <th></th>\n",
       "      <th>0</th>\n",
       "      <th>1</th>\n",
       "      <th>2</th>\n",
       "      <th>3</th>\n",
       "      <th>4</th>\n",
       "      <th>5</th>\n",
       "      <th>6</th>\n",
       "    </tr>\n",
       "  </thead>\n",
       "  <tbody>\n",
       "    <tr>\n",
       "      <th>0</th>\n",
       "      <td></td>\n",
       "      <td>Argentina</td>\n",
       "      <td>Capital Federal</td>\n",
       "      <td>Mataderos</td>\n",
       "      <td></td>\n",
       "      <td>None</td>\n",
       "      <td>None</td>\n",
       "    </tr>\n",
       "    <tr>\n",
       "      <th>1</th>\n",
       "      <td></td>\n",
       "      <td>Argentina</td>\n",
       "      <td>Bs.As. G.B.A. Zona Sur</td>\n",
       "      <td>La Plata</td>\n",
       "      <td></td>\n",
       "      <td>None</td>\n",
       "      <td>None</td>\n",
       "    </tr>\n",
       "    <tr>\n",
       "      <th>2</th>\n",
       "      <td></td>\n",
       "      <td>Argentina</td>\n",
       "      <td>Capital Federal</td>\n",
       "      <td>Mataderos</td>\n",
       "      <td></td>\n",
       "      <td>None</td>\n",
       "      <td>None</td>\n",
       "    </tr>\n",
       "  </tbody>\n",
       "</table>\n",
       "</div>"
      ],
      "text/plain": [
       "  0          1                       2          3 4     5     6\n",
       "0    Argentina         Capital Federal  Mataderos    None  None\n",
       "1    Argentina  Bs.As. G.B.A. Zona Sur   La Plata    None  None\n",
       "2    Argentina         Capital Federal  Mataderos    None  None"
      ]
     },
     "execution_count": 5,
     "metadata": {},
     "output_type": "execute_result"
    }
   ],
   "source": [
    "#Aplicamos str.split(se='|') para quedarnos con los valores entre |\n",
    "#El argumento expand= True crea un dataFrame con los valores que encuentra x posición.\n",
    "\n",
    "elementos_data_places = data_places.str.split('|',expand=True)\n",
    "elementos_data_places.head(3)"
   ]
  },
  {
   "cell_type": "code",
   "execution_count": 6,
   "metadata": {},
   "outputs": [
    {
     "data": {
      "text/plain": [
       "pandas.core.series.Series"
      ]
     },
     "execution_count": 6,
     "metadata": {},
     "output_type": "execute_result"
    }
   ],
   "source": [
    "#Si nos fijamos, una columna entera es una serie entonces podemos agregarla sin problema al DF orginal\n",
    "type(elementos_data_places[1])"
   ]
  },
  {
   "cell_type": "markdown",
   "metadata": {},
   "source": [
    "### 2.2 Unimos el data frame creado por el split con el dataFrame original creando un nuevo DataSet"
   ]
  },
  {
   "cell_type": "code",
   "execution_count": 7,
   "metadata": {},
   "outputs": [],
   "source": [
    "data_nuevo = pd.concat([data,elementos_data_places],axis=1,join='inner')"
   ]
  },
  {
   "cell_type": "code",
   "execution_count": 8,
   "metadata": {},
   "outputs": [
    {
     "data": {
      "text/html": [
       "<div>\n",
       "<style scoped>\n",
       "    .dataframe tbody tr th:only-of-type {\n",
       "        vertical-align: middle;\n",
       "    }\n",
       "\n",
       "    .dataframe tbody tr th {\n",
       "        vertical-align: top;\n",
       "    }\n",
       "\n",
       "    .dataframe thead th {\n",
       "        text-align: right;\n",
       "    }\n",
       "</style>\n",
       "<table border=\"1\" class=\"dataframe\">\n",
       "  <thead>\n",
       "    <tr style=\"text-align: right;\">\n",
       "      <th></th>\n",
       "      <th>Unnamed: 0</th>\n",
       "      <th>operation</th>\n",
       "      <th>property_type</th>\n",
       "      <th>place_name</th>\n",
       "      <th>place_with_parent_names</th>\n",
       "      <th>country_name</th>\n",
       "      <th>state_name</th>\n",
       "      <th>geonames_id</th>\n",
       "      <th>lat-lon</th>\n",
       "      <th>lat</th>\n",
       "      <th>...</th>\n",
       "      <th>description</th>\n",
       "      <th>title</th>\n",
       "      <th>image_thumbnail</th>\n",
       "      <th>0</th>\n",
       "      <th>1</th>\n",
       "      <th>2</th>\n",
       "      <th>3</th>\n",
       "      <th>4</th>\n",
       "      <th>5</th>\n",
       "      <th>6</th>\n",
       "    </tr>\n",
       "  </thead>\n",
       "  <tbody>\n",
       "    <tr>\n",
       "      <th>0</th>\n",
       "      <td>0</td>\n",
       "      <td>sell</td>\n",
       "      <td>PH</td>\n",
       "      <td>Mataderos</td>\n",
       "      <td>|Argentina|Capital Federal|Mataderos|</td>\n",
       "      <td>Argentina</td>\n",
       "      <td>Capital Federal</td>\n",
       "      <td>3430787.0</td>\n",
       "      <td>-34.6618237,-58.5088387</td>\n",
       "      <td>-34.661824</td>\n",
       "      <td>...</td>\n",
       "      <td>2 AMBIENTES TIPO CASA PLANTA BAJA POR PASILLO,...</td>\n",
       "      <td>2 AMB TIPO CASA SIN EXPENSAS EN PB</td>\n",
       "      <td>https://thumbs4.properati.com/8/BluUYiHJLhgIIK...</td>\n",
       "      <td></td>\n",
       "      <td>Argentina</td>\n",
       "      <td>Capital Federal</td>\n",
       "      <td>Mataderos</td>\n",
       "      <td></td>\n",
       "      <td>None</td>\n",
       "      <td>None</td>\n",
       "    </tr>\n",
       "    <tr>\n",
       "      <th>1</th>\n",
       "      <td>1</td>\n",
       "      <td>sell</td>\n",
       "      <td>apartment</td>\n",
       "      <td>La Plata</td>\n",
       "      <td>|Argentina|Bs.As. G.B.A. Zona Sur|La Plata|</td>\n",
       "      <td>Argentina</td>\n",
       "      <td>Bs.As. G.B.A. Zona Sur</td>\n",
       "      <td>3432039.0</td>\n",
       "      <td>-34.9038831,-57.9643295</td>\n",
       "      <td>-34.903883</td>\n",
       "      <td>...</td>\n",
       "      <td>Venta de departamento en décimo piso al frente...</td>\n",
       "      <td>VENTA Depto 2 dorm. a estrenar 7 e/ 36 y 37   ...</td>\n",
       "      <td>https://thumbs4.properati.com/7/ikpVBu2ztHA7jv...</td>\n",
       "      <td></td>\n",
       "      <td>Argentina</td>\n",
       "      <td>Bs.As. G.B.A. Zona Sur</td>\n",
       "      <td>La Plata</td>\n",
       "      <td></td>\n",
       "      <td>None</td>\n",
       "      <td>None</td>\n",
       "    </tr>\n",
       "    <tr>\n",
       "      <th>2</th>\n",
       "      <td>2</td>\n",
       "      <td>sell</td>\n",
       "      <td>apartment</td>\n",
       "      <td>Mataderos</td>\n",
       "      <td>|Argentina|Capital Federal|Mataderos|</td>\n",
       "      <td>Argentina</td>\n",
       "      <td>Capital Federal</td>\n",
       "      <td>3430787.0</td>\n",
       "      <td>-34.6522615,-58.5229825</td>\n",
       "      <td>-34.652262</td>\n",
       "      <td>...</td>\n",
       "      <td>2 AMBIENTES 3ER PISO LATERAL LIVING COMEDOR AM...</td>\n",
       "      <td>2 AMB 3ER PISO CON ASCENSOR APTO CREDITO</td>\n",
       "      <td>https://thumbs4.properati.com/5/SXKr34F_IwG3W_...</td>\n",
       "      <td></td>\n",
       "      <td>Argentina</td>\n",
       "      <td>Capital Federal</td>\n",
       "      <td>Mataderos</td>\n",
       "      <td></td>\n",
       "      <td>None</td>\n",
       "      <td>None</td>\n",
       "    </tr>\n",
       "  </tbody>\n",
       "</table>\n",
       "<p>3 rows × 33 columns</p>\n",
       "</div>"
      ],
      "text/plain": [
       "   Unnamed: 0 operation property_type place_name  \\\n",
       "0           0      sell            PH  Mataderos   \n",
       "1           1      sell     apartment   La Plata   \n",
       "2           2      sell     apartment  Mataderos   \n",
       "\n",
       "                       place_with_parent_names country_name  \\\n",
       "0        |Argentina|Capital Federal|Mataderos|    Argentina   \n",
       "1  |Argentina|Bs.As. G.B.A. Zona Sur|La Plata|    Argentina   \n",
       "2        |Argentina|Capital Federal|Mataderos|    Argentina   \n",
       "\n",
       "               state_name  geonames_id                  lat-lon        lat  \\\n",
       "0         Capital Federal    3430787.0  -34.6618237,-58.5088387 -34.661824   \n",
       "1  Bs.As. G.B.A. Zona Sur    3432039.0  -34.9038831,-57.9643295 -34.903883   \n",
       "2         Capital Federal    3430787.0  -34.6522615,-58.5229825 -34.652262   \n",
       "\n",
       "   ...                                        description  \\\n",
       "0  ...  2 AMBIENTES TIPO CASA PLANTA BAJA POR PASILLO,...   \n",
       "1  ...  Venta de departamento en décimo piso al frente...   \n",
       "2  ...  2 AMBIENTES 3ER PISO LATERAL LIVING COMEDOR AM...   \n",
       "\n",
       "                                               title  \\\n",
       "0                 2 AMB TIPO CASA SIN EXPENSAS EN PB   \n",
       "1  VENTA Depto 2 dorm. a estrenar 7 e/ 36 y 37   ...   \n",
       "2           2 AMB 3ER PISO CON ASCENSOR APTO CREDITO   \n",
       "\n",
       "                                     image_thumbnail  0          1  \\\n",
       "0  https://thumbs4.properati.com/8/BluUYiHJLhgIIK...     Argentina   \n",
       "1  https://thumbs4.properati.com/7/ikpVBu2ztHA7jv...     Argentina   \n",
       "2  https://thumbs4.properati.com/5/SXKr34F_IwG3W_...     Argentina   \n",
       "\n",
       "                        2          3  4     5     6  \n",
       "0         Capital Federal  Mataderos     None  None  \n",
       "1  Bs.As. G.B.A. Zona Sur   La Plata     None  None  \n",
       "2         Capital Federal  Mataderos     None  None  \n",
       "\n",
       "[3 rows x 33 columns]"
      ]
     },
     "execution_count": 8,
     "metadata": {},
     "output_type": "execute_result"
    }
   ],
   "source": [
    "data_nuevo.head(3)"
   ]
  },
  {
   "cell_type": "markdown",
   "metadata": {},
   "source": [
    "### 2.3 Nulos y porcentajes de nulos "
   ]
  },
  {
   "cell_type": "code",
   "execution_count": 9,
   "metadata": {},
   "outputs": [
    {
     "data": {
      "text/plain": [
       "Unnamed: 0                         0\n",
       "operation                          0\n",
       "property_type                      0\n",
       "place_name                        23\n",
       "place_with_parent_names            0\n",
       "country_name                       0\n",
       "state_name                         0\n",
       "geonames_id                    18717\n",
       "lat-lon                        51550\n",
       "lat                            51550\n",
       "lon                            51550\n",
       "price                          20410\n",
       "currency                       20411\n",
       "price_aprox_local_currency     20410\n",
       "price_aprox_usd                20410\n",
       "surface_total_in_m2            39328\n",
       "surface_covered_in_m2          19907\n",
       "price_usd_per_m2               52603\n",
       "price_per_m2                   33562\n",
       "floor                         113321\n",
       "rooms                          73830\n",
       "expenses                      106958\n",
       "properati_url                      0\n",
       "description                        2\n",
       "title                              0\n",
       "image_thumbnail                 3112\n",
       "0                                  0\n",
       "1                                  0\n",
       "2                                  0\n",
       "3                                  0\n",
       "4                               4780\n",
       "5                              80780\n",
       "6                             120672\n",
       "dtype: int64"
      ]
     },
     "execution_count": 9,
     "metadata": {},
     "output_type": "execute_result"
    }
   ],
   "source": [
    "data_nuevo.isnull().sum()"
   ]
  },
  {
   "cell_type": "code",
   "execution_count": 10,
   "metadata": {},
   "outputs": [
    {
     "data": {
      "text/plain": [
       "Unnamed: 0                     0.00\n",
       "operation                      0.00\n",
       "property_type                  0.00\n",
       "place_name                     0.02\n",
       "place_with_parent_names        0.00\n",
       "country_name                   0.00\n",
       "state_name                     0.00\n",
       "geonames_id                   15.44\n",
       "lat-lon                       42.53\n",
       "lat                           42.53\n",
       "lon                           42.53\n",
       "price                         16.84\n",
       "currency                      16.84\n",
       "price_aprox_local_currency    16.84\n",
       "price_aprox_usd               16.84\n",
       "surface_total_in_m2           32.44\n",
       "surface_covered_in_m2         16.42\n",
       "price_usd_per_m2              43.39\n",
       "price_per_m2                  27.69\n",
       "floor                         93.48\n",
       "rooms                         60.91\n",
       "expenses                      88.23\n",
       "properati_url                  0.00\n",
       "description                    0.00\n",
       "title                          0.00\n",
       "image_thumbnail                2.57\n",
       "0                              0.00\n",
       "1                              0.00\n",
       "2                              0.00\n",
       "3                              0.00\n",
       "4                              3.94\n",
       "5                             66.64\n",
       "6                             99.55\n",
       "dtype: float64"
      ]
     },
     "execution_count": 10,
     "metadata": {},
     "output_type": "execute_result"
    }
   ],
   "source": [
    "((data_nuevo.isnull().sum()/data.shape[0]) * 100).round(2)"
   ]
  },
  {
   "cell_type": "markdown",
   "metadata": {},
   "source": [
    "### 2.4 Analizamos columnas nuevas\n",
    "Ahora sabemos el porcentaje de nulos de cada columna y sabemos que la columna '0' hace referencia a los indices del DF creado por el split y ademas sabemos que la columna '1' hace referencia al Pais y en todos los casos es Argentina. Tambien las columnas '5' y '6' darian informacion mas especifica acerca de la ubicacion de dicho lugar y al tener un valor de nulos tan alto y al saber que mucha informacion faltante no podra ser completada, decidimos eliminarlas"
   ]
  },
  {
   "cell_type": "markdown",
   "metadata": {},
   "source": [
    "### 2.5  Renombramos columnas y eliminamos las que no sirven por la cantidad de nulos que tienen."
   ]
  },
  {
   "cell_type": "code",
   "execution_count": 11,
   "metadata": {},
   "outputs": [],
   "source": [
    "data_nuevo.rename(columns={0:'indice',1:'Pais',2:'Provincia',3:'Barrio',4:'Zona',5:'elim1',6:'elim2'},inplace=True)"
   ]
  },
  {
   "cell_type": "code",
   "execution_count": 12,
   "metadata": {},
   "outputs": [],
   "source": [
    "#Eliminamos las columnas que estan de más\n",
    "data_nuevo.drop(columns=['indice','Pais','elim1','elim2'],inplace=True)"
   ]
  },
  {
   "cell_type": "markdown",
   "metadata": {},
   "source": [
    "### 2.6 Trabajamos sobre las nuevas columnas para sacar informacion que puede ser util para otras columnas"
   ]
  },
  {
   "cell_type": "markdown",
   "metadata": {},
   "source": [
    "#### Columna Provincia y Zona\n",
    "Aplicamos regex sobre columna Prov para sacar valores para obtener los valores de \"zona\" y completar los valores faltantes en dicha columna"
   ]
  },
  {
   "cell_type": "code",
   "execution_count": 13,
   "metadata": {},
   "outputs": [],
   "source": [
    "#Completamos valores vacios de Zona con Nan\n",
    "data_nuevo.Zona.replace('',np.NaN,inplace=True)"
   ]
  },
  {
   "cell_type": "code",
   "execution_count": 14,
   "metadata": {},
   "outputs": [],
   "source": [
    "# Buscamos valores de Zona \n",
    "# Aplico regex para extraer la zona especifica dentro de la columna Zona\n",
    "# Genero el patron\n",
    "zona_pattern = \"(Zona\\s[A-Za-z]+)\"\n",
    "\n",
    "# Compilo el patrón\n",
    "zona_pattern_regex = re.compile(zona_pattern)\n",
    "\n",
    "# Genero objeto match\n",
    "zona_match_result = data_nuevo.Provincia.apply(lambda x: zona_pattern_regex.search(x))"
   ]
  },
  {
   "cell_type": "code",
   "execution_count": 15,
   "metadata": {},
   "outputs": [
    {
     "data": {
      "text/plain": [
       "0                                                      None\n",
       "1         <re.Match object; span=(14, 22), match='Zona S...\n",
       "2                                                      None\n",
       "3                                                      None\n",
       "4                                                      None\n",
       "                                ...                        \n",
       "121215                                                 None\n",
       "121216    <re.Match object; span=(14, 24), match='Zona N...\n",
       "121217                                                 None\n",
       "121218                                                 None\n",
       "121219                                                 None\n",
       "Name: Provincia, Length: 121220, dtype: object"
      ]
     },
     "execution_count": 15,
     "metadata": {},
     "output_type": "execute_result"
    }
   ],
   "source": [
    "zona_match_result"
   ]
  },
  {
   "cell_type": "code",
   "execution_count": 16,
   "metadata": {},
   "outputs": [],
   "source": [
    "# Genero boolean mask sin missings values\n",
    "notnull_zona_match_mascara = zona_match_result.notnull()"
   ]
  },
  {
   "cell_type": "code",
   "execution_count": 17,
   "metadata": {},
   "outputs": [
    {
     "data": {
      "text/plain": [
       "0         False\n",
       "1          True\n",
       "2         False\n",
       "3         False\n",
       "4         False\n",
       "          ...  \n",
       "121215    False\n",
       "121216     True\n",
       "121217    False\n",
       "121218    False\n",
       "121219    False\n",
       "Name: Provincia, Length: 121220, dtype: bool"
      ]
     },
     "execution_count": 17,
     "metadata": {},
     "output_type": "execute_result"
    }
   ],
   "source": [
    "notnull_zona_match_mascara"
   ]
  },
  {
   "cell_type": "code",
   "execution_count": 18,
   "metadata": {},
   "outputs": [],
   "source": [
    "#Creamos una nueva columna aplicando los match econtrados de la colulma title x group(0)\n",
    "data_nuevo['Zona_Prov'] = zona_match_result[notnull_zona_match_mascara].apply(lambda x: x if x is np.NaN else x.group(0))"
   ]
  },
  {
   "cell_type": "code",
   "execution_count": 19,
   "metadata": {},
   "outputs": [
    {
     "data": {
      "text/plain": [
       "72386"
      ]
     },
     "execution_count": 19,
     "metadata": {},
     "output_type": "execute_result"
    }
   ],
   "source": [
    "#Cantidad de nulos\n",
    "data_nuevo.Zona_Prov.isnull().sum()"
   ]
  },
  {
   "cell_type": "code",
   "execution_count": 20,
   "metadata": {},
   "outputs": [
    {
     "data": {
      "text/plain": [
       "59.71456855304405"
      ]
     },
     "execution_count": 20,
     "metadata": {},
     "output_type": "execute_result"
    }
   ],
   "source": [
    "#Porcentaje de Nulos\n",
    "(data_nuevo.Zona_Prov.isnull().sum()/data_nuevo.shape[0]) * 100"
   ]
  },
  {
   "cell_type": "markdown",
   "metadata": {},
   "source": [
    "### 2.7 Conclusión\n",
    "\n",
    "### Luego de realizar el analisis sobre la variable **\"place_with_parent_names\"** decidimos:\n",
    "\n",
    "* PAIS = Dropearla porque todos los inmuebles están en Argentina.\n",
    "* PROVINCIA = Conservarla obtuvimos un 100% de datos\n",
    "* BARRIO= Conservarla obtuvimos un 100% de datos\n",
    "* ZONA = Dropearla, ya que a pesar de haber realizado el REGEX sobre la columna title para obtener datos sobre la zona, la misma tiene un 59% de porcentaje de nulos.\n"
   ]
  },
  {
   "cell_type": "markdown",
   "metadata": {},
   "source": [
    "### 2.8  Eliminamos columna Zona y Zona_Prov\n",
    "No pudimos extraer la informacion necesaria para poder completar los valores faltantes y por eso mismo decidimos eliminar dichas columnas"
   ]
  },
  {
   "cell_type": "code",
   "execution_count": 21,
   "metadata": {
    "scrolled": true
   },
   "outputs": [
    {
     "data": {
      "text/html": [
       "<div>\n",
       "<style scoped>\n",
       "    .dataframe tbody tr th:only-of-type {\n",
       "        vertical-align: middle;\n",
       "    }\n",
       "\n",
       "    .dataframe tbody tr th {\n",
       "        vertical-align: top;\n",
       "    }\n",
       "\n",
       "    .dataframe thead th {\n",
       "        text-align: right;\n",
       "    }\n",
       "</style>\n",
       "<table border=\"1\" class=\"dataframe\">\n",
       "  <thead>\n",
       "    <tr style=\"text-align: right;\">\n",
       "      <th></th>\n",
       "      <th>Unnamed: 0</th>\n",
       "      <th>operation</th>\n",
       "      <th>property_type</th>\n",
       "      <th>place_name</th>\n",
       "      <th>place_with_parent_names</th>\n",
       "      <th>country_name</th>\n",
       "      <th>state_name</th>\n",
       "      <th>geonames_id</th>\n",
       "      <th>lat-lon</th>\n",
       "      <th>lat</th>\n",
       "      <th>...</th>\n",
       "      <th>price_per_m2</th>\n",
       "      <th>floor</th>\n",
       "      <th>rooms</th>\n",
       "      <th>expenses</th>\n",
       "      <th>properati_url</th>\n",
       "      <th>description</th>\n",
       "      <th>title</th>\n",
       "      <th>image_thumbnail</th>\n",
       "      <th>Provincia</th>\n",
       "      <th>Barrio</th>\n",
       "    </tr>\n",
       "  </thead>\n",
       "  <tbody>\n",
       "    <tr>\n",
       "      <th>0</th>\n",
       "      <td>0</td>\n",
       "      <td>sell</td>\n",
       "      <td>PH</td>\n",
       "      <td>Mataderos</td>\n",
       "      <td>|Argentina|Capital Federal|Mataderos|</td>\n",
       "      <td>Argentina</td>\n",
       "      <td>Capital Federal</td>\n",
       "      <td>3430787.0</td>\n",
       "      <td>-34.6618237,-58.5088387</td>\n",
       "      <td>-34.661824</td>\n",
       "      <td>...</td>\n",
       "      <td>1550.0</td>\n",
       "      <td>NaN</td>\n",
       "      <td>NaN</td>\n",
       "      <td>NaN</td>\n",
       "      <td>http://www.properati.com.ar/15bo8_venta_ph_mat...</td>\n",
       "      <td>2 AMBIENTES TIPO CASA PLANTA BAJA POR PASILLO,...</td>\n",
       "      <td>2 AMB TIPO CASA SIN EXPENSAS EN PB</td>\n",
       "      <td>https://thumbs4.properati.com/8/BluUYiHJLhgIIK...</td>\n",
       "      <td>Capital Federal</td>\n",
       "      <td>Mataderos</td>\n",
       "    </tr>\n",
       "  </tbody>\n",
       "</table>\n",
       "<p>1 rows × 28 columns</p>\n",
       "</div>"
      ],
      "text/plain": [
       "   Unnamed: 0 operation property_type place_name  \\\n",
       "0           0      sell            PH  Mataderos   \n",
       "\n",
       "                 place_with_parent_names country_name       state_name  \\\n",
       "0  |Argentina|Capital Federal|Mataderos|    Argentina  Capital Federal   \n",
       "\n",
       "   geonames_id                  lat-lon        lat  ...  price_per_m2  floor  \\\n",
       "0    3430787.0  -34.6618237,-58.5088387 -34.661824  ...        1550.0    NaN   \n",
       "\n",
       "  rooms  expenses                                      properati_url  \\\n",
       "0   NaN       NaN  http://www.properati.com.ar/15bo8_venta_ph_mat...   \n",
       "\n",
       "                                         description  \\\n",
       "0  2 AMBIENTES TIPO CASA PLANTA BAJA POR PASILLO,...   \n",
       "\n",
       "                                title  \\\n",
       "0  2 AMB TIPO CASA SIN EXPENSAS EN PB   \n",
       "\n",
       "                                     image_thumbnail        Provincia  \\\n",
       "0  https://thumbs4.properati.com/8/BluUYiHJLhgIIK...  Capital Federal   \n",
       "\n",
       "      Barrio  \n",
       "0  Mataderos  \n",
       "\n",
       "[1 rows x 28 columns]"
      ]
     },
     "execution_count": 21,
     "metadata": {},
     "output_type": "execute_result"
    }
   ],
   "source": [
    "data_nuevo.drop(columns =['Zona','Zona_Prov'],inplace=True)\n",
    "\n",
    "data_nuevo.head(1)\n"
   ]
  },
  {
   "cell_type": "markdown",
   "metadata": {},
   "source": [
    "# 3. Outliers "
   ]
  },
  {
   "cell_type": "markdown",
   "metadata": {},
   "source": [
    "### 3.1 OUTLIERS SUPERFICIE TOTAL Y CUBIERTA"
   ]
  },
  {
   "cell_type": "code",
   "execution_count": 22,
   "metadata": {},
   "outputs": [
    {
     "data": {
      "text/plain": [
       "state_name                   0\n",
       "property_type                0\n",
       "surface_covered_in_m2    19907\n",
       "surface_total_in_m2      39328\n",
       "dtype: int64"
      ]
     },
     "execution_count": 22,
     "metadata": {},
     "output_type": "execute_result"
    }
   ],
   "source": [
    "data_nuevo.loc[:,['state_name','property_type','surface_covered_in_m2','surface_total_in_m2']].isnull().sum()"
   ]
  },
  {
   "cell_type": "code",
   "execution_count": 23,
   "metadata": {},
   "outputs": [
    {
     "data": {
      "text/plain": [
       "Index(['Unnamed: 0', 'operation', 'property_type', 'place_name',\n",
       "       'place_with_parent_names', 'country_name', 'state_name', 'geonames_id',\n",
       "       'lat-lon', 'lat', 'lon', 'price', 'currency',\n",
       "       'price_aprox_local_currency', 'price_aprox_usd', 'surface_total_in_m2',\n",
       "       'surface_covered_in_m2', 'price_usd_per_m2', 'price_per_m2', 'floor',\n",
       "       'rooms', 'expenses', 'properati_url', 'description', 'title',\n",
       "       'image_thumbnail', 'Provincia', 'Barrio'],\n",
       "      dtype='object')"
      ]
     },
     "execution_count": 23,
     "metadata": {},
     "output_type": "execute_result"
    }
   ],
   "source": [
    "data_nuevo.columns"
   ]
  },
  {
   "cell_type": "code",
   "execution_count": 24,
   "metadata": {},
   "outputs": [],
   "source": [
    "#Copie lo que hicieron los chicos para quedarme con los m2 de description\n",
    "data_description_serie = data_nuevo.description\n",
    "\n",
    "# Convertimos a str\n",
    "data_nuevo[\"description\"] = data_description_serie.astype(str)\n",
    "\n",
    "# Unificamos tipo de formato (a mayuscula)\n",
    "data_upper = data_description_serie.apply(lambda x: str(x).upper())\n",
    "# Comprobamos data_nuevos que se hayan pasado a mayuscula"
   ]
  },
  {
   "cell_type": "code",
   "execution_count": 26,
   "metadata": {},
   "outputs": [],
   "source": [
    "# Creamos el patron de m2 description\n",
    "m2_pattern = '(?P<numbers>\\d?\\d?\\d?.?\\d?\\d?\\d)\\s?(?P<m2>METROS\\s?CUADRADOS|M2|M²|MTS2$)'\n",
    "\n",
    "# Compilo el patron\n",
    "m2_pattern_regex = re.compile(m2_pattern)\n",
    "\n",
    "# Generamos el objeto match\n",
    "m2_match_result = data_upper.apply(lambda x: m2_pattern_regex.search(x))\n",
    "\n",
    "# Creamos una boolean mask sin missings values\n",
    "m2_match_notnull = m2_match_result.notnull()\n",
    "\n",
    "# Generamos el objeto matc sin missings values\n",
    "data_nuevo['m2_desc'] = m2_match_result[m2_match_notnull].apply(lambda x: x if x is np.NaN else x.group('numbers'))"
   ]
  },
  {
   "cell_type": "code",
   "execution_count": 27,
   "metadata": {},
   "outputs": [
    {
     "data": {
      "text/html": [
       "<div>\n",
       "<style scoped>\n",
       "    .dataframe tbody tr th:only-of-type {\n",
       "        vertical-align: middle;\n",
       "    }\n",
       "\n",
       "    .dataframe tbody tr th {\n",
       "        vertical-align: top;\n",
       "    }\n",
       "\n",
       "    .dataframe thead th {\n",
       "        text-align: right;\n",
       "    }\n",
       "</style>\n",
       "<table border=\"1\" class=\"dataframe\">\n",
       "  <thead>\n",
       "    <tr style=\"text-align: right;\">\n",
       "      <th></th>\n",
       "      <th>Unnamed: 0</th>\n",
       "      <th>operation</th>\n",
       "      <th>property_type</th>\n",
       "      <th>place_name</th>\n",
       "      <th>place_with_parent_names</th>\n",
       "      <th>country_name</th>\n",
       "      <th>state_name</th>\n",
       "      <th>geonames_id</th>\n",
       "      <th>lat-lon</th>\n",
       "      <th>lat</th>\n",
       "      <th>...</th>\n",
       "      <th>floor</th>\n",
       "      <th>rooms</th>\n",
       "      <th>expenses</th>\n",
       "      <th>properati_url</th>\n",
       "      <th>description</th>\n",
       "      <th>title</th>\n",
       "      <th>image_thumbnail</th>\n",
       "      <th>Provincia</th>\n",
       "      <th>Barrio</th>\n",
       "      <th>m2_desc</th>\n",
       "    </tr>\n",
       "  </thead>\n",
       "  <tbody>\n",
       "    <tr>\n",
       "      <th>0</th>\n",
       "      <td>0</td>\n",
       "      <td>sell</td>\n",
       "      <td>PH</td>\n",
       "      <td>Mataderos</td>\n",
       "      <td>|Argentina|Capital Federal|Mataderos|</td>\n",
       "      <td>Argentina</td>\n",
       "      <td>Capital Federal</td>\n",
       "      <td>3430787.0</td>\n",
       "      <td>-34.6618237,-58.5088387</td>\n",
       "      <td>-34.661824</td>\n",
       "      <td>...</td>\n",
       "      <td>NaN</td>\n",
       "      <td>NaN</td>\n",
       "      <td>NaN</td>\n",
       "      <td>http://www.properati.com.ar/15bo8_venta_ph_mat...</td>\n",
       "      <td>2 AMBIENTES TIPO CASA PLANTA BAJA POR PASILLO,...</td>\n",
       "      <td>2 AMB TIPO CASA SIN EXPENSAS EN PB</td>\n",
       "      <td>https://thumbs4.properati.com/8/BluUYiHJLhgIIK...</td>\n",
       "      <td>Capital Federal</td>\n",
       "      <td>Mataderos</td>\n",
       "      <td>NaN</td>\n",
       "    </tr>\n",
       "    <tr>\n",
       "      <th>1</th>\n",
       "      <td>1</td>\n",
       "      <td>sell</td>\n",
       "      <td>apartment</td>\n",
       "      <td>La Plata</td>\n",
       "      <td>|Argentina|Bs.As. G.B.A. Zona Sur|La Plata|</td>\n",
       "      <td>Argentina</td>\n",
       "      <td>Bs.As. G.B.A. Zona Sur</td>\n",
       "      <td>3432039.0</td>\n",
       "      <td>-34.9038831,-57.9643295</td>\n",
       "      <td>-34.903883</td>\n",
       "      <td>...</td>\n",
       "      <td>NaN</td>\n",
       "      <td>NaN</td>\n",
       "      <td>NaN</td>\n",
       "      <td>http://www.properati.com.ar/15bob_venta_depart...</td>\n",
       "      <td>Venta de departamento en décimo piso al frente...</td>\n",
       "      <td>VENTA Depto 2 dorm. a estrenar 7 e/ 36 y 37   ...</td>\n",
       "      <td>https://thumbs4.properati.com/7/ikpVBu2ztHA7jv...</td>\n",
       "      <td>Bs.As. G.B.A. Zona Sur</td>\n",
       "      <td>La Plata</td>\n",
       "      <td>NaN</td>\n",
       "    </tr>\n",
       "  </tbody>\n",
       "</table>\n",
       "<p>2 rows × 29 columns</p>\n",
       "</div>"
      ],
      "text/plain": [
       "   Unnamed: 0 operation property_type place_name  \\\n",
       "0           0      sell            PH  Mataderos   \n",
       "1           1      sell     apartment   La Plata   \n",
       "\n",
       "                       place_with_parent_names country_name  \\\n",
       "0        |Argentina|Capital Federal|Mataderos|    Argentina   \n",
       "1  |Argentina|Bs.As. G.B.A. Zona Sur|La Plata|    Argentina   \n",
       "\n",
       "               state_name  geonames_id                  lat-lon        lat  \\\n",
       "0         Capital Federal    3430787.0  -34.6618237,-58.5088387 -34.661824   \n",
       "1  Bs.As. G.B.A. Zona Sur    3432039.0  -34.9038831,-57.9643295 -34.903883   \n",
       "\n",
       "   ...  floor  rooms expenses  \\\n",
       "0  ...    NaN    NaN      NaN   \n",
       "1  ...    NaN    NaN      NaN   \n",
       "\n",
       "                                       properati_url  \\\n",
       "0  http://www.properati.com.ar/15bo8_venta_ph_mat...   \n",
       "1  http://www.properati.com.ar/15bob_venta_depart...   \n",
       "\n",
       "                                         description  \\\n",
       "0  2 AMBIENTES TIPO CASA PLANTA BAJA POR PASILLO,...   \n",
       "1  Venta de departamento en décimo piso al frente...   \n",
       "\n",
       "                                               title  \\\n",
       "0                 2 AMB TIPO CASA SIN EXPENSAS EN PB   \n",
       "1  VENTA Depto 2 dorm. a estrenar 7 e/ 36 y 37   ...   \n",
       "\n",
       "                                     image_thumbnail               Provincia  \\\n",
       "0  https://thumbs4.properati.com/8/BluUYiHJLhgIIK...         Capital Federal   \n",
       "1  https://thumbs4.properati.com/7/ikpVBu2ztHA7jv...  Bs.As. G.B.A. Zona Sur   \n",
       "\n",
       "      Barrio  m2_desc  \n",
       "0  Mataderos      NaN  \n",
       "1   La Plata      NaN  \n",
       "\n",
       "[2 rows x 29 columns]"
      ]
     },
     "execution_count": 27,
     "metadata": {},
     "output_type": "execute_result"
    }
   ],
   "source": [
    "data_nuevo.head(2)"
   ]
  },
  {
   "cell_type": "code",
   "execution_count": 28,
   "metadata": {},
   "outputs": [
    {
     "data": {
      "text/plain": [
       "237"
      ]
     },
     "execution_count": 28,
     "metadata": {},
     "output_type": "execute_result"
    }
   ],
   "source": [
    "#Mascara para ver donde m2_mayor a m2_total y que en la nueva columna no haya nulo\n",
    "mascara = (data_nuevo.surface_covered_in_m2 > data_nuevo.surface_total_in_m2) & (data_nuevo.m2_desc.notnull())\n",
    "mascara.sum()"
   ]
  },
  {
   "cell_type": "code",
   "execution_count": 29,
   "metadata": {},
   "outputs": [
    {
     "data": {
      "text/html": [
       "<div>\n",
       "<style scoped>\n",
       "    .dataframe tbody tr th:only-of-type {\n",
       "        vertical-align: middle;\n",
       "    }\n",
       "\n",
       "    .dataframe tbody tr th {\n",
       "        vertical-align: top;\n",
       "    }\n",
       "\n",
       "    .dataframe thead th {\n",
       "        text-align: right;\n",
       "    }\n",
       "</style>\n",
       "<table border=\"1\" class=\"dataframe\">\n",
       "  <thead>\n",
       "    <tr style=\"text-align: right;\">\n",
       "      <th></th>\n",
       "      <th>surface_covered_in_m2</th>\n",
       "      <th>surface_total_in_m2</th>\n",
       "      <th>m2_desc</th>\n",
       "    </tr>\n",
       "  </thead>\n",
       "  <tbody>\n",
       "    <tr>\n",
       "      <th>1397</th>\n",
       "      <td>89.0</td>\n",
       "      <td>80.0</td>\n",
       "      <td>80</td>\n",
       "    </tr>\n",
       "    <tr>\n",
       "      <th>1802</th>\n",
       "      <td>240.0</td>\n",
       "      <td>160.0</td>\n",
       "      <td>(32</td>\n",
       "    </tr>\n",
       "    <tr>\n",
       "      <th>3884</th>\n",
       "      <td>36.0</td>\n",
       "      <td>34.0</td>\n",
       "      <td>36</td>\n",
       "    </tr>\n",
       "    <tr>\n",
       "      <th>3973</th>\n",
       "      <td>259.0</td>\n",
       "      <td>255.0</td>\n",
       "      <td>255.85</td>\n",
       "    </tr>\n",
       "    <tr>\n",
       "      <th>4121</th>\n",
       "      <td>710.0</td>\n",
       "      <td>156.0</td>\n",
       "      <td>91</td>\n",
       "    </tr>\n",
       "    <tr>\n",
       "      <th>...</th>\n",
       "      <td>...</td>\n",
       "      <td>...</td>\n",
       "      <td>...</td>\n",
       "    </tr>\n",
       "    <tr>\n",
       "      <th>116883</th>\n",
       "      <td>235.0</td>\n",
       "      <td>166.0</td>\n",
       "      <td>235</td>\n",
       "    </tr>\n",
       "    <tr>\n",
       "      <th>118327</th>\n",
       "      <td>135.0</td>\n",
       "      <td>86.0</td>\n",
       "      <td>000 86</td>\n",
       "    </tr>\n",
       "    <tr>\n",
       "      <th>119784</th>\n",
       "      <td>297.0</td>\n",
       "      <td>234.0</td>\n",
       "      <td>297</td>\n",
       "    </tr>\n",
       "    <tr>\n",
       "      <th>119830</th>\n",
       "      <td>650.0</td>\n",
       "      <td>336.0</td>\n",
       "      <td>650</td>\n",
       "    </tr>\n",
       "    <tr>\n",
       "      <th>120302</th>\n",
       "      <td>12000.0</td>\n",
       "      <td>1200.0</td>\n",
       "      <td>3500</td>\n",
       "    </tr>\n",
       "  </tbody>\n",
       "</table>\n",
       "<p>237 rows × 3 columns</p>\n",
       "</div>"
      ],
      "text/plain": [
       "        surface_covered_in_m2  surface_total_in_m2 m2_desc\n",
       "1397                     89.0                 80.0      80\n",
       "1802                    240.0                160.0     (32\n",
       "3884                     36.0                 34.0      36\n",
       "3973                    259.0                255.0  255.85\n",
       "4121                    710.0                156.0      91\n",
       "...                       ...                  ...     ...\n",
       "116883                  235.0                166.0     235\n",
       "118327                  135.0                 86.0  000 86\n",
       "119784                  297.0                234.0     297\n",
       "119830                  650.0                336.0     650\n",
       "120302                12000.0               1200.0    3500\n",
       "\n",
       "[237 rows x 3 columns]"
      ]
     },
     "execution_count": 29,
     "metadata": {},
     "output_type": "execute_result"
    }
   ],
   "source": [
    "data_nuevo.loc[mascara,['surface_covered_in_m2','surface_total_in_m2','m2_desc']]"
   ]
  },
  {
   "cell_type": "markdown",
   "metadata": {},
   "source": [
    "### 3.1.1 Outlier: Eliminar deptos mayor a 600mts2 sup total y cubierta"
   ]
  },
  {
   "cell_type": "code",
   "execution_count": 30,
   "metadata": {},
   "outputs": [
    {
     "data": {
      "text/plain": [
       "100"
      ]
     },
     "execution_count": 30,
     "metadata": {},
     "output_type": "execute_result"
    }
   ],
   "source": [
    "#Generamos mascara xa m2_totales\n",
    "mascara_depto_outlier = (data_nuevo.property_type == 'apartment') & (data_nuevo.surface_total_in_m2 > 600)\n",
    "mascara_depto_outlier.sum()"
   ]
  },
  {
   "cell_type": "code",
   "execution_count": 31,
   "metadata": {},
   "outputs": [
    {
     "data": {
      "text/plain": [
       "39328"
      ]
     },
     "execution_count": 31,
     "metadata": {},
     "output_type": "execute_result"
    }
   ],
   "source": [
    "#Nos fimjamos la cant de nulos iniciales\n",
    "data_nuevo.surface_total_in_m2.isnull().sum()"
   ]
  },
  {
   "cell_type": "code",
   "execution_count": 32,
   "metadata": {},
   "outputs": [],
   "source": [
    "#Reemplazamos los valores de m2_total que cumplan la mascara con Nan \n",
    "data_nuevo.loc[mascara_depto_outlier,'surface_total_in_m2'] = np.NaN"
   ]
  },
  {
   "cell_type": "code",
   "execution_count": 33,
   "metadata": {},
   "outputs": [
    {
     "data": {
      "text/plain": [
       "39428"
      ]
     },
     "execution_count": 33,
     "metadata": {},
     "output_type": "execute_result"
    }
   ],
   "source": [
    "#Nos fijamos los nulos y Sumo 100 que es lo esperado\n",
    "data_nuevo.surface_total_in_m2.isnull().sum()"
   ]
  },
  {
   "cell_type": "code",
   "execution_count": 35,
   "metadata": {},
   "outputs": [
    {
     "data": {
      "text/plain": [
       "80"
      ]
     },
     "execution_count": 35,
     "metadata": {},
     "output_type": "execute_result"
    }
   ],
   "source": [
    "#Generamos la mascara para m2_covered\n",
    "mascara_depto_outlier2 = (data_nuevo.property_type == 'apartment') & (data_nuevo.surface_covered_in_m2 > 600)\n",
    "mascara_depto_outlier2.sum()"
   ]
  },
  {
   "cell_type": "code",
   "execution_count": 36,
   "metadata": {},
   "outputs": [
    {
     "data": {
      "text/plain": [
       "state_name                   0\n",
       "property_type                0\n",
       "surface_covered_in_m2    19907\n",
       "surface_total_in_m2      39428\n",
       "dtype: int64"
      ]
     },
     "execution_count": 36,
     "metadata": {},
     "output_type": "execute_result"
    }
   ],
   "source": [
    "data_nuevo.loc[:,['state_name','property_type','surface_covered_in_m2','surface_total_in_m2']].isnull().sum()"
   ]
  },
  {
   "cell_type": "code",
   "execution_count": 37,
   "metadata": {},
   "outputs": [
    {
     "data": {
      "text/plain": [
       "19907"
      ]
     },
     "execution_count": 37,
     "metadata": {},
     "output_type": "execute_result"
    }
   ],
   "source": [
    "#Nos fimjamos la cant de nulos iniciales\n",
    "data_nuevo.surface_covered_in_m2.isnull().sum()"
   ]
  },
  {
   "cell_type": "code",
   "execution_count": 38,
   "metadata": {},
   "outputs": [],
   "source": [
    "#Reemplazamos los valores de m2_covered que cumplan la mascara con Na\n",
    "data_nuevo.loc[mascara_depto_outlier2,'surface_covered_in_m2'] = np.NaN"
   ]
  },
  {
   "cell_type": "code",
   "execution_count": 39,
   "metadata": {},
   "outputs": [
    {
     "data": {
      "text/plain": [
       "state_name                   0\n",
       "property_type                0\n",
       "surface_covered_in_m2    19987\n",
       "surface_total_in_m2      39428\n",
       "dtype: int64"
      ]
     },
     "execution_count": 39,
     "metadata": {},
     "output_type": "execute_result"
    }
   ],
   "source": [
    "data_nuevo.loc[:,['state_name','property_type','surface_covered_in_m2','surface_total_in_m2']].isnull().sum()"
   ]
  },
  {
   "cell_type": "code",
   "execution_count": 40,
   "metadata": {},
   "outputs": [
    {
     "data": {
      "text/plain": [
       "19987"
      ]
     },
     "execution_count": 40,
     "metadata": {},
     "output_type": "execute_result"
    }
   ],
   "source": [
    "#Sumo 80 que es lo esperado\n",
    "data_nuevo.surface_covered_in_m2.isnull().sum()"
   ]
  },
  {
   "cell_type": "markdown",
   "metadata": {},
   "source": [
    "### 3.1.2. Casos donde m2_total es menor a m2_cubierto"
   ]
  },
  {
   "cell_type": "code",
   "execution_count": 41,
   "metadata": {},
   "outputs": [
    {
     "data": {
      "text/plain": [
       "state_name                   0\n",
       "property_type                0\n",
       "surface_covered_in_m2    19987\n",
       "surface_total_in_m2      39428\n",
       "dtype: int64"
      ]
     },
     "execution_count": 41,
     "metadata": {},
     "output_type": "execute_result"
    }
   ],
   "source": [
    "data_nuevo.loc[:,['state_name','property_type','surface_covered_in_m2','surface_total_in_m2']].isnull().sum()"
   ]
  },
  {
   "cell_type": "code",
   "execution_count": 42,
   "metadata": {},
   "outputs": [
    {
     "data": {
      "text/plain": [
       "surface_covered_in_m2    19987\n",
       "surface_total_in_m2      39428\n",
       "dtype: int64"
      ]
     },
     "execution_count": 42,
     "metadata": {},
     "output_type": "execute_result"
    }
   ],
   "source": [
    "#Vemos la cantidad de nulos iniciales\n",
    "data_nuevo.loc[:,['surface_covered_in_m2','surface_total_in_m2']].isnull().sum()"
   ]
  },
  {
   "cell_type": "code",
   "execution_count": 43,
   "metadata": {},
   "outputs": [
    {
     "data": {
      "text/plain": [
       "1094"
      ]
     },
     "execution_count": 43,
     "metadata": {},
     "output_type": "execute_result"
    }
   ],
   "source": [
    "#Generamos la mascara\n",
    "mascara = data_nuevo.surface_covered_in_m2 > data_nuevo.surface_total_in_m2 \n",
    "mascara.sum()"
   ]
  },
  {
   "cell_type": "code",
   "execution_count": 44,
   "metadata": {},
   "outputs": [],
   "source": [
    "##Reemplaxzo en ambas columnas con nan con los valores que cumplen con la mascara\n",
    "data_nuevo.loc[mascara,['surface_covered_in_m2','surface_total_in_m2']] = np.NaN"
   ]
  },
  {
   "cell_type": "code",
   "execution_count": 45,
   "metadata": {},
   "outputs": [
    {
     "data": {
      "text/plain": [
       "surface_covered_in_m2    21081\n",
       "surface_total_in_m2      40522\n",
       "dtype: int64"
      ]
     },
     "execution_count": 45,
     "metadata": {},
     "output_type": "execute_result"
    }
   ],
   "source": [
    "#Imprimimos nulos y deberia sumar 1094 en ambos casos (ya que cumplen con la primer condicion M2_total < m2_cubierto)\n",
    "data_nuevo.loc[:,['surface_covered_in_m2','surface_total_in_m2']].isnull().sum()"
   ]
  },
  {
   "cell_type": "markdown",
   "metadata": {},
   "source": [
    "### CONCLUSIÓN:\n",
    "\n",
    "Decidimos reemplazar por NaN cuando la columna de superficie cubierta es mayor a la columna de superficie total(no tiene logica que sea asi). Cuando esto ocurre, reemplazamos el valor de las dos columnas por NaN. \n",
    "\n",
    "Analizando esos valores en base a la columna title y description percibimos que no valia la pena salvar los valores por la reducidad cantidad que obtuvimos con Regex.\n",
    "\n",
    "Para los departamentos tomamos la decision de pegar el valor de la columna superficie total cuando el valor de la columna superficie cubierta esta ausente, y viceversa. Esto lo hacemos solo en el caso de departamentos porque alli normalmente no varian de forma significativa las superficies. En el resto de los tipos de propiedad no podemos usar este supuesto."
   ]
  },
  {
   "cell_type": "markdown",
   "metadata": {},
   "source": [
    "### Remplazamos solo en depto los valores que falte el m2_total y no m2_covered y viceversa"
   ]
  },
  {
   "cell_type": "code",
   "execution_count": 46,
   "metadata": {},
   "outputs": [
    {
     "data": {
      "text/plain": [
       "surface_covered_in_m2    21081\n",
       "surface_total_in_m2      40522\n",
       "dtype: int64"
      ]
     },
     "execution_count": 46,
     "metadata": {},
     "output_type": "execute_result"
    }
   ],
   "source": [
    "#Vemos la cantidad de nulos iniciales\n",
    "data_nuevo.loc[:,['surface_covered_in_m2','surface_total_in_m2']].isnull().sum()"
   ]
  },
  {
   "cell_type": "code",
   "execution_count": 47,
   "metadata": {},
   "outputs": [
    {
     "name": "stdout",
     "output_type": "stream",
     "text": [
      "13696\n"
     ]
    },
    {
     "data": {
      "text/plain": [
       "property_type\n",
       "apartment    13696\n",
       "dtype: int64"
      ]
     },
     "execution_count": 47,
     "metadata": {},
     "output_type": "execute_result"
    }
   ],
   "source": [
    "#Mascara de m2_total nulo y m2_covered completo solo en depto\n",
    "mascara_m2_total_nulo = (data_nuevo.surface_total_in_m2.isnull() & data_nuevo.surface_covered_in_m2.notnull()) & (data_nuevo.property_type == 'apartment')\n",
    "print(mascara_m2_total_nulo.sum())\n",
    "\n",
    "#Para chequear que haya funcionado bien\n",
    "data_nuevo.loc[mascara_m2_total_nulo,:].groupby('property_type').size()"
   ]
  },
  {
   "cell_type": "code",
   "execution_count": 48,
   "metadata": {},
   "outputs": [
    {
     "name": "stdout",
     "output_type": "stream",
     "text": [
      "5026\n"
     ]
    },
    {
     "data": {
      "text/plain": [
       "property_type\n",
       "apartment    5026\n",
       "dtype: int64"
      ]
     },
     "execution_count": 48,
     "metadata": {},
     "output_type": "execute_result"
    }
   ],
   "source": [
    "#Macscara de m2_total completo y m2_covered nulo solo en depto\n",
    "mascara_m2_covered_nulo = (data_nuevo.surface_total_in_m2.notnull() & data_nuevo.surface_covered_in_m2.isnull()) & (data_nuevo.property_type == 'apartment')\n",
    "print(mascara_m2_covered_nulo.sum())\n",
    "\n",
    "#Para chequear que haya funcionado bien\n",
    "data_nuevo.loc[mascara_m2_covered_nulo,:].groupby('property_type').size()"
   ]
  },
  {
   "cell_type": "code",
   "execution_count": 49,
   "metadata": {},
   "outputs": [
    {
     "data": {
      "text/plain": [
       "surface_covered_in_m2    21081\n",
       "surface_total_in_m2      26826\n",
       "dtype: int64"
      ]
     },
     "execution_count": 49,
     "metadata": {},
     "output_type": "execute_result"
    }
   ],
   "source": [
    "#Remplazamos los NaN por el valor de la columna de surface_covered_in_m2 y vemos si la cantidad de nulos disminuyo correctamente\n",
    "data_nuevo.loc[mascara_m2_total_nulo,'surface_total_in_m2'] = data_nuevo.loc[mascara_m2_total_nulo,'surface_covered_in_m2']\n",
    "data_nuevo.loc[:,['surface_covered_in_m2','surface_total_in_m2']].isnull().sum()"
   ]
  },
  {
   "cell_type": "code",
   "execution_count": 50,
   "metadata": {},
   "outputs": [
    {
     "data": {
      "text/plain": [
       "surface_covered_in_m2    16055\n",
       "surface_total_in_m2      26826\n",
       "dtype: int64"
      ]
     },
     "execution_count": 50,
     "metadata": {},
     "output_type": "execute_result"
    }
   ],
   "source": [
    "#Remplazamos los NaN por el valor de la columna de surface_total_in_m2 y vemos si la cantidad de nulos disminuyo correctamente\n",
    "data_nuevo.loc[mascara_m2_covered_nulo,'surface_covered_in_m2'] = data_nuevo.loc[mascara_m2_covered_nulo,'surface_total_in_m2']\n",
    "data_nuevo.loc[:,['surface_covered_in_m2','surface_total_in_m2']].isnull().sum()"
   ]
  },
  {
   "cell_type": "code",
   "execution_count": 51,
   "metadata": {},
   "outputs": [
    {
     "data": {
      "text/plain": [
       "0"
      ]
     },
     "execution_count": 51,
     "metadata": {},
     "output_type": "execute_result"
    }
   ],
   "source": [
    "#Volvemos a hacer las mascaras para ver que haya remplazado bien\n",
    "mascara_m2_covered = (data_nuevo.surface_total_in_m2.notnull() & data_nuevo.surface_covered_in_m2.isnull()) & (data_nuevo.property_type == 'apartment')\n",
    "mascara_m2_covered.sum()"
   ]
  },
  {
   "cell_type": "code",
   "execution_count": 52,
   "metadata": {},
   "outputs": [
    {
     "data": {
      "text/plain": [
       "0"
      ]
     },
     "execution_count": 52,
     "metadata": {},
     "output_type": "execute_result"
    }
   ],
   "source": [
    "#Volvemos a hacer las mascaras para ver que haya remplazado bien\n",
    "mascara_m2_total =(data_nuevo.surface_total_in_m2.isnull() & data_nuevo.surface_covered_in_m2.notnull()) & (data_nuevo.property_type == 'apartment')\n",
    "mascara_m2_total.sum()"
   ]
  },
  {
   "cell_type": "markdown",
   "metadata": {},
   "source": [
    "### Outliers: menos de 10mts los eliminamos tanto en total como en cubierta¶"
   ]
  },
  {
   "cell_type": "code",
   "execution_count": 53,
   "metadata": {},
   "outputs": [
    {
     "name": "stdout",
     "output_type": "stream",
     "text": [
      "518\n"
     ]
    },
    {
     "data": {
      "text/plain": [
       "property_type\n",
       "apartment    385\n",
       "house        114\n",
       "store         11\n",
       "PH             8\n",
       "dtype: int64"
      ]
     },
     "execution_count": 53,
     "metadata": {},
     "output_type": "execute_result"
    }
   ],
   "source": [
    "#Generamos la mascara para m2_total\n",
    "mascara_menos_10 = (data_nuevo.surface_total_in_m2 < 10)\n",
    "print(mascara_menos_10.sum())\n",
    "data_nuevo.loc[mascara_menos_10,:].groupby('property_type').size().sort_values(ascending=False)"
   ]
  },
  {
   "cell_type": "code",
   "execution_count": 54,
   "metadata": {},
   "outputs": [
    {
     "data": {
      "text/plain": [
       "floor                         113321\n",
       "expenses                      106958\n",
       "m2_desc                        91179\n",
       "rooms                          73830\n",
       "price_usd_per_m2               52603\n",
       "lat-lon                        51550\n",
       "lat                            51550\n",
       "lon                            51550\n",
       "price_per_m2                   33562\n",
       "surface_total_in_m2            26826\n",
       "currency                       20411\n",
       "price                          20410\n",
       "price_aprox_local_currency     20410\n",
       "price_aprox_usd                20410\n",
       "geonames_id                    18717\n",
       "surface_covered_in_m2          16055\n",
       "image_thumbnail                 3112\n",
       "place_name                        23\n",
       "Barrio                             0\n",
       "properati_url                      0\n",
       "description                        0\n",
       "title                              0\n",
       "Provincia                          0\n",
       "state_name                         0\n",
       "country_name                       0\n",
       "place_with_parent_names            0\n",
       "property_type                      0\n",
       "operation                          0\n",
       "Unnamed: 0                         0\n",
       "dtype: int64"
      ]
     },
     "execution_count": 54,
     "metadata": {},
     "output_type": "execute_result"
    }
   ],
   "source": [
    "#Vemos la cantidad de nulos\n",
    "data_nuevo.isnull().sum().sort_values(ascending=False)"
   ]
  },
  {
   "cell_type": "code",
   "execution_count": 55,
   "metadata": {},
   "outputs": [],
   "source": [
    "#Reemplazamos en m2_total con NaN los valores que cumplan con la mascara\n",
    "data_nuevo.loc[mascara_menos_10,'surface_total_in_m2'] = np.NaN"
   ]
  },
  {
   "cell_type": "code",
   "execution_count": 56,
   "metadata": {},
   "outputs": [
    {
     "data": {
      "text/plain": [
       "floor                         113321\n",
       "expenses                      106958\n",
       "m2_desc                        91179\n",
       "rooms                          73830\n",
       "price_usd_per_m2               52603\n",
       "lat-lon                        51550\n",
       "lat                            51550\n",
       "lon                            51550\n",
       "price_per_m2                   33562\n",
       "surface_total_in_m2            27344\n",
       "currency                       20411\n",
       "price                          20410\n",
       "price_aprox_local_currency     20410\n",
       "price_aprox_usd                20410\n",
       "geonames_id                    18717\n",
       "surface_covered_in_m2          16055\n",
       "image_thumbnail                 3112\n",
       "place_name                        23\n",
       "Barrio                             0\n",
       "properati_url                      0\n",
       "description                        0\n",
       "title                              0\n",
       "Provincia                          0\n",
       "state_name                         0\n",
       "country_name                       0\n",
       "place_with_parent_names            0\n",
       "property_type                      0\n",
       "operation                          0\n",
       "Unnamed: 0                         0\n",
       "dtype: int64"
      ]
     },
     "execution_count": 56,
     "metadata": {},
     "output_type": "execute_result"
    }
   ],
   "source": [
    "#Vemos los nulos y tiene que aumentar solo en m2_total\n",
    "data_nuevo.isnull().sum().sort_values(ascending=False)"
   ]
  },
  {
   "cell_type": "code",
   "execution_count": 57,
   "metadata": {},
   "outputs": [
    {
     "name": "stdout",
     "output_type": "stream",
     "text": [
      "0\n"
     ]
    }
   ],
   "source": [
    "#Para chequear de nuevo probamos la mascara y nos tiene que dar 0\n",
    "mascara_menos_10 = (data_nuevo.surface_total_in_m2 < 10)\n",
    "print(mascara_menos_10.sum())"
   ]
  },
  {
   "cell_type": "code",
   "execution_count": 59,
   "metadata": {},
   "outputs": [
    {
     "name": "stdout",
     "output_type": "stream",
     "text": [
      "684\n"
     ]
    },
    {
     "data": {
      "text/plain": [
       "property_type\n",
       "apartment    454\n",
       "house        163\n",
       "store         35\n",
       "PH            32\n",
       "dtype: int64"
      ]
     },
     "execution_count": 59,
     "metadata": {},
     "output_type": "execute_result"
    }
   ],
   "source": [
    "#Generamos la mascara para m2_covered\n",
    "mascara_menos_10_covered = (data_nuevo.surface_covered_in_m2 < 10)\n",
    "print(mascara_menos_10_covered.sum())\n",
    "data_nuevo.loc[mascara_menos_10_covered,:].groupby('property_type').size().sort_values(ascending=False)"
   ]
  },
  {
   "cell_type": "code",
   "execution_count": 60,
   "metadata": {},
   "outputs": [],
   "source": [
    "#Reemplazamos en m2_covered con NaN los valores que cumplan con la mascara\n",
    "data_nuevo.loc[mascara_menos_10_covered,'surface_covered_in_m2'] = np.NaN"
   ]
  },
  {
   "cell_type": "code",
   "execution_count": 61,
   "metadata": {},
   "outputs": [
    {
     "data": {
      "text/plain": [
       "floor                         113321\n",
       "expenses                      106958\n",
       "m2_desc                        91179\n",
       "rooms                          73830\n",
       "price_usd_per_m2               52603\n",
       "lat-lon                        51550\n",
       "lat                            51550\n",
       "lon                            51550\n",
       "price_per_m2                   33562\n",
       "surface_total_in_m2            27344\n",
       "currency                       20411\n",
       "price                          20410\n",
       "price_aprox_local_currency     20410\n",
       "price_aprox_usd                20410\n",
       "geonames_id                    18717\n",
       "surface_covered_in_m2          16739\n",
       "image_thumbnail                 3112\n",
       "place_name                        23\n",
       "Barrio                             0\n",
       "properati_url                      0\n",
       "description                        0\n",
       "title                              0\n",
       "Provincia                          0\n",
       "state_name                         0\n",
       "country_name                       0\n",
       "place_with_parent_names            0\n",
       "property_type                      0\n",
       "operation                          0\n",
       "Unnamed: 0                         0\n",
       "dtype: int64"
      ]
     },
     "execution_count": 61,
     "metadata": {},
     "output_type": "execute_result"
    }
   ],
   "source": [
    "#Vemos los nulos y tiene que aumentar solo en m2_covered\n",
    "data_nuevo.isnull().sum().sort_values(ascending=False)"
   ]
  },
  {
   "cell_type": "code",
   "execution_count": 62,
   "metadata": {},
   "outputs": [
    {
     "name": "stdout",
     "output_type": "stream",
     "text": [
      "0\n"
     ]
    }
   ],
   "source": [
    "#Para chequear de nuevo probamos la mascara y nos tiene que dar 0\n",
    "mascara_menos_10_covered = (data_nuevo.surface_covered_in_m2 < 10)\n",
    "print(mascara_menos_10_covered.sum())"
   ]
  },
  {
   "cell_type": "markdown",
   "metadata": {},
   "source": [
    "### 3.4 Outliers Precios en USD "
   ]
  },
  {
   "cell_type": "markdown",
   "metadata": {},
   "source": [
    "### 3.4.1. Analisis de valores maximos y minimos de la columna price_aprox_usd (columna de referencia de precio)"
   ]
  },
  {
   "cell_type": "code",
   "execution_count": 63,
   "metadata": {},
   "outputs": [
    {
     "data": {
      "text/plain": [
       "20410"
      ]
     },
     "execution_count": 63,
     "metadata": {},
     "output_type": "execute_result"
    }
   ],
   "source": [
    "# Visualizo los missings values antes de la operacion\n",
    "data_nuevo.price_aprox_usd.isnull().sum()"
   ]
  },
  {
   "cell_type": "code",
   "execution_count": 64,
   "metadata": {},
   "outputs": [],
   "source": [
    "# Creo las boolean masks para filtrar por departamento\n",
    "data_apartment_mask =  data_nuevo.property_type =='apartment'\n",
    "\n",
    "# Filtro por tipo de propiedad\n",
    "data_apartment = data_nuevo[data_apartment_mask]"
   ]
  },
  {
   "cell_type": "code",
   "execution_count": 65,
   "metadata": {},
   "outputs": [],
   "source": [
    "# Creo la serie de precios en dolares para departamentos (solo a efectos de visualizacion)\n",
    "price_aprox_usd_apartments = data_apartment.price_aprox_usd"
   ]
  },
  {
   "cell_type": "code",
   "execution_count": 66,
   "metadata": {},
   "outputs": [
    {
     "data": {
      "text/plain": [
       "count       59616.00\n",
       "mean       187406.88\n",
       "std        316218.35\n",
       "min          4666.62\n",
       "25%         80000.00\n",
       "50%        119000.00\n",
       "75%        190000.00\n",
       "max      46545445.00\n",
       "Name: price_aprox_usd, dtype: float64"
      ]
     },
     "execution_count": 66,
     "metadata": {},
     "output_type": "execute_result"
    }
   ],
   "source": [
    "# Visualizo los maximos y minimos con describe antes de la operacion\n",
    "describe_with_outliers = round(price_aprox_usd_apartments.describe(),2)\n",
    "describe_with_outliers"
   ]
  },
  {
   "cell_type": "code",
   "execution_count": 67,
   "metadata": {},
   "outputs": [
    {
     "name": "stdout",
     "output_type": "stream",
     "text": [
      "24548    46545445.0\n",
      "44685     8500000.0\n",
      "44684     8000000.0\n",
      "73029     8000000.0\n",
      "26637     6809000.0\n",
      "            ...    \n",
      "25163     2800000.0\n",
      "81753     2800000.0\n",
      "58143     2800000.0\n",
      "26568     2788520.0\n",
      "18186     2700000.0\n",
      "Name: price_aprox_usd, Length: 68, dtype: float64 \n",
      "\n",
      "34666      4666.62\n",
      "52421      5000.00\n",
      "4399       5000.00\n",
      "57415      5047.53\n",
      "102031     5047.53\n",
      "            ...   \n",
      "26933      9500.00\n",
      "115717     9534.22\n",
      "115223     9814.64\n",
      "59881      9916.58\n",
      "10190     10000.00\n",
      "Name: price_aprox_usd, Length: 68, dtype: float64\n"
     ]
    }
   ],
   "source": [
    "# Visualizo los maximos y minimos con mas detalle usando sort_values\n",
    "max_apartment = price_aprox_usd_apartments.sort_values(ascending=False)[:68]\n",
    "print(max_apartment,'\\n')\n",
    "min_apartment = price_aprox_usd_apartments.sort_values(ascending=True)[:68]\n",
    "print(min_apartment)"
   ]
  },
  {
   "cell_type": "code",
   "execution_count": 68,
   "metadata": {},
   "outputs": [
    {
     "data": {
      "text/html": [
       "<div>\n",
       "<style scoped>\n",
       "    .dataframe tbody tr th:only-of-type {\n",
       "        vertical-align: middle;\n",
       "    }\n",
       "\n",
       "    .dataframe tbody tr th {\n",
       "        vertical-align: top;\n",
       "    }\n",
       "\n",
       "    .dataframe thead th {\n",
       "        text-align: right;\n",
       "    }\n",
       "</style>\n",
       "<table border=\"1\" class=\"dataframe\">\n",
       "  <thead>\n",
       "    <tr style=\"text-align: right;\">\n",
       "      <th></th>\n",
       "      <th>price_aprox_usd</th>\n",
       "      <th>property_type</th>\n",
       "      <th>Provincia</th>\n",
       "      <th>Barrio</th>\n",
       "      <th>description</th>\n",
       "      <th>title</th>\n",
       "    </tr>\n",
       "  </thead>\n",
       "  <tbody>\n",
       "    <tr>\n",
       "      <th>24548</th>\n",
       "      <td>46545445.0</td>\n",
       "      <td>apartment</td>\n",
       "      <td>Capital Federal</td>\n",
       "      <td>San Telmo</td>\n",
       "      <td>dsdffhghvcvbcdfdfghdfhghkjhkhjklhjkfgvghfghnfg...</td>\n",
       "      <td>Departamento venta</td>\n",
       "    </tr>\n",
       "    <tr>\n",
       "      <th>44685</th>\n",
       "      <td>8500000.0</td>\n",
       "      <td>apartment</td>\n",
       "      <td>Capital Federal</td>\n",
       "      <td>Palermo</td>\n",
       "      <td>CONTACTO: MARTIN PINUS 15- EXCELENTISIMA PROPI...</td>\n",
       "      <td>LE PARC ALCORTA - PISO MUY ALTO DE 410 M2 CON ...</td>\n",
       "    </tr>\n",
       "    <tr>\n",
       "      <th>44685</th>\n",
       "      <td>8500000.0</td>\n",
       "      <td>apartment</td>\n",
       "      <td>Capital Federal</td>\n",
       "      <td>Palermo</td>\n",
       "      <td>CONTACTO: MARTIN PINUS 15- EXCELENTISIMA PROPI...</td>\n",
       "      <td>LE PARC ALCORTA - PISO MUY ALTO DE 410 M2 CON ...</td>\n",
       "    </tr>\n",
       "    <tr>\n",
       "      <th>73029</th>\n",
       "      <td>8000000.0</td>\n",
       "      <td>apartment</td>\n",
       "      <td>Capital Federal</td>\n",
       "      <td>Palermo</td>\n",
       "      <td>VENTA DEPARTAMENTO PISO DE 2 UNIDADES ANEXADAS...</td>\n",
       "      <td>Departamento en Palermo</td>\n",
       "    </tr>\n",
       "    <tr>\n",
       "      <th>26637</th>\n",
       "      <td>6809000.0</td>\n",
       "      <td>apartment</td>\n",
       "      <td>Capital Federal</td>\n",
       "      <td>Boedo</td>\n",
       "      <td>Departamento  1 ambiente divisible Depto en CU...</td>\n",
       "      <td>Tu depa, ingresa con $ 29.000 y cuotas en pesos</td>\n",
       "    </tr>\n",
       "    <tr>\n",
       "      <th>58175</th>\n",
       "      <td>6000000.0</td>\n",
       "      <td>apartment</td>\n",
       "      <td>Capital Federal</td>\n",
       "      <td>Nuñez</td>\n",
       "      <td>TRIPLEX EN FORUM ALCORTA! VISTA ESPECTACULAR A...</td>\n",
       "      <td>FORUM ALCORTA TRIPLEX</td>\n",
       "    </tr>\n",
       "    <tr>\n",
       "      <th>52789</th>\n",
       "      <td>5500000.0</td>\n",
       "      <td>apartment</td>\n",
       "      <td>Capital Federal</td>\n",
       "      <td>Nuñez</td>\n",
       "      <td>Espectacular Penthouse en Forum Alcorta! Trilp...</td>\n",
       "      <td>Espectacular Penthouse en Forum Alcorta!</td>\n",
       "    </tr>\n",
       "    <tr>\n",
       "      <th>53048</th>\n",
       "      <td>5500000.0</td>\n",
       "      <td>apartment</td>\n",
       "      <td>Capital Federal</td>\n",
       "      <td>Belgrano</td>\n",
       "      <td>Espectacular Penthouse en Forum Alcorta! Trilp...</td>\n",
       "      <td>Espectacular Penthouse en Forum Alcorta!</td>\n",
       "    </tr>\n",
       "    <tr>\n",
       "      <th>53116</th>\n",
       "      <td>5500000.0</td>\n",
       "      <td>apartment</td>\n",
       "      <td>Capital Federal</td>\n",
       "      <td>Nuñez</td>\n",
       "      <td>Espectacular Penthouse en Forum Alcorta! Trilp...</td>\n",
       "      <td>Espectacular Penthouse en Forum Alcorta!</td>\n",
       "    </tr>\n",
       "    <tr>\n",
       "      <th>52788</th>\n",
       "      <td>5500000.0</td>\n",
       "      <td>apartment</td>\n",
       "      <td>Capital Federal</td>\n",
       "      <td>Belgrano</td>\n",
       "      <td>Espectacular Penthouse en Forum Alcorta! Trilp...</td>\n",
       "      <td>Espectacular Penthouse en Forum Alcorta!</td>\n",
       "    </tr>\n",
       "  </tbody>\n",
       "</table>\n",
       "</div>"
      ],
      "text/plain": [
       "       price_aprox_usd property_type        Provincia     Barrio  \\\n",
       "24548       46545445.0     apartment  Capital Federal  San Telmo   \n",
       "44685        8500000.0     apartment  Capital Federal    Palermo   \n",
       "44685        8500000.0     apartment  Capital Federal    Palermo   \n",
       "73029        8000000.0     apartment  Capital Federal    Palermo   \n",
       "26637        6809000.0     apartment  Capital Federal      Boedo   \n",
       "58175        6000000.0     apartment  Capital Federal      Nuñez   \n",
       "52789        5500000.0     apartment  Capital Federal      Nuñez   \n",
       "53048        5500000.0     apartment  Capital Federal   Belgrano   \n",
       "53116        5500000.0     apartment  Capital Federal      Nuñez   \n",
       "52788        5500000.0     apartment  Capital Federal   Belgrano   \n",
       "\n",
       "                                             description  \\\n",
       "24548  dsdffhghvcvbcdfdfghdfhghkjhkhjklhjkfgvghfghnfg...   \n",
       "44685  CONTACTO: MARTIN PINUS 15- EXCELENTISIMA PROPI...   \n",
       "44685  CONTACTO: MARTIN PINUS 15- EXCELENTISIMA PROPI...   \n",
       "73029  VENTA DEPARTAMENTO PISO DE 2 UNIDADES ANEXADAS...   \n",
       "26637  Departamento  1 ambiente divisible Depto en CU...   \n",
       "58175  TRIPLEX EN FORUM ALCORTA! VISTA ESPECTACULAR A...   \n",
       "52789  Espectacular Penthouse en Forum Alcorta! Trilp...   \n",
       "53048  Espectacular Penthouse en Forum Alcorta! Trilp...   \n",
       "53116  Espectacular Penthouse en Forum Alcorta! Trilp...   \n",
       "52788  Espectacular Penthouse en Forum Alcorta! Trilp...   \n",
       "\n",
       "                                                   title  \n",
       "24548                                 Departamento venta  \n",
       "44685  LE PARC ALCORTA - PISO MUY ALTO DE 410 M2 CON ...  \n",
       "44685  LE PARC ALCORTA - PISO MUY ALTO DE 410 M2 CON ...  \n",
       "73029                            Departamento en Palermo  \n",
       "26637    Tu depa, ingresa con $ 29.000 y cuotas en pesos  \n",
       "58175                              FORUM ALCORTA TRIPLEX  \n",
       "52789           Espectacular Penthouse en Forum Alcorta!  \n",
       "53048           Espectacular Penthouse en Forum Alcorta!  \n",
       "53116           Espectacular Penthouse en Forum Alcorta!  \n",
       "52788           Espectacular Penthouse en Forum Alcorta!  "
      ]
     },
     "execution_count": 68,
     "metadata": {},
     "output_type": "execute_result"
    }
   ],
   "source": [
    "# Visualizo los valores maximos con la poscion de los valores obtenidos en el punto anterior\n",
    "data_nuevo.loc[[24548,44685,44685,73029,26637,58175,52789,53048,53116,52788],['price_aprox_usd','property_type','Provincia','Barrio','description','title']]"
   ]
  },
  {
   "cell_type": "code",
   "execution_count": 69,
   "metadata": {},
   "outputs": [
    {
     "data": {
      "text/html": [
       "<div>\n",
       "<style scoped>\n",
       "    .dataframe tbody tr th:only-of-type {\n",
       "        vertical-align: middle;\n",
       "    }\n",
       "\n",
       "    .dataframe tbody tr th {\n",
       "        vertical-align: top;\n",
       "    }\n",
       "\n",
       "    .dataframe thead th {\n",
       "        text-align: right;\n",
       "    }\n",
       "</style>\n",
       "<table border=\"1\" class=\"dataframe\">\n",
       "  <thead>\n",
       "    <tr style=\"text-align: right;\">\n",
       "      <th></th>\n",
       "      <th>price_aprox_usd</th>\n",
       "      <th>property_type</th>\n",
       "      <th>Provincia</th>\n",
       "      <th>Barrio</th>\n",
       "      <th>description</th>\n",
       "      <th>title</th>\n",
       "    </tr>\n",
       "  </thead>\n",
       "  <tbody>\n",
       "    <tr>\n",
       "      <th>34666</th>\n",
       "      <td>4666.62</td>\n",
       "      <td>apartment</td>\n",
       "      <td>Santa Fe</td>\n",
       "      <td>Rosario</td>\n",
       "      <td>PLAN BAUEN PILAY 1 DORMITORIO SIN ADJUDICAR CO...</td>\n",
       "      <td>Departamento venta</td>\n",
       "    </tr>\n",
       "    <tr>\n",
       "      <th>52421</th>\n",
       "      <td>5000.00</td>\n",
       "      <td>apartment</td>\n",
       "      <td>Bs.As. G.B.A. Zona Oeste</td>\n",
       "      <td>Tres de Febrero</td>\n",
       "      <td>Corredor Responsable: Mauro Marvisi - CMCPSI 5...</td>\n",
       "      <td>MINIMO ADELANTO, SIN INTERÉS Y CUOTAS FIJAS.</td>\n",
       "    </tr>\n",
       "    <tr>\n",
       "      <th>4399</th>\n",
       "      <td>5000.00</td>\n",
       "      <td>apartment</td>\n",
       "      <td>Bs.As. G.B.A. Zona Oeste</td>\n",
       "      <td>Tres de Febrero</td>\n",
       "      <td>Corredor Responsable: Mauro Marvisi - CMCPSI 5...</td>\n",
       "      <td>SIN ADELANTO, SIN INTERÉS Y CUOTAS FIJAS.</td>\n",
       "    </tr>\n",
       "    <tr>\n",
       "      <th>57415</th>\n",
       "      <td>5047.53</td>\n",
       "      <td>apartment</td>\n",
       "      <td>Bs.As. G.B.A. Zona Norte</td>\n",
       "      <td>San Fernando</td>\n",
       "      <td>San Fernando: departamento de  dos ambientes e...</td>\n",
       "      <td>DEPARTAMENTO EN VENTA</td>\n",
       "    </tr>\n",
       "    <tr>\n",
       "      <th>57415</th>\n",
       "      <td>5047.53</td>\n",
       "      <td>apartment</td>\n",
       "      <td>Bs.As. G.B.A. Zona Norte</td>\n",
       "      <td>San Fernando</td>\n",
       "      <td>San Fernando: departamento de  dos ambientes e...</td>\n",
       "      <td>DEPARTAMENTO EN VENTA</td>\n",
       "    </tr>\n",
       "    <tr>\n",
       "      <th>27265</th>\n",
       "      <td>5047.53</td>\n",
       "      <td>apartment</td>\n",
       "      <td>Santa Fe</td>\n",
       "      <td>Rosario</td>\n",
       "      <td>Corredor Responsable: Jesica Tobio - CI Mat. N...</td>\n",
       "      <td>Venta Plan Coop. De Viviendas Rosario</td>\n",
       "    </tr>\n",
       "    <tr>\n",
       "      <th>108145</th>\n",
       "      <td>5103.61</td>\n",
       "      <td>apartment</td>\n",
       "      <td>Capital Federal</td>\n",
       "      <td>Palermo</td>\n",
       "      <td>CODIGO: 916-69637 ubicado en: SCALABRINI ORTIZ...</td>\n",
       "      <td>Departamento en Venta en Palermo Soho, Capital...</td>\n",
       "    </tr>\n",
       "    <tr>\n",
       "      <th>20133</th>\n",
       "      <td>5103.61</td>\n",
       "      <td>apartment</td>\n",
       "      <td>Capital Federal</td>\n",
       "      <td>Villa Crespo</td>\n",
       "      <td>CODIGO: 6375 ubicado en: Vera 1100 -  Publicad...</td>\n",
       "      <td>Venta 1 Ambiente al Frente Vera 1100</td>\n",
       "    </tr>\n",
       "    <tr>\n",
       "      <th>113692</th>\n",
       "      <td>5159.69</td>\n",
       "      <td>apartment</td>\n",
       "      <td>Bs.As. G.B.A. Zona Oeste</td>\n",
       "      <td>La Matanza</td>\n",
       "      <td>CODIGO:  ubicado en: Espora 900 -  Publicado p...</td>\n",
       "      <td>Espora 900</td>\n",
       "    </tr>\n",
       "    <tr>\n",
       "      <th>53678</th>\n",
       "      <td>5191.62</td>\n",
       "      <td>apartment</td>\n",
       "      <td>Capital Federal</td>\n",
       "      <td>Parque Chacabuco</td>\n",
       "      <td>DUEÑO VENDE 2amb C/amplio Patio\\t\\t* Amplio de...</td>\n",
       "      <td>Departamento venta</td>\n",
       "    </tr>\n",
       "    <tr>\n",
       "      <th>10190</th>\n",
       "      <td>10000.00</td>\n",
       "      <td>apartment</td>\n",
       "      <td>Buenos Aires Interior</td>\n",
       "      <td>General Alvarado</td>\n",
       "      <td>Departamento dos ambientes a 15 cuadras del ma...</td>\n",
       "      <td>Departamento en Venta Necochea / Necochea (A17...</td>\n",
       "    </tr>\n",
       "  </tbody>\n",
       "</table>\n",
       "</div>"
      ],
      "text/plain": [
       "        price_aprox_usd property_type                 Provincia  \\\n",
       "34666           4666.62     apartment                  Santa Fe   \n",
       "52421           5000.00     apartment  Bs.As. G.B.A. Zona Oeste   \n",
       "4399            5000.00     apartment  Bs.As. G.B.A. Zona Oeste   \n",
       "57415           5047.53     apartment  Bs.As. G.B.A. Zona Norte   \n",
       "57415           5047.53     apartment  Bs.As. G.B.A. Zona Norte   \n",
       "27265           5047.53     apartment                  Santa Fe   \n",
       "108145          5103.61     apartment           Capital Federal   \n",
       "20133           5103.61     apartment           Capital Federal   \n",
       "113692          5159.69     apartment  Bs.As. G.B.A. Zona Oeste   \n",
       "53678           5191.62     apartment           Capital Federal   \n",
       "10190          10000.00     apartment     Buenos Aires Interior   \n",
       "\n",
       "                  Barrio                                        description  \\\n",
       "34666            Rosario  PLAN BAUEN PILAY 1 DORMITORIO SIN ADJUDICAR CO...   \n",
       "52421    Tres de Febrero  Corredor Responsable: Mauro Marvisi - CMCPSI 5...   \n",
       "4399     Tres de Febrero  Corredor Responsable: Mauro Marvisi - CMCPSI 5...   \n",
       "57415       San Fernando  San Fernando: departamento de  dos ambientes e...   \n",
       "57415       San Fernando  San Fernando: departamento de  dos ambientes e...   \n",
       "27265            Rosario  Corredor Responsable: Jesica Tobio - CI Mat. N...   \n",
       "108145           Palermo  CODIGO: 916-69637 ubicado en: SCALABRINI ORTIZ...   \n",
       "20133       Villa Crespo  CODIGO: 6375 ubicado en: Vera 1100 -  Publicad...   \n",
       "113692        La Matanza  CODIGO:  ubicado en: Espora 900 -  Publicado p...   \n",
       "53678   Parque Chacabuco  DUEÑO VENDE 2amb C/amplio Patio\\t\\t* Amplio de...   \n",
       "10190   General Alvarado  Departamento dos ambientes a 15 cuadras del ma...   \n",
       "\n",
       "                                                    title  \n",
       "34666                                  Departamento venta  \n",
       "52421        MINIMO ADELANTO, SIN INTERÉS Y CUOTAS FIJAS.  \n",
       "4399            SIN ADELANTO, SIN INTERÉS Y CUOTAS FIJAS.  \n",
       "57415                               DEPARTAMENTO EN VENTA  \n",
       "57415                               DEPARTAMENTO EN VENTA  \n",
       "27265               Venta Plan Coop. De Viviendas Rosario  \n",
       "108145  Departamento en Venta en Palermo Soho, Capital...  \n",
       "20133                Venta 1 Ambiente al Frente Vera 1100  \n",
       "113692                                         Espora 900  \n",
       "53678                                  Departamento venta  \n",
       "10190   Departamento en Venta Necochea / Necochea (A17...  "
      ]
     },
     "execution_count": 69,
     "metadata": {},
     "output_type": "execute_result"
    }
   ],
   "source": [
    "# Visualizo los valores minimos con la poscion de los valores obtenidos en el sort_values\n",
    "data_nuevo.loc[[34666,52421,4399,57415,57415,27265,108145,20133,113692,53678,10190],['price_aprox_usd','property_type','Provincia','Barrio','description','title']]"
   ]
  },
  {
   "cell_type": "markdown",
   "metadata": {},
   "source": [
    "### 3.4.2 Calculamos y filtramos los outliers de los valores minimos y maximos"
   ]
  },
  {
   "cell_type": "markdown",
   "metadata": {},
   "source": [
    "**Alternativa 1**: Filtrar outliers de acuerdo a los valores de corte definidos\n",
    "\n",
    "En funcion de la informacion obtenida en el punto anterior contemplamos el criterio de definicion de valores de corte para establecer los outliers y posteriormente eliminar los mismos del dataset. Los criterios de definicion que establcemos son:\n",
    "\n",
    "* Valores minimos: Propiedades con valores inferiores a USD 10.000\n",
    "* Valores maximos: Propiedad con valor de USD 46.545.445"
   ]
  },
  {
   "cell_type": "code",
   "execution_count": 70,
   "metadata": {},
   "outputs": [],
   "source": [
    "# Filtro el outlier maximo reemplazando al mismo por NaN\n",
    "data_nuevo.loc[24548,'price_aprox_usd'] = np.NaN"
   ]
  },
  {
   "cell_type": "code",
   "execution_count": 71,
   "metadata": {},
   "outputs": [
    {
     "name": "stdout",
     "output_type": "stream",
     "text": [
      "107 \n",
      "\n"
     ]
    }
   ],
   "source": [
    "# Calculo la boolean mask para los valores de corte minimos\n",
    "price_usd_min_mask = (data_nuevo.price_aprox_usd < 10000)\n",
    "\n",
    "# Guardo los outliers minimos en variables solo a efectos de visualizar\n",
    "price_usd_min = data_nuevo.loc[price_usd_min_mask]\n",
    "\n",
    "print(price_usd_min_mask.sum(),'\\n')"
   ]
  },
  {
   "cell_type": "code",
   "execution_count": 72,
   "metadata": {},
   "outputs": [
    {
     "data": {
      "text/plain": [
       "20411"
      ]
     },
     "execution_count": 72,
     "metadata": {},
     "output_type": "execute_result"
    }
   ],
   "source": [
    "# Visualizo los missings values antes de la operacion\n",
    "data_nuevo.price_aprox_usd.isnull().sum()"
   ]
  },
  {
   "cell_type": "code",
   "execution_count": 73,
   "metadata": {},
   "outputs": [
    {
     "data": {
      "text/html": [
       "<div>\n",
       "<style scoped>\n",
       "    .dataframe tbody tr th:only-of-type {\n",
       "        vertical-align: middle;\n",
       "    }\n",
       "\n",
       "    .dataframe tbody tr th {\n",
       "        vertical-align: top;\n",
       "    }\n",
       "\n",
       "    .dataframe thead th {\n",
       "        text-align: right;\n",
       "    }\n",
       "</style>\n",
       "<table border=\"1\" class=\"dataframe\">\n",
       "  <thead>\n",
       "    <tr style=\"text-align: right;\">\n",
       "      <th></th>\n",
       "      <th>Unnamed: 0</th>\n",
       "      <th>operation</th>\n",
       "      <th>property_type</th>\n",
       "      <th>place_name</th>\n",
       "      <th>place_with_parent_names</th>\n",
       "      <th>country_name</th>\n",
       "      <th>state_name</th>\n",
       "      <th>geonames_id</th>\n",
       "      <th>lat-lon</th>\n",
       "      <th>lat</th>\n",
       "      <th>...</th>\n",
       "      <th>floor</th>\n",
       "      <th>rooms</th>\n",
       "      <th>expenses</th>\n",
       "      <th>properati_url</th>\n",
       "      <th>description</th>\n",
       "      <th>title</th>\n",
       "      <th>image_thumbnail</th>\n",
       "      <th>Provincia</th>\n",
       "      <th>Barrio</th>\n",
       "      <th>m2_desc</th>\n",
       "    </tr>\n",
       "  </thead>\n",
       "  <tbody>\n",
       "    <tr>\n",
       "      <th>59881</th>\n",
       "      <td>59881</td>\n",
       "      <td>sell</td>\n",
       "      <td>apartment</td>\n",
       "      <td>Rosario</td>\n",
       "      <td>|Argentina|Santa Fe|Rosario|</td>\n",
       "      <td>Argentina</td>\n",
       "      <td>Santa Fe</td>\n",
       "      <td>3838574.0</td>\n",
       "      <td>-32.9528056,-60.6397661</td>\n",
       "      <td>-32.952806</td>\n",
       "      <td>...</td>\n",
       "      <td>NaN</td>\n",
       "      <td>7.0</td>\n",
       "      <td>NaN</td>\n",
       "      <td>http://www.properati.com.ar/19y63_venta_depart...</td>\n",
       "      <td>Se vende plan de departamento de 3 dormitorios...</td>\n",
       "      <td>Departamento venta</td>\n",
       "      <td>https://thumbs4.properati.com/4/-i9GWZ9EtUPmbF...</td>\n",
       "      <td>Santa Fe</td>\n",
       "      <td>Rosario</td>\n",
       "      <td>NaN</td>\n",
       "    </tr>\n",
       "    <tr>\n",
       "      <th>115223</th>\n",
       "      <td>115223</td>\n",
       "      <td>sell</td>\n",
       "      <td>apartment</td>\n",
       "      <td>Córdoba</td>\n",
       "      <td>|Argentina|Córdoba|Córdoba|</td>\n",
       "      <td>Argentina</td>\n",
       "      <td>Córdoba</td>\n",
       "      <td>3860259.0</td>\n",
       "      <td>-31.426905,-64.230881</td>\n",
       "      <td>-31.426905</td>\n",
       "      <td>...</td>\n",
       "      <td>NaN</td>\n",
       "      <td>NaN</td>\n",
       "      <td>NaN</td>\n",
       "      <td>http://www.properati.com.ar/1cawf_venta_depart...</td>\n",
       "      <td>Liquido plan de depto de 1 dormitorio con coch...</td>\n",
       "      <td>Euro Mayor Antigua Cerveceria.</td>\n",
       "      <td>https://thumbs4.properati.com/8/G9_NwRdLMcx9NI...</td>\n",
       "      <td>Córdoba</td>\n",
       "      <td>Córdoba</td>\n",
       "      <td>NaN</td>\n",
       "    </tr>\n",
       "    <tr>\n",
       "      <th>115717</th>\n",
       "      <td>115717</td>\n",
       "      <td>sell</td>\n",
       "      <td>apartment</td>\n",
       "      <td>Córdoba</td>\n",
       "      <td>|Argentina|Córdoba|Córdoba|</td>\n",
       "      <td>Argentina</td>\n",
       "      <td>Córdoba</td>\n",
       "      <td>3860259.0</td>\n",
       "      <td>NaN</td>\n",
       "      <td>NaN</td>\n",
       "      <td>...</td>\n",
       "      <td>NaN</td>\n",
       "      <td>NaN</td>\n",
       "      <td>NaN</td>\n",
       "      <td>http://www.properati.com.ar/1cbi8_venta_depart...</td>\n",
       "      <td>3d + dep. 3b liv/com coc/com Calef. x rad. Bal...</td>\n",
       "      <td>VENDO - Nva. Cba 3d. s/Bs. As. 400</td>\n",
       "      <td>https://thumbs4.properati.com/7/jn-ClncZLIXkzu...</td>\n",
       "      <td>Córdoba</td>\n",
       "      <td>Córdoba</td>\n",
       "      <td>NaN</td>\n",
       "    </tr>\n",
       "    <tr>\n",
       "      <th>9665</th>\n",
       "      <td>9665</td>\n",
       "      <td>sell</td>\n",
       "      <td>house</td>\n",
       "      <td>Ingeniero Pablo Nogués</td>\n",
       "      <td>|Argentina|Bs.As. G.B.A. Zona Norte|Malvinas A...</td>\n",
       "      <td>Argentina</td>\n",
       "      <td>Bs.As. G.B.A. Zona Norte</td>\n",
       "      <td>NaN</td>\n",
       "      <td>NaN</td>\n",
       "      <td>NaN</td>\n",
       "      <td>...</td>\n",
       "      <td>NaN</td>\n",
       "      <td>NaN</td>\n",
       "      <td>NaN</td>\n",
       "      <td>http://www.properati.com.ar/16599_venta_casa_i...</td>\n",
       "      <td>CODIGO: 7 ubicado en: Juana Manuela Gorritti -...</td>\n",
       "      <td>Casa en Venta con Anticipo y Cuotas en Tortugu...</td>\n",
       "      <td>https://thumbs4.properati.com/6/baljQaRJQoHBNV...</td>\n",
       "      <td>Bs.As. G.B.A. Zona Norte</td>\n",
       "      <td>Malvinas Argentinas</td>\n",
       "      <td>200</td>\n",
       "    </tr>\n",
       "    <tr>\n",
       "      <th>26932</th>\n",
       "      <td>26932</td>\n",
       "      <td>sell</td>\n",
       "      <td>apartment</td>\n",
       "      <td>Flores</td>\n",
       "      <td>|Argentina|Capital Federal|Flores|</td>\n",
       "      <td>Argentina</td>\n",
       "      <td>Capital Federal</td>\n",
       "      <td>3433918.0</td>\n",
       "      <td>-34.6324508,-58.4706827</td>\n",
       "      <td>-34.632451</td>\n",
       "      <td>...</td>\n",
       "      <td>NaN</td>\n",
       "      <td>2.0</td>\n",
       "      <td>NaN</td>\n",
       "      <td>http://www.properati.com.ar/17rrw_venta_depart...</td>\n",
       "      <td>Excelente Metros de Subte L?nea *A*  Frente Su...</td>\n",
       "      <td>metros de subte linea A  financiacion BANCARIA</td>\n",
       "      <td>https://thumbs4.properati.com/2/_je5QjEsSV4aFn...</td>\n",
       "      <td>Capital Federal</td>\n",
       "      <td>Flores</td>\n",
       "      <td>NaN</td>\n",
       "    </tr>\n",
       "    <tr>\n",
       "      <th>...</th>\n",
       "      <td>...</td>\n",
       "      <td>...</td>\n",
       "      <td>...</td>\n",
       "      <td>...</td>\n",
       "      <td>...</td>\n",
       "      <td>...</td>\n",
       "      <td>...</td>\n",
       "      <td>...</td>\n",
       "      <td>...</td>\n",
       "      <td>...</td>\n",
       "      <td>...</td>\n",
       "      <td>...</td>\n",
       "      <td>...</td>\n",
       "      <td>...</td>\n",
       "      <td>...</td>\n",
       "      <td>...</td>\n",
       "      <td>...</td>\n",
       "      <td>...</td>\n",
       "      <td>...</td>\n",
       "      <td>...</td>\n",
       "      <td>...</td>\n",
       "    </tr>\n",
       "    <tr>\n",
       "      <th>52421</th>\n",
       "      <td>52421</td>\n",
       "      <td>sell</td>\n",
       "      <td>apartment</td>\n",
       "      <td>Caseros</td>\n",
       "      <td>|Argentina|Bs.As. G.B.A. Zona Oeste|Tres de Fe...</td>\n",
       "      <td>Argentina</td>\n",
       "      <td>Bs.As. G.B.A. Zona Oeste</td>\n",
       "      <td>3862356.0</td>\n",
       "      <td>-34.602217,-58.564221</td>\n",
       "      <td>-34.602217</td>\n",
       "      <td>...</td>\n",
       "      <td>NaN</td>\n",
       "      <td>3.0</td>\n",
       "      <td>NaN</td>\n",
       "      <td>http://www.properati.com.ar/19j3x_venta_depart...</td>\n",
       "      <td>Corredor Responsable: Mauro Marvisi - CMCPSI 5...</td>\n",
       "      <td>MINIMO ADELANTO, SIN INTERÉS Y CUOTAS FIJAS.</td>\n",
       "      <td>https://thumbs4.properati.com/0/2V1QeEncfKcbhX...</td>\n",
       "      <td>Bs.As. G.B.A. Zona Oeste</td>\n",
       "      <td>Tres de Febrero</td>\n",
       "      <td>NaN</td>\n",
       "    </tr>\n",
       "    <tr>\n",
       "      <th>4399</th>\n",
       "      <td>4399</td>\n",
       "      <td>sell</td>\n",
       "      <td>apartment</td>\n",
       "      <td>Caseros</td>\n",
       "      <td>|Argentina|Bs.As. G.B.A. Zona Oeste|Tres de Fe...</td>\n",
       "      <td>Argentina</td>\n",
       "      <td>Bs.As. G.B.A. Zona Oeste</td>\n",
       "      <td>3862356.0</td>\n",
       "      <td>-34.609431,-58.566785</td>\n",
       "      <td>-34.609431</td>\n",
       "      <td>...</td>\n",
       "      <td>NaN</td>\n",
       "      <td>2.0</td>\n",
       "      <td>NaN</td>\n",
       "      <td>http://www.properati.com.ar/15mqu_venta_depart...</td>\n",
       "      <td>Corredor Responsable: Mauro Marvisi - CMCPSI 5...</td>\n",
       "      <td>SIN ADELANTO, SIN INTERÉS Y CUOTAS FIJAS.</td>\n",
       "      <td>https://thumbs4.properati.com/4/6GKCqfr3Xa7F2P...</td>\n",
       "      <td>Bs.As. G.B.A. Zona Oeste</td>\n",
       "      <td>Tres de Febrero</td>\n",
       "      <td>NaN</td>\n",
       "    </tr>\n",
       "    <tr>\n",
       "      <th>59875</th>\n",
       "      <td>59875</td>\n",
       "      <td>sell</td>\n",
       "      <td>store</td>\n",
       "      <td>Mar del Plata</td>\n",
       "      <td>|Argentina|Buenos Aires Costa Atlántica|Mar de...</td>\n",
       "      <td>Argentina</td>\n",
       "      <td>Buenos Aires Costa Atlántica</td>\n",
       "      <td>3430863.0</td>\n",
       "      <td>-37.9997575,-57.5509063</td>\n",
       "      <td>-37.999758</td>\n",
       "      <td>...</td>\n",
       "      <td>NaN</td>\n",
       "      <td>1.0</td>\n",
       "      <td>NaN</td>\n",
       "      <td>http://www.properati.com.ar/19y3o_venta_local_...</td>\n",
       "      <td>Exelente oportunidad. Venta de fondo de comerc...</td>\n",
       "      <td>Local venta</td>\n",
       "      <td>https://thumbs4.properati.com/3/3OYvzzHcY5S0hJ...</td>\n",
       "      <td>Buenos Aires Costa Atlántica</td>\n",
       "      <td>Mar del Plata</td>\n",
       "      <td>*60</td>\n",
       "    </tr>\n",
       "    <tr>\n",
       "      <th>34666</th>\n",
       "      <td>34666</td>\n",
       "      <td>sell</td>\n",
       "      <td>apartment</td>\n",
       "      <td>Rosario</td>\n",
       "      <td>|Argentina|Santa Fe|Rosario|</td>\n",
       "      <td>Argentina</td>\n",
       "      <td>Santa Fe</td>\n",
       "      <td>3838574.0</td>\n",
       "      <td>-38.416097,-63.616672</td>\n",
       "      <td>-38.416097</td>\n",
       "      <td>...</td>\n",
       "      <td>NaN</td>\n",
       "      <td>2.0</td>\n",
       "      <td>NaN</td>\n",
       "      <td>http://www.properati.com.ar/18cia_venta_depart...</td>\n",
       "      <td>PLAN BAUEN PILAY 1 DORMITORIO SIN ADJUDICAR CO...</td>\n",
       "      <td>Departamento venta</td>\n",
       "      <td>https://thumbs4.properati.com/5/t7GjDmf0BY5oX_...</td>\n",
       "      <td>Santa Fe</td>\n",
       "      <td>Rosario</td>\n",
       "      <td>NaN</td>\n",
       "    </tr>\n",
       "    <tr>\n",
       "      <th>9761</th>\n",
       "      <td>9761</td>\n",
       "      <td>sell</td>\n",
       "      <td>house</td>\n",
       "      <td>Córdoba</td>\n",
       "      <td>|Argentina|Córdoba|</td>\n",
       "      <td>Argentina</td>\n",
       "      <td>Córdoba</td>\n",
       "      <td>3860255.0</td>\n",
       "      <td>4.5458426,-75.67893099</td>\n",
       "      <td>4.545843</td>\n",
       "      <td>...</td>\n",
       "      <td>2.0</td>\n",
       "      <td>3.0</td>\n",
       "      <td>NaN</td>\n",
       "      <td>http://www.properati.com.ar/165i3_venta_casa_c...</td>\n",
       "      <td>Casa en Venta de 2 dorm. en Armenia</td>\n",
       "      <td>SE VENDE CASA EN EL BARRIO EL LIMONAR</td>\n",
       "      <td>https://thumbs4.properati.com/2/2huBKPZv0RyWda...</td>\n",
       "      <td>Córdoba</td>\n",
       "      <td></td>\n",
       "      <td>NaN</td>\n",
       "    </tr>\n",
       "  </tbody>\n",
       "</table>\n",
       "<p>107 rows × 29 columns</p>\n",
       "</div>"
      ],
      "text/plain": [
       "        Unnamed: 0 operation property_type              place_name  \\\n",
       "59881        59881      sell     apartment                 Rosario   \n",
       "115223      115223      sell     apartment                 Córdoba   \n",
       "115717      115717      sell     apartment                 Córdoba   \n",
       "9665          9665      sell         house  Ingeniero Pablo Nogués   \n",
       "26932        26932      sell     apartment                  Flores   \n",
       "...            ...       ...           ...                     ...   \n",
       "52421        52421      sell     apartment                 Caseros   \n",
       "4399          4399      sell     apartment                 Caseros   \n",
       "59875        59875      sell         store           Mar del Plata   \n",
       "34666        34666      sell     apartment                 Rosario   \n",
       "9761          9761      sell         house                 Córdoba   \n",
       "\n",
       "                                  place_with_parent_names country_name  \\\n",
       "59881                        |Argentina|Santa Fe|Rosario|    Argentina   \n",
       "115223                        |Argentina|Córdoba|Córdoba|    Argentina   \n",
       "115717                        |Argentina|Córdoba|Córdoba|    Argentina   \n",
       "9665    |Argentina|Bs.As. G.B.A. Zona Norte|Malvinas A...    Argentina   \n",
       "26932                  |Argentina|Capital Federal|Flores|    Argentina   \n",
       "...                                                   ...          ...   \n",
       "52421   |Argentina|Bs.As. G.B.A. Zona Oeste|Tres de Fe...    Argentina   \n",
       "4399    |Argentina|Bs.As. G.B.A. Zona Oeste|Tres de Fe...    Argentina   \n",
       "59875   |Argentina|Buenos Aires Costa Atlántica|Mar de...    Argentina   \n",
       "34666                        |Argentina|Santa Fe|Rosario|    Argentina   \n",
       "9761                                  |Argentina|Córdoba|    Argentina   \n",
       "\n",
       "                          state_name  geonames_id                  lat-lon  \\\n",
       "59881                       Santa Fe    3838574.0  -32.9528056,-60.6397661   \n",
       "115223                       Córdoba    3860259.0    -31.426905,-64.230881   \n",
       "115717                       Córdoba    3860259.0                      NaN   \n",
       "9665        Bs.As. G.B.A. Zona Norte          NaN                      NaN   \n",
       "26932                Capital Federal    3433918.0  -34.6324508,-58.4706827   \n",
       "...                              ...          ...                      ...   \n",
       "52421       Bs.As. G.B.A. Zona Oeste    3862356.0    -34.602217,-58.564221   \n",
       "4399        Bs.As. G.B.A. Zona Oeste    3862356.0    -34.609431,-58.566785   \n",
       "59875   Buenos Aires Costa Atlántica    3430863.0  -37.9997575,-57.5509063   \n",
       "34666                       Santa Fe    3838574.0    -38.416097,-63.616672   \n",
       "9761                         Córdoba    3860255.0   4.5458426,-75.67893099   \n",
       "\n",
       "              lat  ...  floor  rooms expenses  \\\n",
       "59881  -32.952806  ...    NaN    7.0      NaN   \n",
       "115223 -31.426905  ...    NaN    NaN      NaN   \n",
       "115717        NaN  ...    NaN    NaN      NaN   \n",
       "9665          NaN  ...    NaN    NaN      NaN   \n",
       "26932  -34.632451  ...    NaN    2.0      NaN   \n",
       "...           ...  ...    ...    ...      ...   \n",
       "52421  -34.602217  ...    NaN    3.0      NaN   \n",
       "4399   -34.609431  ...    NaN    2.0      NaN   \n",
       "59875  -37.999758  ...    NaN    1.0      NaN   \n",
       "34666  -38.416097  ...    NaN    2.0      NaN   \n",
       "9761     4.545843  ...    2.0    3.0      NaN   \n",
       "\n",
       "                                            properati_url  \\\n",
       "59881   http://www.properati.com.ar/19y63_venta_depart...   \n",
       "115223  http://www.properati.com.ar/1cawf_venta_depart...   \n",
       "115717  http://www.properati.com.ar/1cbi8_venta_depart...   \n",
       "9665    http://www.properati.com.ar/16599_venta_casa_i...   \n",
       "26932   http://www.properati.com.ar/17rrw_venta_depart...   \n",
       "...                                                   ...   \n",
       "52421   http://www.properati.com.ar/19j3x_venta_depart...   \n",
       "4399    http://www.properati.com.ar/15mqu_venta_depart...   \n",
       "59875   http://www.properati.com.ar/19y3o_venta_local_...   \n",
       "34666   http://www.properati.com.ar/18cia_venta_depart...   \n",
       "9761    http://www.properati.com.ar/165i3_venta_casa_c...   \n",
       "\n",
       "                                              description  \\\n",
       "59881   Se vende plan de departamento de 3 dormitorios...   \n",
       "115223  Liquido plan de depto de 1 dormitorio con coch...   \n",
       "115717  3d + dep. 3b liv/com coc/com Calef. x rad. Bal...   \n",
       "9665    CODIGO: 7 ubicado en: Juana Manuela Gorritti -...   \n",
       "26932   Excelente Metros de Subte L?nea *A*  Frente Su...   \n",
       "...                                                   ...   \n",
       "52421   Corredor Responsable: Mauro Marvisi - CMCPSI 5...   \n",
       "4399    Corredor Responsable: Mauro Marvisi - CMCPSI 5...   \n",
       "59875   Exelente oportunidad. Venta de fondo de comerc...   \n",
       "34666   PLAN BAUEN PILAY 1 DORMITORIO SIN ADJUDICAR CO...   \n",
       "9761                  Casa en Venta de 2 dorm. en Armenia   \n",
       "\n",
       "                                                    title  \\\n",
       "59881                                  Departamento venta   \n",
       "115223                     Euro Mayor Antigua Cerveceria.   \n",
       "115717                 VENDO - Nva. Cba 3d. s/Bs. As. 400   \n",
       "9665    Casa en Venta con Anticipo y Cuotas en Tortugu...   \n",
       "26932      metros de subte linea A  financiacion BANCARIA   \n",
       "...                                                   ...   \n",
       "52421        MINIMO ADELANTO, SIN INTERÉS Y CUOTAS FIJAS.   \n",
       "4399            SIN ADELANTO, SIN INTERÉS Y CUOTAS FIJAS.   \n",
       "59875                                         Local venta   \n",
       "34666                                  Departamento venta   \n",
       "9761                SE VENDE CASA EN EL BARRIO EL LIMONAR   \n",
       "\n",
       "                                          image_thumbnail  \\\n",
       "59881   https://thumbs4.properati.com/4/-i9GWZ9EtUPmbF...   \n",
       "115223  https://thumbs4.properati.com/8/G9_NwRdLMcx9NI...   \n",
       "115717  https://thumbs4.properati.com/7/jn-ClncZLIXkzu...   \n",
       "9665    https://thumbs4.properati.com/6/baljQaRJQoHBNV...   \n",
       "26932   https://thumbs4.properati.com/2/_je5QjEsSV4aFn...   \n",
       "...                                                   ...   \n",
       "52421   https://thumbs4.properati.com/0/2V1QeEncfKcbhX...   \n",
       "4399    https://thumbs4.properati.com/4/6GKCqfr3Xa7F2P...   \n",
       "59875   https://thumbs4.properati.com/3/3OYvzzHcY5S0hJ...   \n",
       "34666   https://thumbs4.properati.com/5/t7GjDmf0BY5oX_...   \n",
       "9761    https://thumbs4.properati.com/2/2huBKPZv0RyWda...   \n",
       "\n",
       "                           Provincia               Barrio  m2_desc  \n",
       "59881                       Santa Fe              Rosario      NaN  \n",
       "115223                       Córdoba              Córdoba      NaN  \n",
       "115717                       Córdoba              Córdoba      NaN  \n",
       "9665        Bs.As. G.B.A. Zona Norte  Malvinas Argentinas      200  \n",
       "26932                Capital Federal               Flores      NaN  \n",
       "...                              ...                  ...      ...  \n",
       "52421       Bs.As. G.B.A. Zona Oeste      Tres de Febrero      NaN  \n",
       "4399        Bs.As. G.B.A. Zona Oeste      Tres de Febrero      NaN  \n",
       "59875   Buenos Aires Costa Atlántica        Mar del Plata      *60  \n",
       "34666                       Santa Fe              Rosario      NaN  \n",
       "9761                         Córdoba                           NaN  \n",
       "\n",
       "[107 rows x 29 columns]"
      ]
     },
     "execution_count": 73,
     "metadata": {},
     "output_type": "execute_result"
    }
   ],
   "source": [
    "price_usd_min.sort_values(by = 'price_aprox_usd', ascending = False)"
   ]
  },
  {
   "cell_type": "code",
   "execution_count": 74,
   "metadata": {},
   "outputs": [],
   "source": [
    "# Calculo la boolean mask para excluir outliers en surface_total_in_m2\n",
    "not_outliers_price_min = np.logical_not(price_usd_min_mask)\n",
    "\n",
    "# Filtro surface_total_in_m2 excluyendo los outliers\n",
    "data_nuevo['price_aprox_usd'] = data_nuevo.price_aprox_usd[not_outliers_price_min]"
   ]
  },
  {
   "cell_type": "code",
   "execution_count": 75,
   "metadata": {},
   "outputs": [
    {
     "data": {
      "text/plain": [
       "nan"
      ]
     },
     "execution_count": 75,
     "metadata": {},
     "output_type": "execute_result"
    }
   ],
   "source": [
    "# Chequeo que los outliers hayan sido correctamente filtrados\n",
    "data_nuevo.loc[24548,'price_aprox_usd']"
   ]
  },
  {
   "cell_type": "code",
   "execution_count": 76,
   "metadata": {},
   "outputs": [
    {
     "data": {
      "text/html": [
       "<div>\n",
       "<style scoped>\n",
       "    .dataframe tbody tr th:only-of-type {\n",
       "        vertical-align: middle;\n",
       "    }\n",
       "\n",
       "    .dataframe tbody tr th {\n",
       "        vertical-align: top;\n",
       "    }\n",
       "\n",
       "    .dataframe thead th {\n",
       "        text-align: right;\n",
       "    }\n",
       "</style>\n",
       "<table border=\"1\" class=\"dataframe\">\n",
       "  <thead>\n",
       "    <tr style=\"text-align: right;\">\n",
       "      <th></th>\n",
       "      <th>Unnamed: 0</th>\n",
       "      <th>operation</th>\n",
       "      <th>property_type</th>\n",
       "      <th>place_name</th>\n",
       "      <th>place_with_parent_names</th>\n",
       "      <th>country_name</th>\n",
       "      <th>state_name</th>\n",
       "      <th>geonames_id</th>\n",
       "      <th>lat-lon</th>\n",
       "      <th>lat</th>\n",
       "      <th>...</th>\n",
       "      <th>floor</th>\n",
       "      <th>rooms</th>\n",
       "      <th>expenses</th>\n",
       "      <th>properati_url</th>\n",
       "      <th>description</th>\n",
       "      <th>title</th>\n",
       "      <th>image_thumbnail</th>\n",
       "      <th>Provincia</th>\n",
       "      <th>Barrio</th>\n",
       "      <th>m2_desc</th>\n",
       "    </tr>\n",
       "  </thead>\n",
       "  <tbody>\n",
       "    <tr>\n",
       "      <th>836</th>\n",
       "      <td>836</td>\n",
       "      <td>sell</td>\n",
       "      <td>store</td>\n",
       "      <td>Tolosa</td>\n",
       "      <td>|Argentina|Bs.As. G.B.A. Zona Sur|La Plata|Tol...</td>\n",
       "      <td>Argentina</td>\n",
       "      <td>Bs.As. G.B.A. Zona Sur</td>\n",
       "      <td>3427714.0</td>\n",
       "      <td>-34.8866047479,-57.9694639519</td>\n",
       "      <td>-34.886605</td>\n",
       "      <td>...</td>\n",
       "      <td>NaN</td>\n",
       "      <td>1.0</td>\n",
       "      <td>NaN</td>\n",
       "      <td>http://www.properati.com.ar/15g6s_venta_local_...</td>\n",
       "      <td>Venta de Negocio  en Tolosa, La Plata116 entre...</td>\n",
       "      <td>NEGOCIO EN VENTA</td>\n",
       "      <td>https://thumbs4.properati.com/9/DHgL8aLPFIi1RC...</td>\n",
       "      <td>Bs.As. G.B.A. Zona Sur</td>\n",
       "      <td>La Plata</td>\n",
       "      <td>NaN</td>\n",
       "    </tr>\n",
       "    <tr>\n",
       "      <th>4399</th>\n",
       "      <td>4399</td>\n",
       "      <td>sell</td>\n",
       "      <td>apartment</td>\n",
       "      <td>Caseros</td>\n",
       "      <td>|Argentina|Bs.As. G.B.A. Zona Oeste|Tres de Fe...</td>\n",
       "      <td>Argentina</td>\n",
       "      <td>Bs.As. G.B.A. Zona Oeste</td>\n",
       "      <td>3862356.0</td>\n",
       "      <td>-34.609431,-58.566785</td>\n",
       "      <td>-34.609431</td>\n",
       "      <td>...</td>\n",
       "      <td>NaN</td>\n",
       "      <td>2.0</td>\n",
       "      <td>NaN</td>\n",
       "      <td>http://www.properati.com.ar/15mqu_venta_depart...</td>\n",
       "      <td>Corredor Responsable: Mauro Marvisi - CMCPSI 5...</td>\n",
       "      <td>SIN ADELANTO, SIN INTERÉS Y CUOTAS FIJAS.</td>\n",
       "      <td>https://thumbs4.properati.com/4/6GKCqfr3Xa7F2P...</td>\n",
       "      <td>Bs.As. G.B.A. Zona Oeste</td>\n",
       "      <td>Tres de Febrero</td>\n",
       "      <td>NaN</td>\n",
       "    </tr>\n",
       "    <tr>\n",
       "      <th>6720</th>\n",
       "      <td>6720</td>\n",
       "      <td>sell</td>\n",
       "      <td>apartment</td>\n",
       "      <td>Rosario</td>\n",
       "      <td>|Argentina|Santa Fe|Rosario|</td>\n",
       "      <td>Argentina</td>\n",
       "      <td>Santa Fe</td>\n",
       "      <td>3838574.0</td>\n",
       "      <td>-32.9100582,-60.6874369</td>\n",
       "      <td>-32.910058</td>\n",
       "      <td>...</td>\n",
       "      <td>NaN</td>\n",
       "      <td>2.0</td>\n",
       "      <td>NaN</td>\n",
       "      <td>http://www.properati.com.ar/15vcm_venta_depart...</td>\n",
       "      <td>BV Rondeau / Nancen: A metros del Shoping Port...</td>\n",
       "      <td>Venta departamento de 1 dormitorios a estrenar...</td>\n",
       "      <td>https://thumbs4.properati.com/9/LbRdgRWsLUiDR5...</td>\n",
       "      <td>Santa Fe</td>\n",
       "      <td>Rosario</td>\n",
       "      <td>37,29</td>\n",
       "    </tr>\n",
       "    <tr>\n",
       "      <th>7440</th>\n",
       "      <td>7440</td>\n",
       "      <td>sell</td>\n",
       "      <td>house</td>\n",
       "      <td>Mar del Plata</td>\n",
       "      <td>|Argentina|Buenos Aires Costa Atlántica|Mar de...</td>\n",
       "      <td>Argentina</td>\n",
       "      <td>Buenos Aires Costa Atlántica</td>\n",
       "      <td>3430863.0</td>\n",
       "      <td>-38.0947287121,-57.5552277112</td>\n",
       "      <td>-38.094729</td>\n",
       "      <td>...</td>\n",
       "      <td>NaN</td>\n",
       "      <td>4.0</td>\n",
       "      <td>NaN</td>\n",
       "      <td>http://www.properati.com.ar/15xy8_venta_casa_m...</td>\n",
       "      <td>EXCELENTE CABAÑA 3 DORM, 2 BAÑOS, PARQUE, A 30...</td>\n",
       "      <td>CABAÑA 4 AMB. ALFAR</td>\n",
       "      <td>https://thumbs4.properati.com/6/fzHuWELA_ZurQe...</td>\n",
       "      <td>Buenos Aires Costa Atlántica</td>\n",
       "      <td>Mar del Plata</td>\n",
       "      <td>NaN</td>\n",
       "    </tr>\n",
       "    <tr>\n",
       "      <th>9665</th>\n",
       "      <td>9665</td>\n",
       "      <td>sell</td>\n",
       "      <td>house</td>\n",
       "      <td>Ingeniero Pablo Nogués</td>\n",
       "      <td>|Argentina|Bs.As. G.B.A. Zona Norte|Malvinas A...</td>\n",
       "      <td>Argentina</td>\n",
       "      <td>Bs.As. G.B.A. Zona Norte</td>\n",
       "      <td>NaN</td>\n",
       "      <td>NaN</td>\n",
       "      <td>NaN</td>\n",
       "      <td>...</td>\n",
       "      <td>NaN</td>\n",
       "      <td>NaN</td>\n",
       "      <td>NaN</td>\n",
       "      <td>http://www.properati.com.ar/16599_venta_casa_i...</td>\n",
       "      <td>CODIGO: 7 ubicado en: Juana Manuela Gorritti -...</td>\n",
       "      <td>Casa en Venta con Anticipo y Cuotas en Tortugu...</td>\n",
       "      <td>https://thumbs4.properati.com/6/baljQaRJQoHBNV...</td>\n",
       "      <td>Bs.As. G.B.A. Zona Norte</td>\n",
       "      <td>Malvinas Argentinas</td>\n",
       "      <td>200</td>\n",
       "    </tr>\n",
       "    <tr>\n",
       "      <th>...</th>\n",
       "      <td>...</td>\n",
       "      <td>...</td>\n",
       "      <td>...</td>\n",
       "      <td>...</td>\n",
       "      <td>...</td>\n",
       "      <td>...</td>\n",
       "      <td>...</td>\n",
       "      <td>...</td>\n",
       "      <td>...</td>\n",
       "      <td>...</td>\n",
       "      <td>...</td>\n",
       "      <td>...</td>\n",
       "      <td>...</td>\n",
       "      <td>...</td>\n",
       "      <td>...</td>\n",
       "      <td>...</td>\n",
       "      <td>...</td>\n",
       "      <td>...</td>\n",
       "      <td>...</td>\n",
       "      <td>...</td>\n",
       "      <td>...</td>\n",
       "    </tr>\n",
       "    <tr>\n",
       "      <th>115717</th>\n",
       "      <td>115717</td>\n",
       "      <td>sell</td>\n",
       "      <td>apartment</td>\n",
       "      <td>Córdoba</td>\n",
       "      <td>|Argentina|Córdoba|Córdoba|</td>\n",
       "      <td>Argentina</td>\n",
       "      <td>Córdoba</td>\n",
       "      <td>3860259.0</td>\n",
       "      <td>NaN</td>\n",
       "      <td>NaN</td>\n",
       "      <td>...</td>\n",
       "      <td>NaN</td>\n",
       "      <td>NaN</td>\n",
       "      <td>NaN</td>\n",
       "      <td>http://www.properati.com.ar/1cbi8_venta_depart...</td>\n",
       "      <td>3d + dep. 3b liv/com coc/com Calef. x rad. Bal...</td>\n",
       "      <td>VENDO - Nva. Cba 3d. s/Bs. As. 400</td>\n",
       "      <td>https://thumbs4.properati.com/7/jn-ClncZLIXkzu...</td>\n",
       "      <td>Córdoba</td>\n",
       "      <td>Córdoba</td>\n",
       "      <td>NaN</td>\n",
       "    </tr>\n",
       "    <tr>\n",
       "      <th>116091</th>\n",
       "      <td>116091</td>\n",
       "      <td>sell</td>\n",
       "      <td>house</td>\n",
       "      <td>Córdoba</td>\n",
       "      <td>|Argentina|Córdoba|Córdoba|</td>\n",
       "      <td>Argentina</td>\n",
       "      <td>Córdoba</td>\n",
       "      <td>3860259.0</td>\n",
       "      <td>-31.34361,-64.274445</td>\n",
       "      <td>-31.343610</td>\n",
       "      <td>...</td>\n",
       "      <td>NaN</td>\n",
       "      <td>8.0</td>\n",
       "      <td>NaN</td>\n",
       "      <td>http://www.properati.com.ar/1cbw8_venta_casa_c...</td>\n",
       "      <td>OPORTUNIDAD!! APTO A CREDITO. HERMOSO DUPLEX 2...</td>\n",
       "      <td>B. LASALLE  OPORTUNIDAD!!   3D, APTO CREDITO!!...</td>\n",
       "      <td>https://thumbs4.properati.com/3/oP6NQpxF9UjR0f...</td>\n",
       "      <td>Córdoba</td>\n",
       "      <td>Córdoba</td>\n",
       "      <td>100</td>\n",
       "    </tr>\n",
       "    <tr>\n",
       "      <th>116133</th>\n",
       "      <td>116133</td>\n",
       "      <td>sell</td>\n",
       "      <td>house</td>\n",
       "      <td>Córdoba</td>\n",
       "      <td>|Argentina|Córdoba|Córdoba|</td>\n",
       "      <td>Argentina</td>\n",
       "      <td>Córdoba</td>\n",
       "      <td>3860259.0</td>\n",
       "      <td>NaN</td>\n",
       "      <td>NaN</td>\n",
       "      <td>...</td>\n",
       "      <td>NaN</td>\n",
       "      <td>11.0</td>\n",
       "      <td>NaN</td>\n",
       "      <td>http://www.properati.com.ar/1cbxw_venta_casa_c...</td>\n",
       "      <td>VENDO DUPLEX-CASI NUEVO-Bº Alto Verde, próximo...</td>\n",
       "      <td>VENDO-DUPLEX-Bº ALTO VERDE-3DORM 2BÑ LIV COC/C...</td>\n",
       "      <td>https://thumbs4.properati.com/1/bprbHhwaWJ7bfQ...</td>\n",
       "      <td>Córdoba</td>\n",
       "      <td>Córdoba</td>\n",
       "      <td>200</td>\n",
       "    </tr>\n",
       "    <tr>\n",
       "      <th>116277</th>\n",
       "      <td>116277</td>\n",
       "      <td>sell</td>\n",
       "      <td>PH</td>\n",
       "      <td>Mar del Plata</td>\n",
       "      <td>|Argentina|Buenos Aires Costa Atlántica|Mar de...</td>\n",
       "      <td>Argentina</td>\n",
       "      <td>Buenos Aires Costa Atlántica</td>\n",
       "      <td>3430863.0</td>\n",
       "      <td>NaN</td>\n",
       "      <td>NaN</td>\n",
       "      <td>...</td>\n",
       "      <td>NaN</td>\n",
       "      <td>3.0</td>\n",
       "      <td>NaN</td>\n",
       "      <td>http://www.properati.com.ar/1cc41_venta_ph_mar...</td>\n",
       "      <td>P3 ambientes, posee: Living comedor, cocina co...</td>\n",
       "      <td>FALKNER 3700</td>\n",
       "      <td>https://thumbs4.properati.com/9/FQsiR42FWb-iyK...</td>\n",
       "      <td>Buenos Aires Costa Atlántica</td>\n",
       "      <td>Mar del Plata</td>\n",
       "      <td>NaN</td>\n",
       "    </tr>\n",
       "    <tr>\n",
       "      <th>119958</th>\n",
       "      <td>119958</td>\n",
       "      <td>sell</td>\n",
       "      <td>apartment</td>\n",
       "      <td>Congreso</td>\n",
       "      <td>|Argentina|Capital Federal|Congreso|</td>\n",
       "      <td>Argentina</td>\n",
       "      <td>Capital Federal</td>\n",
       "      <td>3435259.0</td>\n",
       "      <td>-34.6139687477,-58.4049253073</td>\n",
       "      <td>-34.613969</td>\n",
       "      <td>...</td>\n",
       "      <td>NaN</td>\n",
       "      <td>NaN</td>\n",
       "      <td>2500.0</td>\n",
       "      <td>http://www.properati.com.ar/1chbj_venta_depart...</td>\n",
       "      <td>CODIGO: 3410-238 ubicado en: Avenida Jujuy 300...</td>\n",
       "      <td>Departamento en Venta en Balvanera 3 ambientes...</td>\n",
       "      <td>https://thumbs4.properati.com/0/vzpC4Ow8b2QheY...</td>\n",
       "      <td>Capital Federal</td>\n",
       "      <td>Congreso</td>\n",
       "      <td>60</td>\n",
       "    </tr>\n",
       "  </tbody>\n",
       "</table>\n",
       "<p>107 rows × 29 columns</p>\n",
       "</div>"
      ],
      "text/plain": [
       "        Unnamed: 0 operation property_type              place_name  \\\n",
       "836            836      sell         store                  Tolosa   \n",
       "4399          4399      sell     apartment                 Caseros   \n",
       "6720          6720      sell     apartment                 Rosario   \n",
       "7440          7440      sell         house           Mar del Plata   \n",
       "9665          9665      sell         house  Ingeniero Pablo Nogués   \n",
       "...            ...       ...           ...                     ...   \n",
       "115717      115717      sell     apartment                 Córdoba   \n",
       "116091      116091      sell         house                 Córdoba   \n",
       "116133      116133      sell         house                 Córdoba   \n",
       "116277      116277      sell            PH           Mar del Plata   \n",
       "119958      119958      sell     apartment                Congreso   \n",
       "\n",
       "                                  place_with_parent_names country_name  \\\n",
       "836     |Argentina|Bs.As. G.B.A. Zona Sur|La Plata|Tol...    Argentina   \n",
       "4399    |Argentina|Bs.As. G.B.A. Zona Oeste|Tres de Fe...    Argentina   \n",
       "6720                         |Argentina|Santa Fe|Rosario|    Argentina   \n",
       "7440    |Argentina|Buenos Aires Costa Atlántica|Mar de...    Argentina   \n",
       "9665    |Argentina|Bs.As. G.B.A. Zona Norte|Malvinas A...    Argentina   \n",
       "...                                                   ...          ...   \n",
       "115717                        |Argentina|Córdoba|Córdoba|    Argentina   \n",
       "116091                        |Argentina|Córdoba|Córdoba|    Argentina   \n",
       "116133                        |Argentina|Córdoba|Córdoba|    Argentina   \n",
       "116277  |Argentina|Buenos Aires Costa Atlántica|Mar de...    Argentina   \n",
       "119958               |Argentina|Capital Federal|Congreso|    Argentina   \n",
       "\n",
       "                          state_name  geonames_id  \\\n",
       "836           Bs.As. G.B.A. Zona Sur    3427714.0   \n",
       "4399        Bs.As. G.B.A. Zona Oeste    3862356.0   \n",
       "6720                        Santa Fe    3838574.0   \n",
       "7440    Buenos Aires Costa Atlántica    3430863.0   \n",
       "9665        Bs.As. G.B.A. Zona Norte          NaN   \n",
       "...                              ...          ...   \n",
       "115717                       Córdoba    3860259.0   \n",
       "116091                       Córdoba    3860259.0   \n",
       "116133                       Córdoba    3860259.0   \n",
       "116277  Buenos Aires Costa Atlántica    3430863.0   \n",
       "119958               Capital Federal    3435259.0   \n",
       "\n",
       "                              lat-lon        lat  ...  floor  rooms expenses  \\\n",
       "836     -34.8866047479,-57.9694639519 -34.886605  ...    NaN    1.0      NaN   \n",
       "4399            -34.609431,-58.566785 -34.609431  ...    NaN    2.0      NaN   \n",
       "6720          -32.9100582,-60.6874369 -32.910058  ...    NaN    2.0      NaN   \n",
       "7440    -38.0947287121,-57.5552277112 -38.094729  ...    NaN    4.0      NaN   \n",
       "9665                              NaN        NaN  ...    NaN    NaN      NaN   \n",
       "...                               ...        ...  ...    ...    ...      ...   \n",
       "115717                            NaN        NaN  ...    NaN    NaN      NaN   \n",
       "116091           -31.34361,-64.274445 -31.343610  ...    NaN    8.0      NaN   \n",
       "116133                            NaN        NaN  ...    NaN   11.0      NaN   \n",
       "116277                            NaN        NaN  ...    NaN    3.0      NaN   \n",
       "119958  -34.6139687477,-58.4049253073 -34.613969  ...    NaN    NaN   2500.0   \n",
       "\n",
       "                                            properati_url  \\\n",
       "836     http://www.properati.com.ar/15g6s_venta_local_...   \n",
       "4399    http://www.properati.com.ar/15mqu_venta_depart...   \n",
       "6720    http://www.properati.com.ar/15vcm_venta_depart...   \n",
       "7440    http://www.properati.com.ar/15xy8_venta_casa_m...   \n",
       "9665    http://www.properati.com.ar/16599_venta_casa_i...   \n",
       "...                                                   ...   \n",
       "115717  http://www.properati.com.ar/1cbi8_venta_depart...   \n",
       "116091  http://www.properati.com.ar/1cbw8_venta_casa_c...   \n",
       "116133  http://www.properati.com.ar/1cbxw_venta_casa_c...   \n",
       "116277  http://www.properati.com.ar/1cc41_venta_ph_mar...   \n",
       "119958  http://www.properati.com.ar/1chbj_venta_depart...   \n",
       "\n",
       "                                              description  \\\n",
       "836     Venta de Negocio  en Tolosa, La Plata116 entre...   \n",
       "4399    Corredor Responsable: Mauro Marvisi - CMCPSI 5...   \n",
       "6720    BV Rondeau / Nancen: A metros del Shoping Port...   \n",
       "7440    EXCELENTE CABAÑA 3 DORM, 2 BAÑOS, PARQUE, A 30...   \n",
       "9665    CODIGO: 7 ubicado en: Juana Manuela Gorritti -...   \n",
       "...                                                   ...   \n",
       "115717  3d + dep. 3b liv/com coc/com Calef. x rad. Bal...   \n",
       "116091  OPORTUNIDAD!! APTO A CREDITO. HERMOSO DUPLEX 2...   \n",
       "116133  VENDO DUPLEX-CASI NUEVO-Bº Alto Verde, próximo...   \n",
       "116277  P3 ambientes, posee: Living comedor, cocina co...   \n",
       "119958  CODIGO: 3410-238 ubicado en: Avenida Jujuy 300...   \n",
       "\n",
       "                                                    title  \\\n",
       "836                                      NEGOCIO EN VENTA   \n",
       "4399            SIN ADELANTO, SIN INTERÉS Y CUOTAS FIJAS.   \n",
       "6720    Venta departamento de 1 dormitorios a estrenar...   \n",
       "7440                                  CABAÑA 4 AMB. ALFAR   \n",
       "9665    Casa en Venta con Anticipo y Cuotas en Tortugu...   \n",
       "...                                                   ...   \n",
       "115717                 VENDO - Nva. Cba 3d. s/Bs. As. 400   \n",
       "116091  B. LASALLE  OPORTUNIDAD!!   3D, APTO CREDITO!!...   \n",
       "116133  VENDO-DUPLEX-Bº ALTO VERDE-3DORM 2BÑ LIV COC/C...   \n",
       "116277                                       FALKNER 3700   \n",
       "119958  Departamento en Venta en Balvanera 3 ambientes...   \n",
       "\n",
       "                                          image_thumbnail  \\\n",
       "836     https://thumbs4.properati.com/9/DHgL8aLPFIi1RC...   \n",
       "4399    https://thumbs4.properati.com/4/6GKCqfr3Xa7F2P...   \n",
       "6720    https://thumbs4.properati.com/9/LbRdgRWsLUiDR5...   \n",
       "7440    https://thumbs4.properati.com/6/fzHuWELA_ZurQe...   \n",
       "9665    https://thumbs4.properati.com/6/baljQaRJQoHBNV...   \n",
       "...                                                   ...   \n",
       "115717  https://thumbs4.properati.com/7/jn-ClncZLIXkzu...   \n",
       "116091  https://thumbs4.properati.com/3/oP6NQpxF9UjR0f...   \n",
       "116133  https://thumbs4.properati.com/1/bprbHhwaWJ7bfQ...   \n",
       "116277  https://thumbs4.properati.com/9/FQsiR42FWb-iyK...   \n",
       "119958  https://thumbs4.properati.com/0/vzpC4Ow8b2QheY...   \n",
       "\n",
       "                           Provincia               Barrio  m2_desc  \n",
       "836           Bs.As. G.B.A. Zona Sur             La Plata      NaN  \n",
       "4399        Bs.As. G.B.A. Zona Oeste      Tres de Febrero      NaN  \n",
       "6720                        Santa Fe              Rosario    37,29  \n",
       "7440    Buenos Aires Costa Atlántica        Mar del Plata      NaN  \n",
       "9665        Bs.As. G.B.A. Zona Norte  Malvinas Argentinas      200  \n",
       "...                              ...                  ...      ...  \n",
       "115717                       Córdoba              Córdoba      NaN  \n",
       "116091                       Córdoba              Córdoba      100  \n",
       "116133                       Córdoba              Córdoba      200  \n",
       "116277  Buenos Aires Costa Atlántica        Mar del Plata      NaN  \n",
       "119958               Capital Federal             Congreso       60  \n",
       "\n",
       "[107 rows x 29 columns]"
      ]
     },
     "execution_count": 76,
     "metadata": {},
     "output_type": "execute_result"
    }
   ],
   "source": [
    "data_nuevo.loc[price_usd_min_mask]"
   ]
  },
  {
   "cell_type": "code",
   "execution_count": 77,
   "metadata": {},
   "outputs": [
    {
     "data": {
      "text/plain": [
       "20518"
      ]
     },
     "execution_count": 77,
     "metadata": {},
     "output_type": "execute_result"
    }
   ],
   "source": [
    "# Visualizo los missings values despues de la operacion\n",
    "data_nuevo.price_aprox_usd.isnull().sum()"
   ]
  },
  {
   "cell_type": "markdown",
   "metadata": {},
   "source": [
    "**Alternativa 2**: Filtrar los outliers aplicando la regla del rango intercuartil\n",
    "\n",
    "\n",
    "En este punto aplicamos el criterio estadistico de aplicacion del rango intercuartil y el establecimiento de umbrales para filtrar los outliers que superen los umbrales establecidos"
   ]
  },
  {
   "cell_type": "code",
   "execution_count": null,
   "metadata": {},
   "outputs": [],
   "source": [
    "# Calculo los cuartilos\n",
    "# q1 = data_nuevo.price_aprox_usd.quantile(0.25)\n",
    "# q2 = data_nuevo.price_aprox_usd.quantile(0.5)\n",
    "# q3 = data_nuevo.price_aprox_usd.quantile(0.75)\n",
    "# q4 = data_nuevo.price_aprox_usd.quantile(1)\n",
    "\n",
    "# Aplico la regla de rango intercuartil\n",
    "# iqr = (q3 - q1) * 1.5\n",
    "\n",
    "# Calculo los umbrales\n",
    "# upper_threshold = q3 + iqr\n",
    "# lower_threshold = q1 - iqr\n",
    "\n",
    "# Calculo los outliers\n",
    "# outliers_mask_up_ap = (data_nuevo.price_aprox_usd > upper_threshold) & (data_nuevo.property_type=='apartment')\n",
    "# outliers_mask_down_ap = (data_nuevo.price_aprox_usd < lower_threshold) & (data_nuevo.property_type=='apartment')\n",
    "#outliers_mask_ap = np.logical_or(outliers_mask_up_ap,outliers_mask_down_ap) # Aplico np.logical_or en lugar de utilizar pipes\n",
    "#outliers_ap = data_nuevo.price_aprox_usd[outliers_mask_ap]\n",
    "\n",
    "# Calculo la boolean mask para excluir outliers\n",
    "#not_outliers_ap = np.logical_not(outliers_mask_ap)\n",
    "\n",
    "# Filtro movie_votes_count excluyendo los outliers\n",
    "#price_aprox_usd_filter =  data_nuevo.price_aprox_usd[not_outliers_ap]"
   ]
  },
  {
   "cell_type": "code",
   "execution_count": 78,
   "metadata": {},
   "outputs": [],
   "source": [
    "# Comparo price_aprox_usd con y sin outliers\n",
    "#describe_without_outliers = round(price_aprox_usd_filter.describe(),2)\n",
    "#print(describe_with_outliers,'\\n')\n",
    "#print(describe_without_outliers)"
   ]
  },
  {
   "cell_type": "markdown",
   "metadata": {},
   "source": [
    "Conclusion : Concluimos que esta alternativa, no resulta conveniente para aplicar en este contexto inicial, ya que podemos incurrir en el riesgo de eliminar datos que pueden resultarnos valiosos para esta o posteriores etapas en nuestro dataset, y, ademas, el dataset bajo analisis no sigue una distribucion normal y expone niveles altos de dispersion de datos. De todas formas, consideramos que este criterio podria ser util para aplicar en posteriores etapas, fundamentalmente despues del proceso de limpieza y/o purificacion de datos."
   ]
  },
  {
   "cell_type": "code",
   "execution_count": 79,
   "metadata": {},
   "outputs": [
    {
     "data": {
      "text/plain": [
       "20518"
      ]
     },
     "execution_count": 79,
     "metadata": {},
     "output_type": "execute_result"
    }
   ],
   "source": [
    "# Visualizo los missings values despues de la operacion\n",
    "data_nuevo.price_aprox_usd.isnull().sum()"
   ]
  },
  {
   "cell_type": "markdown",
   "metadata": {},
   "source": [
    "#  4.Regex a columna \"description\""
   ]
  },
  {
   "cell_type": "markdown",
   "metadata": {},
   "source": [
    "### Vamos a aplicar Regex sobre la columna description para intentar extraer los valores de las variables:\n",
    "\n",
    "* Rooms \n",
    "* Dólares \n",
    "* M2\n",
    "* Tipo propiedad \n"
   ]
  },
  {
   "cell_type": "markdown",
   "metadata": {},
   "source": [
    "### 4.1 Hacemos Regex sobre la columna description para sacar la cantidad de Rooms "
   ]
  },
  {
   "cell_type": "code",
   "execution_count": 80,
   "metadata": {},
   "outputs": [
    {
     "name": "stdout",
     "output_type": "stream",
     "text": [
      "0    2 AMBIENTES TIPO CASA PLANTA BAJA POR PASILLO,...\n",
      "1    VENTA DE DEPARTAMENTO EN DÉCIMO PISO AL FRENTE...\n",
      "2    2 AMBIENTES 3ER PISO LATERAL LIVING COMEDOR AM...\n",
      "3    PH 3 AMBIENTES CON PATIO. HAY 3 DEPTOS EN LOTE...\n",
      "4    DEPARTAMENTO CON FANTÁSTICA ILUMINACIÓN NATURA...\n",
      "5    CASA EN EL PERÍMETRO DEL BARRIO 338, UBICADA E...\n",
      "6    MUY BUEN PH AL FRENTE CON ENTRADA INDEPENDIENT...\n",
      "7    EXCELENTE MONOAMBIENTE A ESTRENAR AMPLIO SUPER...\n",
      "8    EXCELENTE DOS AMBIENTES  ESTRENAR AMPLIO SUPER...\n",
      "9    MEDNOZA AL 7600A UNA CUADRA DE CALLE MENDOZAWH...\n",
      "Name: description, dtype: object\n"
     ]
    }
   ],
   "source": [
    "# Pasos para obtener patrones para description\n",
    "# Creo la serie en description\n",
    "\n",
    "data_description_serie = data_nuevo.description\n",
    "\n",
    "# Convertimos a str\n",
    "data_nuevo[\"description\"] = data_description_serie.astype(str)\n",
    "\n",
    "# Unificamos tipo de formato (a mayuscula)\n",
    "data_upper = data_description_serie.apply(lambda x: str(x).upper())\n",
    "# Comprobamos data_nuevos que se hayan pasado a mayuscula\n",
    "print(data_upper.head(10))\n",
    "\n",
    "# Creamos el patron para rooms\n",
    "room_pattern = \"(?P<cantidad>\\d\\d?)\\s(?P<room_ref>\\AMB|AMBIENTES|HABITACIONES|HAB|AMB.|HAB.$)\"\n",
    "\n",
    "# Compilo el patron\n",
    "room_pattern_regex = re.compile(room_pattern)\n",
    "\n",
    "# Generamos el objeto match\n",
    "room_match_result = data_upper.apply(lambda x: room_pattern_regex.search(x))\n",
    "\n",
    "# Creamos una boolean mask sin missings values\n",
    "room_match_notnull = room_match_result.notnull()\n",
    "\n",
    "# Generamos el objeto matc sin missings values\n",
    "data_nuevo['rooms_desc'] = room_match_result[room_match_notnull].apply(lambda x: x if x is np.NaN else x.group('cantidad'))"
   ]
  },
  {
   "cell_type": "code",
   "execution_count": 81,
   "metadata": {},
   "outputs": [
    {
     "data": {
      "text/plain": [
       "array(['2', nan, '3', '1', '4', '5', '7', '00', '6', '30', '15', '50',\n",
       "       '9', '55', '8', '42', '16', '90', '23', '10', '13', '17', '03',\n",
       "       '97', '26', '72', '14', '54', '02', '18', '21', '11', '57', '24',\n",
       "       '12', '44', '71', '53', '25', '20', '81', '62', '73', '22', '33',\n",
       "       '52', '04', '27', '83', '70', '28', '51', '46', '60', '49', '40',\n",
       "       '47', '74', '93', '06', '66', '0', '92', '80', '01', '29', '32',\n",
       "       '56', '65', '84', '36', '64'], dtype=object)"
      ]
     },
     "execution_count": 81,
     "metadata": {},
     "output_type": "execute_result"
    }
   ],
   "source": [
    "# chequeamos los valores unicos que rescatamos para controlar \n",
    "data_nuevo.rooms_desc.unique()"
   ]
  },
  {
   "cell_type": "code",
   "execution_count": 82,
   "metadata": {},
   "outputs": [
    {
     "data": {
      "text/plain": [
       "39761"
      ]
     },
     "execution_count": 82,
     "metadata": {},
     "output_type": "execute_result"
    }
   ],
   "source": [
    "#verificamos la cantidad de valores obtenidos del regex\n",
    "data_nuevo.rooms_desc.notnull().sum()"
   ]
  },
  {
   "cell_type": "code",
   "execution_count": 83,
   "metadata": {},
   "outputs": [
    {
     "data": {
      "text/html": [
       "<div>\n",
       "<style scoped>\n",
       "    .dataframe tbody tr th:only-of-type {\n",
       "        vertical-align: middle;\n",
       "    }\n",
       "\n",
       "    .dataframe tbody tr th {\n",
       "        vertical-align: top;\n",
       "    }\n",
       "\n",
       "    .dataframe thead th {\n",
       "        text-align: right;\n",
       "    }\n",
       "</style>\n",
       "<table border=\"1\" class=\"dataframe\">\n",
       "  <thead>\n",
       "    <tr style=\"text-align: right;\">\n",
       "      <th></th>\n",
       "      <th>description</th>\n",
       "      <th>rooms_desc</th>\n",
       "    </tr>\n",
       "  </thead>\n",
       "  <tbody>\n",
       "    <tr>\n",
       "      <th>0</th>\n",
       "      <td>2 AMBIENTES TIPO CASA PLANTA BAJA POR PASILLO,...</td>\n",
       "      <td>2</td>\n",
       "    </tr>\n",
       "    <tr>\n",
       "      <th>1</th>\n",
       "      <td>Venta de departamento en décimo piso al frente...</td>\n",
       "      <td>NaN</td>\n",
       "    </tr>\n",
       "    <tr>\n",
       "      <th>2</th>\n",
       "      <td>2 AMBIENTES 3ER PISO LATERAL LIVING COMEDOR AM...</td>\n",
       "      <td>2</td>\n",
       "    </tr>\n",
       "    <tr>\n",
       "      <th>3</th>\n",
       "      <td>PH 3 ambientes con patio. Hay 3 deptos en lote...</td>\n",
       "      <td>3</td>\n",
       "    </tr>\n",
       "    <tr>\n",
       "      <th>4</th>\n",
       "      <td>DEPARTAMENTO CON FANTÁSTICA ILUMINACIÓN NATURA...</td>\n",
       "      <td>NaN</td>\n",
       "    </tr>\n",
       "    <tr>\n",
       "      <th>...</th>\n",
       "      <td>...</td>\n",
       "      <td>...</td>\n",
       "    </tr>\n",
       "    <tr>\n",
       "      <th>121215</th>\n",
       "      <td>TORRE FORUM ALCORTA - MÁXIMA CATEGORÍA.Impecab...</td>\n",
       "      <td>NaN</td>\n",
       "    </tr>\n",
       "    <tr>\n",
       "      <th>121216</th>\n",
       "      <td>Excelente e impecable casa en Venta en Las Lom...</td>\n",
       "      <td>NaN</td>\n",
       "    </tr>\n",
       "    <tr>\n",
       "      <th>121217</th>\n",
       "      <td>VENTA DEPARTAMENTO AMBIENTE DIVISIBLE A ESTREN...</td>\n",
       "      <td>NaN</td>\n",
       "    </tr>\n",
       "    <tr>\n",
       "      <th>121218</th>\n",
       "      <td>2 Amb al contrafrente,  luminoso. El departame...</td>\n",
       "      <td>2</td>\n",
       "    </tr>\n",
       "    <tr>\n",
       "      <th>121219</th>\n",
       "      <td>Departamento de 77 m2 apto profesional. Edific...</td>\n",
       "      <td>NaN</td>\n",
       "    </tr>\n",
       "  </tbody>\n",
       "</table>\n",
       "<p>121220 rows × 2 columns</p>\n",
       "</div>"
      ],
      "text/plain": [
       "                                              description rooms_desc\n",
       "0       2 AMBIENTES TIPO CASA PLANTA BAJA POR PASILLO,...          2\n",
       "1       Venta de departamento en décimo piso al frente...        NaN\n",
       "2       2 AMBIENTES 3ER PISO LATERAL LIVING COMEDOR AM...          2\n",
       "3       PH 3 ambientes con patio. Hay 3 deptos en lote...          3\n",
       "4       DEPARTAMENTO CON FANTÁSTICA ILUMINACIÓN NATURA...        NaN\n",
       "...                                                   ...        ...\n",
       "121215  TORRE FORUM ALCORTA - MÁXIMA CATEGORÍA.Impecab...        NaN\n",
       "121216  Excelente e impecable casa en Venta en Las Lom...        NaN\n",
       "121217  VENTA DEPARTAMENTO AMBIENTE DIVISIBLE A ESTREN...        NaN\n",
       "121218  2 Amb al contrafrente,  luminoso. El departame...          2\n",
       "121219  Departamento de 77 m2 apto profesional. Edific...        NaN\n",
       "\n",
       "[121220 rows x 2 columns]"
      ]
     },
     "execution_count": 83,
     "metadata": {},
     "output_type": "execute_result"
    }
   ],
   "source": [
    "# Evaluamos coherencia y correcta aplicacion del match\n",
    "data_nuevo.loc[:,['description','rooms_desc']]"
   ]
  },
  {
   "cell_type": "markdown",
   "metadata": {},
   "source": [
    "### 4.2 Hacemos Regex sobre la columna description para sacar los dolares "
   ]
  },
  {
   "cell_type": "code",
   "execution_count": 84,
   "metadata": {},
   "outputs": [
    {
     "name": "stdout",
     "output_type": "stream",
     "text": [
      "0         <re.Match object; span=(0, 11), match='2 AMBIE...\n",
      "1                                                      None\n",
      "2         <re.Match object; span=(0, 11), match='2 AMBIE...\n",
      "3         <re.Match object; span=(3, 14), match='3 AMBIE...\n",
      "4                                                      None\n",
      "                                ...                        \n",
      "121215                                                 None\n",
      "121216                                                 None\n",
      "121217                                                 None\n",
      "121218       <re.Match object; span=(0, 6), match='2 AMB '>\n",
      "121219                                                 None\n",
      "Name: description, Length: 121220, dtype: object\n"
     ]
    }
   ],
   "source": [
    "# Pasos regex precios description\n",
    "# Creamos el patron dolares\n",
    "dollar_pattern = \"(?P<dolar>(US\\W+)|(U\\WD)|(USD))\\s?(?P<monto>(\\d?\\d?\\d?.\\d?\\d\\d.\\d\\d\\d))\"\n",
    "\n",
    "# Compilo el patron\n",
    "dollar_pattern_regex = re.compile(dollar_pattern)\n",
    "\n",
    "# Genero el objeto match\n",
    "dollar_match_result = data_upper.apply(lambda x: dollar_pattern_regex.search(x))\n",
    "print(room_match_result)\n",
    "\n",
    "# Creo la boolean mask sin missings values\n",
    "dollar_match_notnull = dollar_match_result.notnull()\n",
    "\n",
    "# Creo el objeto match sin missings values\n",
    "data_nuevo['dollar_desc'] = dollar_match_result[dollar_match_notnull].apply(lambda x: x if x is np.NaN else x.group(0))"
   ]
  },
  {
   "cell_type": "code",
   "execution_count": 85,
   "metadata": {},
   "outputs": [
    {
     "data": {
      "text/plain": [
       "100702"
      ]
     },
     "execution_count": 85,
     "metadata": {},
     "output_type": "execute_result"
    }
   ],
   "source": [
    "# Vemos cuantos valores hay en price_aprox_usd antes de la limpieza y posterior relleno de datos\n",
    "data_nuevo.price_aprox_usd.notnull().sum()"
   ]
  },
  {
   "cell_type": "code",
   "execution_count": 86,
   "metadata": {},
   "outputs": [
    {
     "data": {
      "text/plain": [
       "3924"
      ]
     },
     "execution_count": 86,
     "metadata": {},
     "output_type": "execute_result"
    }
   ],
   "source": [
    "data_nuevo.dollar_desc.notnull().sum()"
   ]
  },
  {
   "cell_type": "code",
   "execution_count": 87,
   "metadata": {
    "scrolled": true
   },
   "outputs": [
    {
     "data": {
      "text/html": [
       "<div>\n",
       "<style scoped>\n",
       "    .dataframe tbody tr th:only-of-type {\n",
       "        vertical-align: middle;\n",
       "    }\n",
       "\n",
       "    .dataframe tbody tr th {\n",
       "        vertical-align: top;\n",
       "    }\n",
       "\n",
       "    .dataframe thead th {\n",
       "        text-align: right;\n",
       "    }\n",
       "</style>\n",
       "<table border=\"1\" class=\"dataframe\">\n",
       "  <thead>\n",
       "    <tr style=\"text-align: right;\">\n",
       "      <th></th>\n",
       "      <th>description</th>\n",
       "      <th>dollar_desc</th>\n",
       "    </tr>\n",
       "  </thead>\n",
       "  <tbody>\n",
       "    <tr>\n",
       "      <th>0</th>\n",
       "      <td>2 AMBIENTES TIPO CASA PLANTA BAJA POR PASILLO,...</td>\n",
       "      <td>NaN</td>\n",
       "    </tr>\n",
       "    <tr>\n",
       "      <th>1</th>\n",
       "      <td>Venta de departamento en décimo piso al frente...</td>\n",
       "      <td>U$D 20.000</td>\n",
       "    </tr>\n",
       "    <tr>\n",
       "      <th>2</th>\n",
       "      <td>2 AMBIENTES 3ER PISO LATERAL LIVING COMEDOR AM...</td>\n",
       "      <td>NaN</td>\n",
       "    </tr>\n",
       "    <tr>\n",
       "      <th>3</th>\n",
       "      <td>PH 3 ambientes con patio. Hay 3 deptos en lote...</td>\n",
       "      <td>NaN</td>\n",
       "    </tr>\n",
       "    <tr>\n",
       "      <th>4</th>\n",
       "      <td>DEPARTAMENTO CON FANTÁSTICA ILUMINACIÓN NATURA...</td>\n",
       "      <td>NaN</td>\n",
       "    </tr>\n",
       "    <tr>\n",
       "      <th>5</th>\n",
       "      <td>Casa en el perímetro del barrio 338, ubicada e...</td>\n",
       "      <td>NaN</td>\n",
       "    </tr>\n",
       "    <tr>\n",
       "      <th>6</th>\n",
       "      <td>MUY BUEN PH AL FRENTE CON ENTRADA INDEPENDIENT...</td>\n",
       "      <td>NaN</td>\n",
       "    </tr>\n",
       "    <tr>\n",
       "      <th>7</th>\n",
       "      <td>EXCELENTE MONOAMBIENTE A ESTRENAR AMPLIO SUPER...</td>\n",
       "      <td>NaN</td>\n",
       "    </tr>\n",
       "    <tr>\n",
       "      <th>8</th>\n",
       "      <td>EXCELENTE DOS AMBIENTES  ESTRENAR AMPLIO SUPER...</td>\n",
       "      <td>NaN</td>\n",
       "    </tr>\n",
       "    <tr>\n",
       "      <th>9</th>\n",
       "      <td>MEDNOZA AL 7600A UNA CUADRA DE CALLE MENDOZAWH...</td>\n",
       "      <td>NaN</td>\n",
       "    </tr>\n",
       "    <tr>\n",
       "      <th>10</th>\n",
       "      <td>Hermosa casa sin terminar de 3 dormitorios, ba...</td>\n",
       "      <td>NaN</td>\n",
       "    </tr>\n",
       "  </tbody>\n",
       "</table>\n",
       "</div>"
      ],
      "text/plain": [
       "                                          description dollar_desc\n",
       "0   2 AMBIENTES TIPO CASA PLANTA BAJA POR PASILLO,...         NaN\n",
       "1   Venta de departamento en décimo piso al frente...  U$D 20.000\n",
       "2   2 AMBIENTES 3ER PISO LATERAL LIVING COMEDOR AM...         NaN\n",
       "3   PH 3 ambientes con patio. Hay 3 deptos en lote...         NaN\n",
       "4   DEPARTAMENTO CON FANTÁSTICA ILUMINACIÓN NATURA...         NaN\n",
       "5   Casa en el perímetro del barrio 338, ubicada e...         NaN\n",
       "6   MUY BUEN PH AL FRENTE CON ENTRADA INDEPENDIENT...         NaN\n",
       "7   EXCELENTE MONOAMBIENTE A ESTRENAR AMPLIO SUPER...         NaN\n",
       "8   EXCELENTE DOS AMBIENTES  ESTRENAR AMPLIO SUPER...         NaN\n",
       "9   MEDNOZA AL 7600A UNA CUADRA DE CALLE MENDOZAWH...         NaN\n",
       "10  Hermosa casa sin terminar de 3 dormitorios, ba...         NaN"
      ]
     },
     "execution_count": 87,
     "metadata": {},
     "output_type": "execute_result"
    }
   ],
   "source": [
    "# Evaluamos coherencia y correcta aplicacion del match\n",
    "data_nuevo.loc[0:10,['description','dollar_desc']]"
   ]
  },
  {
   "cell_type": "markdown",
   "metadata": {},
   "source": [
    "### 4.3 Hacemos Regex sobre la columna description para sacar los M2 "
   ]
  },
  {
   "cell_type": "code",
   "execution_count": 88,
   "metadata": {},
   "outputs": [],
   "source": [
    "# Creamos el patron de m2 description\n",
    "m2_pattern = '(?P<numbers>\\d?\\d?\\d?.?\\d?\\d?\\d)\\s?(?P<m2>METROS\\s?CUADRADOS|M2|M²|MTS2$)'\n",
    "\n",
    "# Compilo el patron\n",
    "m2_pattern_regex = re.compile(m2_pattern)\n",
    "\n",
    "# Generamos el objeto match\n",
    "m2_match_result = data_upper.apply(lambda x: m2_pattern_regex.search(x))\n",
    "\n",
    "# Creamos una boolean mask sin missings values\n",
    "m2_match_notnull = m2_match_result.notnull()\n",
    "\n",
    "# Generamos el objeto matc sin missings values\n",
    "data_nuevo['m2_desc'] = m2_match_result[m2_match_notnull].apply(lambda x: x if x is np.NaN else x.group('numbers'))"
   ]
  },
  {
   "cell_type": "code",
   "execution_count": 89,
   "metadata": {},
   "outputs": [
    {
     "data": {
      "text/plain": [
       "30041"
      ]
     },
     "execution_count": 89,
     "metadata": {},
     "output_type": "execute_result"
    }
   ],
   "source": [
    "data_nuevo['m2_desc'].notnull().sum()"
   ]
  },
  {
   "cell_type": "code",
   "execution_count": 90,
   "metadata": {
    "scrolled": true
   },
   "outputs": [
    {
     "data": {
      "text/html": [
       "<div>\n",
       "<style scoped>\n",
       "    .dataframe tbody tr th:only-of-type {\n",
       "        vertical-align: middle;\n",
       "    }\n",
       "\n",
       "    .dataframe tbody tr th {\n",
       "        vertical-align: top;\n",
       "    }\n",
       "\n",
       "    .dataframe thead th {\n",
       "        text-align: right;\n",
       "    }\n",
       "</style>\n",
       "<table border=\"1\" class=\"dataframe\">\n",
       "  <thead>\n",
       "    <tr style=\"text-align: right;\">\n",
       "      <th></th>\n",
       "      <th>description</th>\n",
       "      <th>m2_desc</th>\n",
       "    </tr>\n",
       "  </thead>\n",
       "  <tbody>\n",
       "    <tr>\n",
       "      <th>0</th>\n",
       "      <td>2 AMBIENTES TIPO CASA PLANTA BAJA POR PASILLO,...</td>\n",
       "      <td>NaN</td>\n",
       "    </tr>\n",
       "    <tr>\n",
       "      <th>1</th>\n",
       "      <td>Venta de departamento en décimo piso al frente...</td>\n",
       "      <td>NaN</td>\n",
       "    </tr>\n",
       "    <tr>\n",
       "      <th>2</th>\n",
       "      <td>2 AMBIENTES 3ER PISO LATERAL LIVING COMEDOR AM...</td>\n",
       "      <td>NaN</td>\n",
       "    </tr>\n",
       "    <tr>\n",
       "      <th>3</th>\n",
       "      <td>PH 3 ambientes con patio. Hay 3 deptos en lote...</td>\n",
       "      <td>NaN</td>\n",
       "    </tr>\n",
       "    <tr>\n",
       "      <th>4</th>\n",
       "      <td>DEPARTAMENTO CON FANTÁSTICA ILUMINACIÓN NATURA...</td>\n",
       "      <td>NaN</td>\n",
       "    </tr>\n",
       "    <tr>\n",
       "      <th>...</th>\n",
       "      <td>...</td>\n",
       "      <td>...</td>\n",
       "    </tr>\n",
       "    <tr>\n",
       "      <th>121215</th>\n",
       "      <td>TORRE FORUM ALCORTA - MÁXIMA CATEGORÍA.Impecab...</td>\n",
       "      <td>NaN</td>\n",
       "    </tr>\n",
       "    <tr>\n",
       "      <th>121216</th>\n",
       "      <td>Excelente e impecable casa en Venta en Las Lom...</td>\n",
       "      <td>572</td>\n",
       "    </tr>\n",
       "    <tr>\n",
       "      <th>121217</th>\n",
       "      <td>VENTA DEPARTAMENTO AMBIENTE DIVISIBLE A ESTREN...</td>\n",
       "      <td>43,00</td>\n",
       "    </tr>\n",
       "    <tr>\n",
       "      <th>121218</th>\n",
       "      <td>2 Amb al contrafrente,  luminoso. El departame...</td>\n",
       "      <td>NaN</td>\n",
       "    </tr>\n",
       "    <tr>\n",
       "      <th>121219</th>\n",
       "      <td>Departamento de 77 m2 apto profesional. Edific...</td>\n",
       "      <td>77</td>\n",
       "    </tr>\n",
       "  </tbody>\n",
       "</table>\n",
       "<p>121220 rows × 2 columns</p>\n",
       "</div>"
      ],
      "text/plain": [
       "                                              description m2_desc\n",
       "0       2 AMBIENTES TIPO CASA PLANTA BAJA POR PASILLO,...     NaN\n",
       "1       Venta de departamento en décimo piso al frente...     NaN\n",
       "2       2 AMBIENTES 3ER PISO LATERAL LIVING COMEDOR AM...     NaN\n",
       "3       PH 3 ambientes con patio. Hay 3 deptos en lote...     NaN\n",
       "4       DEPARTAMENTO CON FANTÁSTICA ILUMINACIÓN NATURA...     NaN\n",
       "...                                                   ...     ...\n",
       "121215  TORRE FORUM ALCORTA - MÁXIMA CATEGORÍA.Impecab...     NaN\n",
       "121216  Excelente e impecable casa en Venta en Las Lom...     572\n",
       "121217  VENTA DEPARTAMENTO AMBIENTE DIVISIBLE A ESTREN...   43,00\n",
       "121218  2 Amb al contrafrente,  luminoso. El departame...     NaN\n",
       "121219  Departamento de 77 m2 apto profesional. Edific...      77\n",
       "\n",
       "[121220 rows x 2 columns]"
      ]
     },
     "execution_count": 90,
     "metadata": {},
     "output_type": "execute_result"
    }
   ],
   "source": [
    "# Evaluamos coherencia y correcta aplicacion del match\n",
    "data_nuevo.loc[:,['description','m2_desc']]"
   ]
  },
  {
   "cell_type": "code",
   "execution_count": 91,
   "metadata": {},
   "outputs": [
    {
     "data": {
      "text/plain": [
       "93876"
      ]
     },
     "execution_count": 91,
     "metadata": {},
     "output_type": "execute_result"
    }
   ],
   "source": [
    "data_nuevo.surface_total_in_m2.notnull().sum()"
   ]
  },
  {
   "cell_type": "code",
   "execution_count": 92,
   "metadata": {},
   "outputs": [
    {
     "data": {
      "text/plain": [
       "<bound method Series.unique of 0          55.0\n",
       "1           NaN\n",
       "2          55.0\n",
       "3           NaN\n",
       "4          35.0\n",
       "          ...  \n",
       "121215    113.0\n",
       "121216    360.0\n",
       "121217     46.0\n",
       "121218     48.0\n",
       "121219     77.0\n",
       "Name: surface_total_in_m2, Length: 121220, dtype: float64>"
      ]
     },
     "execution_count": 92,
     "metadata": {},
     "output_type": "execute_result"
    }
   ],
   "source": [
    "data_nuevo.surface_total_in_m2.unique "
   ]
  },
  {
   "cell_type": "markdown",
   "metadata": {},
   "source": [
    "### 4.4 Hacemos Regex sobre la columna description para sacar el tipo de propiedad  "
   ]
  },
  {
   "cell_type": "code",
   "execution_count": 93,
   "metadata": {},
   "outputs": [],
   "source": [
    "# Creamos el patron de tipo de propiedad para descrption\n",
    "tproperty_pattern = '(?P<property_type>CASA|DUPLEX|RESIDENCIA|CHALET)'\n",
    "\n",
    "# Compilo el patron\n",
    "tproperty_pattern_regex = re.compile(tproperty_pattern)\n",
    "\n",
    "# Generamos el objeto match\n",
    "tproperty_match_result = data_upper.apply(lambda x: tproperty_pattern_regex.search(x))\n",
    "\n",
    "# Creamos una boolean mask sin missings values\n",
    "tproperty_match_notnull = tproperty_match_result.notnull()\n",
    "\n",
    "# Generamos el objeto matc sin missings values\n",
    "data_nuevo['property_desc'] = tproperty_match_result[tproperty_match_notnull].apply(lambda x: x if x is np.NaN else x.group(0))"
   ]
  },
  {
   "cell_type": "code",
   "execution_count": 94,
   "metadata": {},
   "outputs": [
    {
     "data": {
      "text/html": [
       "<div>\n",
       "<style scoped>\n",
       "    .dataframe tbody tr th:only-of-type {\n",
       "        vertical-align: middle;\n",
       "    }\n",
       "\n",
       "    .dataframe tbody tr th {\n",
       "        vertical-align: top;\n",
       "    }\n",
       "\n",
       "    .dataframe thead th {\n",
       "        text-align: right;\n",
       "    }\n",
       "</style>\n",
       "<table border=\"1\" class=\"dataframe\">\n",
       "  <thead>\n",
       "    <tr style=\"text-align: right;\">\n",
       "      <th></th>\n",
       "      <th>description</th>\n",
       "      <th>property_desc</th>\n",
       "    </tr>\n",
       "  </thead>\n",
       "  <tbody>\n",
       "    <tr>\n",
       "      <th>0</th>\n",
       "      <td>2 AMBIENTES TIPO CASA PLANTA BAJA POR PASILLO,...</td>\n",
       "      <td>CASA</td>\n",
       "    </tr>\n",
       "    <tr>\n",
       "      <th>1</th>\n",
       "      <td>Venta de departamento en décimo piso al frente...</td>\n",
       "      <td>NaN</td>\n",
       "    </tr>\n",
       "    <tr>\n",
       "      <th>2</th>\n",
       "      <td>2 AMBIENTES 3ER PISO LATERAL LIVING COMEDOR AM...</td>\n",
       "      <td>NaN</td>\n",
       "    </tr>\n",
       "    <tr>\n",
       "      <th>3</th>\n",
       "      <td>PH 3 ambientes con patio. Hay 3 deptos en lote...</td>\n",
       "      <td>NaN</td>\n",
       "    </tr>\n",
       "    <tr>\n",
       "      <th>4</th>\n",
       "      <td>DEPARTAMENTO CON FANTÁSTICA ILUMINACIÓN NATURA...</td>\n",
       "      <td>NaN</td>\n",
       "    </tr>\n",
       "    <tr>\n",
       "      <th>...</th>\n",
       "      <td>...</td>\n",
       "      <td>...</td>\n",
       "    </tr>\n",
       "    <tr>\n",
       "      <th>121215</th>\n",
       "      <td>TORRE FORUM ALCORTA - MÁXIMA CATEGORÍA.Impecab...</td>\n",
       "      <td>NaN</td>\n",
       "    </tr>\n",
       "    <tr>\n",
       "      <th>121216</th>\n",
       "      <td>Excelente e impecable casa en Venta en Las Lom...</td>\n",
       "      <td>CASA</td>\n",
       "    </tr>\n",
       "    <tr>\n",
       "      <th>121217</th>\n",
       "      <td>VENTA DEPARTAMENTO AMBIENTE DIVISIBLE A ESTREN...</td>\n",
       "      <td>NaN</td>\n",
       "    </tr>\n",
       "    <tr>\n",
       "      <th>121218</th>\n",
       "      <td>2 Amb al contrafrente,  luminoso. El departame...</td>\n",
       "      <td>NaN</td>\n",
       "    </tr>\n",
       "    <tr>\n",
       "      <th>121219</th>\n",
       "      <td>Departamento de 77 m2 apto profesional. Edific...</td>\n",
       "      <td>NaN</td>\n",
       "    </tr>\n",
       "  </tbody>\n",
       "</table>\n",
       "<p>121220 rows × 2 columns</p>\n",
       "</div>"
      ],
      "text/plain": [
       "                                              description property_desc\n",
       "0       2 AMBIENTES TIPO CASA PLANTA BAJA POR PASILLO,...          CASA\n",
       "1       Venta de departamento en décimo piso al frente...           NaN\n",
       "2       2 AMBIENTES 3ER PISO LATERAL LIVING COMEDOR AM...           NaN\n",
       "3       PH 3 ambientes con patio. Hay 3 deptos en lote...           NaN\n",
       "4       DEPARTAMENTO CON FANTÁSTICA ILUMINACIÓN NATURA...           NaN\n",
       "...                                                   ...           ...\n",
       "121215  TORRE FORUM ALCORTA - MÁXIMA CATEGORÍA.Impecab...           NaN\n",
       "121216  Excelente e impecable casa en Venta en Las Lom...          CASA\n",
       "121217  VENTA DEPARTAMENTO AMBIENTE DIVISIBLE A ESTREN...           NaN\n",
       "121218  2 Amb al contrafrente,  luminoso. El departame...           NaN\n",
       "121219  Departamento de 77 m2 apto profesional. Edific...           NaN\n",
       "\n",
       "[121220 rows x 2 columns]"
      ]
     },
     "execution_count": 94,
     "metadata": {},
     "output_type": "execute_result"
    }
   ],
   "source": [
    "data_nuevo.loc[:,['description','property_desc']]"
   ]
  },
  {
   "cell_type": "code",
   "execution_count": 95,
   "metadata": {},
   "outputs": [
    {
     "data": {
      "text/plain": [
       "42273"
      ]
     },
     "execution_count": 95,
     "metadata": {},
     "output_type": "execute_result"
    }
   ],
   "source": [
    "data_nuevo.property_desc.notnull().sum()"
   ]
  },
  {
   "cell_type": "markdown",
   "metadata": {},
   "source": [
    "# 5. Regex a la columna \"title\""
   ]
  },
  {
   "cell_type": "markdown",
   "metadata": {},
   "source": [
    "### Vamos a aplicar Regex sobre la columna description para intentar extraer los valores de las variables:\n",
    "\n",
    "* Rooms \n",
    "* Dólares \n",
    "* M2\n",
    "* Tipo propiedad \n"
   ]
  },
  {
   "cell_type": "markdown",
   "metadata": {},
   "source": [
    "### 5.1 Hacemos Regex sobre la columna title para sacar la cantidad de rooms"
   ]
  },
  {
   "cell_type": "code",
   "execution_count": 96,
   "metadata": {},
   "outputs": [
    {
     "name": "stdout",
     "output_type": "stream",
     "text": [
      "0                   2 AMB TIPO CASA SIN EXPENSAS EN PB\n",
      "1    VENTA DEPTO 2 DORM. A ESTRENAR 7 E/ 36 Y 37   ...\n",
      "2             2 AMB 3ER PISO CON ASCENSOR APTO CREDITO\n",
      "3                         PH 3 AMB. CFTE. RECICLADO   \n",
      "4    DEPTO 2 AMB AL CONTRAFRENTE ZONA CENTRO/PLAZA ...\n",
      "5    CASA BARRIO 338. SOBRE CALLE 3 DE CABALLERÍA, ...\n",
      "6    MUY BUEN PH AL FRENTE DOS DORMITORIOS , PATIO,...\n",
      "7    JOSE HERNANDEZ 1400 MONOAMBIENTE  ESTRENAR CAT...\n",
      "8    JOSE HERNANDEZ   1400 DOS AMBIENTES ESTRENAR ,...\n",
      "9           WHITE 7637 - 2 DORMITORIOS CON PATIO      \n",
      "Name: title, dtype: object\n"
     ]
    }
   ],
   "source": [
    "# Pasos para obtener patrones para title\n",
    "# Creo la serie en title\n",
    "data_title_serie = data_nuevo.title\n",
    "\n",
    "# Convertimos a str\n",
    "data_nuevo[\"title\"] = data_title_serie.astype(str)\n",
    "\n",
    "# Unificamos tipo de formato (a mayuscula)\n",
    "data_upper_title = data_title_serie.apply(lambda x: str(x).upper())\n",
    "# Comprobamos data_nuevos que se hayan pasado a mayuscula\n",
    "print(data_upper_title.head(10))\n",
    "\n",
    "# Creamos el patron para rooms\n",
    "rooms_pattern = \"(?P<cantidad>\\d\\d?)\\s(?P<room_ref>\\AMB|AMBIENTES|HABITACIONES|HAB|AMB.|HAB.$)\"\n",
    "\n",
    "# Compilo el patron\n",
    "rooms_pattern_regex = re.compile(rooms_pattern)\n",
    "\n",
    "# Generamos el objeto match\n",
    "rooms_match_result = data_upper_title.apply(lambda x: rooms_pattern_regex.search(x))\n",
    "\n",
    "# Creamos una boolean mask sin missings values\n",
    "rooms_match_notnull = rooms_match_result.notnull()\n",
    "\n",
    "# Generamos el objeto matc sin missings values\n",
    "data_nuevo['rooms_title'] = rooms_match_result[rooms_match_notnull].apply(lambda x: x if x is np.NaN else x.group('cantidad'))"
   ]
  },
  {
   "cell_type": "code",
   "execution_count": 97,
   "metadata": {},
   "outputs": [
    {
     "data": {
      "text/html": [
       "<div>\n",
       "<style scoped>\n",
       "    .dataframe tbody tr th:only-of-type {\n",
       "        vertical-align: middle;\n",
       "    }\n",
       "\n",
       "    .dataframe tbody tr th {\n",
       "        vertical-align: top;\n",
       "    }\n",
       "\n",
       "    .dataframe thead th {\n",
       "        text-align: right;\n",
       "    }\n",
       "</style>\n",
       "<table border=\"1\" class=\"dataframe\">\n",
       "  <thead>\n",
       "    <tr style=\"text-align: right;\">\n",
       "      <th></th>\n",
       "      <th>title</th>\n",
       "      <th>rooms_title</th>\n",
       "    </tr>\n",
       "  </thead>\n",
       "  <tbody>\n",
       "    <tr>\n",
       "      <th>0</th>\n",
       "      <td>2 AMB TIPO CASA SIN EXPENSAS EN PB</td>\n",
       "      <td>2</td>\n",
       "    </tr>\n",
       "    <tr>\n",
       "      <th>1</th>\n",
       "      <td>VENTA Depto 2 dorm. a estrenar 7 e/ 36 y 37   ...</td>\n",
       "      <td>NaN</td>\n",
       "    </tr>\n",
       "    <tr>\n",
       "      <th>2</th>\n",
       "      <td>2 AMB 3ER PISO CON ASCENSOR APTO CREDITO</td>\n",
       "      <td>2</td>\n",
       "    </tr>\n",
       "    <tr>\n",
       "      <th>3</th>\n",
       "      <td>PH 3 amb. cfte. reciclado</td>\n",
       "      <td>3</td>\n",
       "    </tr>\n",
       "    <tr>\n",
       "      <th>4</th>\n",
       "      <td>DEPTO 2 AMB AL CONTRAFRENTE ZONA CENTRO/PLAZA ...</td>\n",
       "      <td>2</td>\n",
       "    </tr>\n",
       "    <tr>\n",
       "      <th>...</th>\n",
       "      <td>...</td>\n",
       "      <td>...</td>\n",
       "    </tr>\n",
       "    <tr>\n",
       "      <th>121215</th>\n",
       "      <td>Torre Forum Alcorta- Impecable 3 ambientes</td>\n",
       "      <td>3</td>\n",
       "    </tr>\n",
       "    <tr>\n",
       "      <th>121216</th>\n",
       "      <td>Ruca Inmuebles | Venta | Lomas de San Isidro |...</td>\n",
       "      <td>NaN</td>\n",
       "    </tr>\n",
       "    <tr>\n",
       "      <th>121217</th>\n",
       "      <td>VENTA DEPARTAMENTO AMBIENTE DIVISIBLE A ESTREN...</td>\n",
       "      <td>NaN</td>\n",
       "    </tr>\n",
       "    <tr>\n",
       "      <th>121218</th>\n",
       "      <td>2 amb. C/ dep. de servicio al contrafrente| Re...</td>\n",
       "      <td>2</td>\n",
       "    </tr>\n",
       "    <tr>\n",
       "      <th>121219</th>\n",
       "      <td>Departamento apto profesional en el Centro</td>\n",
       "      <td>NaN</td>\n",
       "    </tr>\n",
       "  </tbody>\n",
       "</table>\n",
       "<p>121220 rows × 2 columns</p>\n",
       "</div>"
      ],
      "text/plain": [
       "                                                    title rooms_title\n",
       "0                      2 AMB TIPO CASA SIN EXPENSAS EN PB           2\n",
       "1       VENTA Depto 2 dorm. a estrenar 7 e/ 36 y 37   ...         NaN\n",
       "2                2 AMB 3ER PISO CON ASCENSOR APTO CREDITO           2\n",
       "3                            PH 3 amb. cfte. reciclado              3\n",
       "4       DEPTO 2 AMB AL CONTRAFRENTE ZONA CENTRO/PLAZA ...           2\n",
       "...                                                   ...         ...\n",
       "121215         Torre Forum Alcorta- Impecable 3 ambientes           3\n",
       "121216  Ruca Inmuebles | Venta | Lomas de San Isidro |...         NaN\n",
       "121217  VENTA DEPARTAMENTO AMBIENTE DIVISIBLE A ESTREN...         NaN\n",
       "121218  2 amb. C/ dep. de servicio al contrafrente| Re...           2\n",
       "121219         Departamento apto profesional en el Centro         NaN\n",
       "\n",
       "[121220 rows x 2 columns]"
      ]
     },
     "execution_count": 97,
     "metadata": {},
     "output_type": "execute_result"
    }
   ],
   "source": [
    "data_nuevo.loc[:,['title','rooms_title']]"
   ]
  },
  {
   "cell_type": "code",
   "execution_count": 98,
   "metadata": {},
   "outputs": [
    {
     "data": {
      "text/plain": [
       "20974"
      ]
     },
     "execution_count": 98,
     "metadata": {},
     "output_type": "execute_result"
    }
   ],
   "source": [
    "data_nuevo.rooms_title.notnull().sum()"
   ]
  },
  {
   "cell_type": "markdown",
   "metadata": {},
   "source": [
    "### 5.2  Hacemos Regex sobre la columna title para los valores de precio en dolares "
   ]
  },
  {
   "cell_type": "code",
   "execution_count": 99,
   "metadata": {},
   "outputs": [],
   "source": [
    "# Pasos regex precios en title\n",
    "# Creamos el patron para dolares\n",
    "price_pattern = \"(?P<dolar>(US\\W+)|(U\\WD)|(USD))\\s?(?P<monto>(\\d?\\d?\\d?.\\d?\\d\\d.\\d\\d\\d))\"\n",
    "\n",
    "# Compilo el patron\n",
    "price_pattern_regex = re.compile(price_pattern)\n",
    "\n",
    "# Genero el objeto match\n",
    "price_match_result = data_upper_title.apply(lambda x: price_pattern_regex.search(x))\n",
    "\n",
    "# Creo la boolean mask sin missings values\n",
    "price_match_notnull = price_match_result.notnull()\n",
    "\n",
    "# Creo el objeto match sin missings values\n",
    "data_nuevo['price_title'] = price_match_result[price_match_notnull].apply(lambda x: x if x is np.NaN else x.group(0))"
   ]
  },
  {
   "cell_type": "code",
   "execution_count": 100,
   "metadata": {},
   "outputs": [
    {
     "data": {
      "text/html": [
       "<div>\n",
       "<style scoped>\n",
       "    .dataframe tbody tr th:only-of-type {\n",
       "        vertical-align: middle;\n",
       "    }\n",
       "\n",
       "    .dataframe tbody tr th {\n",
       "        vertical-align: top;\n",
       "    }\n",
       "\n",
       "    .dataframe thead th {\n",
       "        text-align: right;\n",
       "    }\n",
       "</style>\n",
       "<table border=\"1\" class=\"dataframe\">\n",
       "  <thead>\n",
       "    <tr style=\"text-align: right;\">\n",
       "      <th></th>\n",
       "      <th>title</th>\n",
       "      <th>price_title</th>\n",
       "    </tr>\n",
       "  </thead>\n",
       "  <tbody>\n",
       "    <tr>\n",
       "      <th>0</th>\n",
       "      <td>2 AMB TIPO CASA SIN EXPENSAS EN PB</td>\n",
       "      <td>NaN</td>\n",
       "    </tr>\n",
       "    <tr>\n",
       "      <th>1</th>\n",
       "      <td>VENTA Depto 2 dorm. a estrenar 7 e/ 36 y 37   ...</td>\n",
       "      <td>NaN</td>\n",
       "    </tr>\n",
       "    <tr>\n",
       "      <th>2</th>\n",
       "      <td>2 AMB 3ER PISO CON ASCENSOR APTO CREDITO</td>\n",
       "      <td>NaN</td>\n",
       "    </tr>\n",
       "    <tr>\n",
       "      <th>3</th>\n",
       "      <td>PH 3 amb. cfte. reciclado</td>\n",
       "      <td>NaN</td>\n",
       "    </tr>\n",
       "    <tr>\n",
       "      <th>4</th>\n",
       "      <td>DEPTO 2 AMB AL CONTRAFRENTE ZONA CENTRO/PLAZA ...</td>\n",
       "      <td>NaN</td>\n",
       "    </tr>\n",
       "    <tr>\n",
       "      <th>...</th>\n",
       "      <td>...</td>\n",
       "      <td>...</td>\n",
       "    </tr>\n",
       "    <tr>\n",
       "      <th>121215</th>\n",
       "      <td>Torre Forum Alcorta- Impecable 3 ambientes</td>\n",
       "      <td>NaN</td>\n",
       "    </tr>\n",
       "    <tr>\n",
       "      <th>121216</th>\n",
       "      <td>Ruca Inmuebles | Venta | Lomas de San Isidro |...</td>\n",
       "      <td>NaN</td>\n",
       "    </tr>\n",
       "    <tr>\n",
       "      <th>121217</th>\n",
       "      <td>VENTA DEPARTAMENTO AMBIENTE DIVISIBLE A ESTREN...</td>\n",
       "      <td>NaN</td>\n",
       "    </tr>\n",
       "    <tr>\n",
       "      <th>121218</th>\n",
       "      <td>2 amb. C/ dep. de servicio al contrafrente| Re...</td>\n",
       "      <td>NaN</td>\n",
       "    </tr>\n",
       "    <tr>\n",
       "      <th>121219</th>\n",
       "      <td>Departamento apto profesional en el Centro</td>\n",
       "      <td>NaN</td>\n",
       "    </tr>\n",
       "  </tbody>\n",
       "</table>\n",
       "<p>121220 rows × 2 columns</p>\n",
       "</div>"
      ],
      "text/plain": [
       "                                                    title price_title\n",
       "0                      2 AMB TIPO CASA SIN EXPENSAS EN PB         NaN\n",
       "1       VENTA Depto 2 dorm. a estrenar 7 e/ 36 y 37   ...         NaN\n",
       "2                2 AMB 3ER PISO CON ASCENSOR APTO CREDITO         NaN\n",
       "3                            PH 3 amb. cfte. reciclado            NaN\n",
       "4       DEPTO 2 AMB AL CONTRAFRENTE ZONA CENTRO/PLAZA ...         NaN\n",
       "...                                                   ...         ...\n",
       "121215         Torre Forum Alcorta- Impecable 3 ambientes         NaN\n",
       "121216  Ruca Inmuebles | Venta | Lomas de San Isidro |...         NaN\n",
       "121217  VENTA DEPARTAMENTO AMBIENTE DIVISIBLE A ESTREN...         NaN\n",
       "121218  2 amb. C/ dep. de servicio al contrafrente| Re...         NaN\n",
       "121219         Departamento apto profesional en el Centro         NaN\n",
       "\n",
       "[121220 rows x 2 columns]"
      ]
     },
     "execution_count": 100,
     "metadata": {},
     "output_type": "execute_result"
    }
   ],
   "source": [
    "data_nuevo.loc[:,['title','price_title']]"
   ]
  },
  {
   "cell_type": "code",
   "execution_count": 101,
   "metadata": {},
   "outputs": [
    {
     "data": {
      "text/plain": [
       "2534"
      ]
     },
     "execution_count": 101,
     "metadata": {},
     "output_type": "execute_result"
    }
   ],
   "source": [
    "data_nuevo.price_title.notnull().sum()"
   ]
  },
  {
   "cell_type": "markdown",
   "metadata": {},
   "source": [
    "### 5.3 Hacemos Regex sobre la columna title para sacar la cantidad de metros cuadrados."
   ]
  },
  {
   "cell_type": "code",
   "execution_count": 102,
   "metadata": {},
   "outputs": [],
   "source": [
    "# Creamos el patron de m2 para title\n",
    "mts2_pattern = '(?P<numbers>\\d?\\d?\\d?.?\\d?\\d?\\d)\\s?(?P<m2>METROS\\s?CUADRADOS|M2|M²|MTS2$)'\n",
    "\n",
    "# Compilo el patron\n",
    "mts2_pattern_regex = re.compile(mts2_pattern)\n",
    "\n",
    "# Generamos el objeto match\n",
    "mts2_match_result = data_upper_title.apply(lambda x: mts2_pattern_regex.search(x))\n",
    "\n",
    "# Creamos una boolean mask sin missings values\n",
    "mts2_match_notnull = mts2_match_result.notnull()\n",
    "\n",
    "# Generamos el objeto matc sin missings values\n",
    "data_nuevo['m2_title'] = mts2_match_result[mts2_match_notnull].apply(lambda x: x if x is np.NaN else x.group(0))"
   ]
  },
  {
   "cell_type": "code",
   "execution_count": 103,
   "metadata": {},
   "outputs": [
    {
     "data": {
      "text/html": [
       "<div>\n",
       "<style scoped>\n",
       "    .dataframe tbody tr th:only-of-type {\n",
       "        vertical-align: middle;\n",
       "    }\n",
       "\n",
       "    .dataframe tbody tr th {\n",
       "        vertical-align: top;\n",
       "    }\n",
       "\n",
       "    .dataframe thead th {\n",
       "        text-align: right;\n",
       "    }\n",
       "</style>\n",
       "<table border=\"1\" class=\"dataframe\">\n",
       "  <thead>\n",
       "    <tr style=\"text-align: right;\">\n",
       "      <th></th>\n",
       "      <th>title</th>\n",
       "      <th>m2_title</th>\n",
       "    </tr>\n",
       "  </thead>\n",
       "  <tbody>\n",
       "    <tr>\n",
       "      <th>0</th>\n",
       "      <td>2 AMB TIPO CASA SIN EXPENSAS EN PB</td>\n",
       "      <td>NaN</td>\n",
       "    </tr>\n",
       "    <tr>\n",
       "      <th>1</th>\n",
       "      <td>VENTA Depto 2 dorm. a estrenar 7 e/ 36 y 37   ...</td>\n",
       "      <td>NaN</td>\n",
       "    </tr>\n",
       "    <tr>\n",
       "      <th>2</th>\n",
       "      <td>2 AMB 3ER PISO CON ASCENSOR APTO CREDITO</td>\n",
       "      <td>NaN</td>\n",
       "    </tr>\n",
       "    <tr>\n",
       "      <th>3</th>\n",
       "      <td>PH 3 amb. cfte. reciclado</td>\n",
       "      <td>NaN</td>\n",
       "    </tr>\n",
       "    <tr>\n",
       "      <th>4</th>\n",
       "      <td>DEPTO 2 AMB AL CONTRAFRENTE ZONA CENTRO/PLAZA ...</td>\n",
       "      <td>NaN</td>\n",
       "    </tr>\n",
       "    <tr>\n",
       "      <th>...</th>\n",
       "      <td>...</td>\n",
       "      <td>...</td>\n",
       "    </tr>\n",
       "    <tr>\n",
       "      <th>121215</th>\n",
       "      <td>Torre Forum Alcorta- Impecable 3 ambientes</td>\n",
       "      <td>NaN</td>\n",
       "    </tr>\n",
       "    <tr>\n",
       "      <th>121216</th>\n",
       "      <td>Ruca Inmuebles | Venta | Lomas de San Isidro |...</td>\n",
       "      <td>NaN</td>\n",
       "    </tr>\n",
       "    <tr>\n",
       "      <th>121217</th>\n",
       "      <td>VENTA DEPARTAMENTO AMBIENTE DIVISIBLE A ESTREN...</td>\n",
       "      <td>NaN</td>\n",
       "    </tr>\n",
       "    <tr>\n",
       "      <th>121218</th>\n",
       "      <td>2 amb. C/ dep. de servicio al contrafrente| Re...</td>\n",
       "      <td>NaN</td>\n",
       "    </tr>\n",
       "    <tr>\n",
       "      <th>121219</th>\n",
       "      <td>Departamento apto profesional en el Centro</td>\n",
       "      <td>NaN</td>\n",
       "    </tr>\n",
       "  </tbody>\n",
       "</table>\n",
       "<p>121220 rows × 2 columns</p>\n",
       "</div>"
      ],
      "text/plain": [
       "                                                    title m2_title\n",
       "0                      2 AMB TIPO CASA SIN EXPENSAS EN PB      NaN\n",
       "1       VENTA Depto 2 dorm. a estrenar 7 e/ 36 y 37   ...      NaN\n",
       "2                2 AMB 3ER PISO CON ASCENSOR APTO CREDITO      NaN\n",
       "3                            PH 3 amb. cfte. reciclado         NaN\n",
       "4       DEPTO 2 AMB AL CONTRAFRENTE ZONA CENTRO/PLAZA ...      NaN\n",
       "...                                                   ...      ...\n",
       "121215         Torre Forum Alcorta- Impecable 3 ambientes      NaN\n",
       "121216  Ruca Inmuebles | Venta | Lomas de San Isidro |...      NaN\n",
       "121217  VENTA DEPARTAMENTO AMBIENTE DIVISIBLE A ESTREN...      NaN\n",
       "121218  2 amb. C/ dep. de servicio al contrafrente| Re...      NaN\n",
       "121219         Departamento apto profesional en el Centro      NaN\n",
       "\n",
       "[121220 rows x 2 columns]"
      ]
     },
     "execution_count": 103,
     "metadata": {},
     "output_type": "execute_result"
    }
   ],
   "source": [
    "data_nuevo.loc[:,['title','m2_title']]"
   ]
  },
  {
   "cell_type": "code",
   "execution_count": 104,
   "metadata": {},
   "outputs": [
    {
     "data": {
      "text/plain": [
       "6222"
      ]
     },
     "execution_count": 104,
     "metadata": {},
     "output_type": "execute_result"
    }
   ],
   "source": [
    "data_nuevo.m2_title.notnull().sum()"
   ]
  },
  {
   "cell_type": "markdown",
   "metadata": {},
   "source": [
    "### 5.4 Hacemos Regex sobre la columna title para sacar el tipo de propiedad "
   ]
  },
  {
   "cell_type": "code",
   "execution_count": 106,
   "metadata": {},
   "outputs": [],
   "source": [
    "# Creamos el patron de tipo de propiedad para title\n",
    "property_pattern = '(?P<property_type>CASA|DUPLEX|RESIDENCIA|CHALET)'\n",
    "\n",
    "# Compilo el patron\n",
    "property_pattern_regex = re.compile(property_pattern)\n",
    "\n",
    "# Generamos el objeto match\n",
    "property_match_result = data_upper_title.apply(lambda x: property_pattern_regex.search(x))\n",
    "\n",
    "# Creamos una boolean mask sin missings values\n",
    "property_match_notnull = property_match_result.notnull()\n",
    "\n",
    "# Generamos el objeto matc sin missings values\n",
    "data_nuevo['property_title'] = property_match_result[property_match_notnull].apply(lambda x: x if x is np.NaN else x.group(0))"
   ]
  },
  {
   "cell_type": "code",
   "execution_count": 107,
   "metadata": {},
   "outputs": [
    {
     "data": {
      "text/html": [
       "<div>\n",
       "<style scoped>\n",
       "    .dataframe tbody tr th:only-of-type {\n",
       "        vertical-align: middle;\n",
       "    }\n",
       "\n",
       "    .dataframe tbody tr th {\n",
       "        vertical-align: top;\n",
       "    }\n",
       "\n",
       "    .dataframe thead th {\n",
       "        text-align: right;\n",
       "    }\n",
       "</style>\n",
       "<table border=\"1\" class=\"dataframe\">\n",
       "  <thead>\n",
       "    <tr style=\"text-align: right;\">\n",
       "      <th></th>\n",
       "      <th>title</th>\n",
       "      <th>property_title</th>\n",
       "    </tr>\n",
       "  </thead>\n",
       "  <tbody>\n",
       "    <tr>\n",
       "      <th>0</th>\n",
       "      <td>2 AMB TIPO CASA SIN EXPENSAS EN PB</td>\n",
       "      <td>CASA</td>\n",
       "    </tr>\n",
       "    <tr>\n",
       "      <th>1</th>\n",
       "      <td>VENTA Depto 2 dorm. a estrenar 7 e/ 36 y 37   ...</td>\n",
       "      <td>NaN</td>\n",
       "    </tr>\n",
       "    <tr>\n",
       "      <th>2</th>\n",
       "      <td>2 AMB 3ER PISO CON ASCENSOR APTO CREDITO</td>\n",
       "      <td>NaN</td>\n",
       "    </tr>\n",
       "    <tr>\n",
       "      <th>3</th>\n",
       "      <td>PH 3 amb. cfte. reciclado</td>\n",
       "      <td>NaN</td>\n",
       "    </tr>\n",
       "    <tr>\n",
       "      <th>4</th>\n",
       "      <td>DEPTO 2 AMB AL CONTRAFRENTE ZONA CENTRO/PLAZA ...</td>\n",
       "      <td>NaN</td>\n",
       "    </tr>\n",
       "    <tr>\n",
       "      <th>...</th>\n",
       "      <td>...</td>\n",
       "      <td>...</td>\n",
       "    </tr>\n",
       "    <tr>\n",
       "      <th>121215</th>\n",
       "      <td>Torre Forum Alcorta- Impecable 3 ambientes</td>\n",
       "      <td>NaN</td>\n",
       "    </tr>\n",
       "    <tr>\n",
       "      <th>121216</th>\n",
       "      <td>Ruca Inmuebles | Venta | Lomas de San Isidro |...</td>\n",
       "      <td>NaN</td>\n",
       "    </tr>\n",
       "    <tr>\n",
       "      <th>121217</th>\n",
       "      <td>VENTA DEPARTAMENTO AMBIENTE DIVISIBLE A ESTREN...</td>\n",
       "      <td>NaN</td>\n",
       "    </tr>\n",
       "    <tr>\n",
       "      <th>121218</th>\n",
       "      <td>2 amb. C/ dep. de servicio al contrafrente| Re...</td>\n",
       "      <td>NaN</td>\n",
       "    </tr>\n",
       "    <tr>\n",
       "      <th>121219</th>\n",
       "      <td>Departamento apto profesional en el Centro</td>\n",
       "      <td>NaN</td>\n",
       "    </tr>\n",
       "  </tbody>\n",
       "</table>\n",
       "<p>121220 rows × 2 columns</p>\n",
       "</div>"
      ],
      "text/plain": [
       "                                                    title property_title\n",
       "0                      2 AMB TIPO CASA SIN EXPENSAS EN PB           CASA\n",
       "1       VENTA Depto 2 dorm. a estrenar 7 e/ 36 y 37   ...            NaN\n",
       "2                2 AMB 3ER PISO CON ASCENSOR APTO CREDITO            NaN\n",
       "3                            PH 3 amb. cfte. reciclado               NaN\n",
       "4       DEPTO 2 AMB AL CONTRAFRENTE ZONA CENTRO/PLAZA ...            NaN\n",
       "...                                                   ...            ...\n",
       "121215         Torre Forum Alcorta- Impecable 3 ambientes            NaN\n",
       "121216  Ruca Inmuebles | Venta | Lomas de San Isidro |...            NaN\n",
       "121217  VENTA DEPARTAMENTO AMBIENTE DIVISIBLE A ESTREN...            NaN\n",
       "121218  2 amb. C/ dep. de servicio al contrafrente| Re...            NaN\n",
       "121219         Departamento apto profesional en el Centro            NaN\n",
       "\n",
       "[121220 rows x 2 columns]"
      ]
     },
     "execution_count": 107,
     "metadata": {},
     "output_type": "execute_result"
    }
   ],
   "source": [
    "data_nuevo.loc[:,['title','property_title']]"
   ]
  },
  {
   "cell_type": "code",
   "execution_count": null,
   "metadata": {},
   "outputs": [],
   "source": [
    "data_nuevo.property_title.notnull().sum()"
   ]
  },
  {
   "cell_type": "markdown",
   "metadata": {},
   "source": [
    "# 6. Resultados Regex de las columnas \"description\" y \"title\"\n"
   ]
  },
  {
   "cell_type": "markdown",
   "metadata": {},
   "source": [
    "### Regex description\n",
    "\n",
    "* M2 = rescatamos 30.041\n",
    "* Rooms = rescatamos  39.761\n",
    "* Dólares = rescatamos 3.924 \n",
    "* Tipo propiedad = 36.807\n",
    "\n",
    "### Regex title \n",
    "* M2 = rescatamos 6222\n",
    "* Rooms = rescatamos  39.761\n",
    "* Dólares = rescatamos 2.534\n",
    "* Tipo  de propiedad  =36. 807\n"
   ]
  },
  {
   "cell_type": "markdown",
   "metadata": {},
   "source": [
    "# 7. Visualizamos y agregamos los datos obtenidos en description y title "
   ]
  },
  {
   "cell_type": "markdown",
   "metadata": {},
   "source": [
    "### 7.1 Rellenamos valores nulos de \"rooms\" con \"rooms_desc\""
   ]
  },
  {
   "cell_type": "code",
   "execution_count": 108,
   "metadata": {},
   "outputs": [],
   "source": [
    "# Creamos las series de rooms y rooms_desc\n",
    "rooms_desc_serie = data_nuevo.rooms_desc\n",
    "rooms_serie = data_nuevo.rooms\n",
    "\n",
    "# Convertimos rooms_desc a float\n",
    "data_nuevo[\"rooms_desc\"] = rooms_desc_serie.astype(float)\n",
    "\n",
    "# Reemplazamos los missings values que esten en rooms por los valores que tenga rooms_desc\n",
    "data_nuevo['rooms'] = rooms_serie.fillna(rooms_desc_serie)"
   ]
  },
  {
   "cell_type": "code",
   "execution_count": 109,
   "metadata": {},
   "outputs": [
    {
     "data": {
      "text/html": [
       "<div>\n",
       "<style scoped>\n",
       "    .dataframe tbody tr th:only-of-type {\n",
       "        vertical-align: middle;\n",
       "    }\n",
       "\n",
       "    .dataframe tbody tr th {\n",
       "        vertical-align: top;\n",
       "    }\n",
       "\n",
       "    .dataframe thead th {\n",
       "        text-align: right;\n",
       "    }\n",
       "</style>\n",
       "<table border=\"1\" class=\"dataframe\">\n",
       "  <thead>\n",
       "    <tr style=\"text-align: right;\">\n",
       "      <th></th>\n",
       "      <th>rooms</th>\n",
       "      <th>rooms_desc</th>\n",
       "    </tr>\n",
       "  </thead>\n",
       "  <tbody>\n",
       "    <tr>\n",
       "      <th>0</th>\n",
       "      <td>2</td>\n",
       "      <td>2.0</td>\n",
       "    </tr>\n",
       "    <tr>\n",
       "      <th>1</th>\n",
       "      <td>NaN</td>\n",
       "      <td>NaN</td>\n",
       "    </tr>\n",
       "    <tr>\n",
       "      <th>2</th>\n",
       "      <td>2</td>\n",
       "      <td>2.0</td>\n",
       "    </tr>\n",
       "    <tr>\n",
       "      <th>3</th>\n",
       "      <td>3</td>\n",
       "      <td>3.0</td>\n",
       "    </tr>\n",
       "    <tr>\n",
       "      <th>4</th>\n",
       "      <td>NaN</td>\n",
       "      <td>NaN</td>\n",
       "    </tr>\n",
       "    <tr>\n",
       "      <th>...</th>\n",
       "      <td>...</td>\n",
       "      <td>...</td>\n",
       "    </tr>\n",
       "    <tr>\n",
       "      <th>121215</th>\n",
       "      <td>NaN</td>\n",
       "      <td>NaN</td>\n",
       "    </tr>\n",
       "    <tr>\n",
       "      <th>121216</th>\n",
       "      <td>NaN</td>\n",
       "      <td>NaN</td>\n",
       "    </tr>\n",
       "    <tr>\n",
       "      <th>121217</th>\n",
       "      <td>NaN</td>\n",
       "      <td>NaN</td>\n",
       "    </tr>\n",
       "    <tr>\n",
       "      <th>121218</th>\n",
       "      <td>2</td>\n",
       "      <td>2.0</td>\n",
       "    </tr>\n",
       "    <tr>\n",
       "      <th>121219</th>\n",
       "      <td>NaN</td>\n",
       "      <td>NaN</td>\n",
       "    </tr>\n",
       "  </tbody>\n",
       "</table>\n",
       "<p>121220 rows × 2 columns</p>\n",
       "</div>"
      ],
      "text/plain": [
       "       rooms  rooms_desc\n",
       "0          2         2.0\n",
       "1        NaN         NaN\n",
       "2          2         2.0\n",
       "3          3         3.0\n",
       "4        NaN         NaN\n",
       "...      ...         ...\n",
       "121215   NaN         NaN\n",
       "121216   NaN         NaN\n",
       "121217   NaN         NaN\n",
       "121218     2         2.0\n",
       "121219   NaN         NaN\n",
       "\n",
       "[121220 rows x 2 columns]"
      ]
     },
     "execution_count": 109,
     "metadata": {},
     "output_type": "execute_result"
    }
   ],
   "source": [
    "data_nuevo.loc[:,['rooms','rooms_desc']]"
   ]
  },
  {
   "cell_type": "code",
   "execution_count": 110,
   "metadata": {},
   "outputs": [
    {
     "data": {
      "text/plain": [
       "67594"
      ]
     },
     "execution_count": 110,
     "metadata": {},
     "output_type": "execute_result"
    }
   ],
   "source": [
    "data_nuevo.rooms.notnull().sum()"
   ]
  },
  {
   "cell_type": "markdown",
   "metadata": {},
   "source": [
    "### 7.2 Rellenamos valores nulos de surface_total_in_m2 con m2_desc"
   ]
  },
  {
   "cell_type": "code",
   "execution_count": null,
   "metadata": {},
   "outputs": [],
   "source": [
    "# Creramos la serie de surface_total_in_m2 y m2_desc\n",
    "#surface_total_in_m2_serie = data_nuevo.surface_total_in_m2\n",
    "#m2_desc_serie_str = data_nuevo.m2_desc.astype(str)\n",
    "\n",
    "# 1-Reemplazar valores con caracteres especiales delante de los montos iguales o superiores a mil\n",
    "# Creo el patron nuevo\n",
    "#pattern_suffix = \"(?P<numbers>^\\d?\\d?\\d?.?\\d?\\d?\\d)\" \n",
    "\n",
    "# Compilo el nuevo patron\n",
    "#pattern_suffix_regex = re.compile(pattern_suffix)\n",
    "\n",
    "# Generamos el nuevo objeto match\n",
    "#m2_new_match = m2_desc_serie_str.apply(lambda x: pattern_suffix_regex.search(x))\n",
    "\n",
    "# Creamos una boolean mask sin missings values\n",
    "#m2_new_match_notnull = m2_new_match.notnull()\n",
    "\n",
    "# Generamos el nuevo objeto match sin missings values\n",
    "#data_nuevo['m2_desc'] = m2_new_match[m2_new_match_notnull].apply(lambda x: x if x is np.NaN else x.group('numbers'))"
   ]
  },
  {
   "cell_type": "code",
   "execution_count": null,
   "metadata": {},
   "outputs": [],
   "source": [
    "# 1-Reemplazar valores con string delante de los montos inferioes a mil\n",
    "# Creo el patron nuevo\n",
    "#pattern_scar = '[A-Z]'\n",
    " \n",
    "# Compilo el nuevo patron\n",
    "#pattern_scar_regex = re.compile(pattern_scar)\n",
    "\n",
    "# Reemplazo los caracteres especiales\n",
    "#cadena_reemplazo = ''\n",
    "\n",
    "# Generamos el nuevo objeto match de reemplazo\n",
    "#data_nuevo['m2_desc'] = m2_desc_serie_str.apply(lambda x: pattern_scar_regex.sub(cadena_reemplazo,x))"
   ]
  },
  {
   "cell_type": "code",
   "execution_count": null,
   "metadata": {},
   "outputs": [],
   "source": [
    "# 2-Reemplazar valores con caracteres especiales de los montos inferioes a mil\n",
    "# Creo el patron nuevo\n",
    "#pattern_scar = '\\D[^,]*'\n",
    "\n",
    "# Compilo el nuevo patron\n",
    "#pattern_scar_regex = re.compile(pattern_scar)\n",
    "\n",
    "# Reemplazo los caracteres especiales\n",
    "#cadena_reemplazo = ''\n",
    "\n",
    "# Generamos el nuevo objeto match de reemplazo\n",
    "#data_nuevo['m2_desc'] = m2_desc_serie_str.apply(lambda x: pattern_scar_regex.sub(cadena_reemplazo,x))"
   ]
  },
  {
   "cell_type": "code",
   "execution_count": null,
   "metadata": {
    "scrolled": true
   },
   "outputs": [],
   "source": [
    "# verificamos que los valores obtenidos tengan un formato float64 limpio \n",
    "\n",
    "#data_nuevo['m2_desc'].unique().tolist()"
   ]
  },
  {
   "cell_type": "code",
   "execution_count": null,
   "metadata": {},
   "outputs": [],
   "source": [
    "# Convertimos la columna m2_desc a float\n",
    "#data_nuevo['m2_desc'] = pd.to_numeric(data_nuevo['m2_desc'],errors='coerce')\n",
    "\n",
    "# Creamos la boolean mask con valores mayores o iguales a 10 m2 \n",
    "#more_10m2_mask = data_nuevo['m2_desc'] >= 10\n",
    "\n",
    "# Colocamos la boolean mask dentro de la serie de m2_desc\n",
    "#data_nuevo['m2_desc'] = data_nuevo.m2_desc.loc[more_10m2_mask]"
   ]
  },
  {
   "cell_type": "code",
   "execution_count": null,
   "metadata": {},
   "outputs": [],
   "source": [
    "#data_nuevo.loc[:,['surface_total_in_m2','m2_desc','description']]"
   ]
  },
  {
   "cell_type": "code",
   "execution_count": null,
   "metadata": {},
   "outputs": [],
   "source": [
    "# Reemplazamos los missings values que esten en surface_total_in_m2 por los valores que tenga m2_desc\n",
    "#data_nuevo['surface_total_in_m2'] = surface_total_in_m2_serie.fillna(data_nuevo.m2_desc)"
   ]
  },
  {
   "cell_type": "code",
   "execution_count": null,
   "metadata": {},
   "outputs": [],
   "source": [
    "#data_nuevo['surface_total_in_m2'].notnull().sum()"
   ]
  },
  {
   "cell_type": "markdown",
   "metadata": {},
   "source": [
    "Conclusion: La información extraida de la columna description no nos aporta un volumen significativo de datos que se puedan recuperar para la columna surface_total_in_m2"
   ]
  },
  {
   "cell_type": "markdown",
   "metadata": {},
   "source": [
    "### 7.3 Rellenamos valores nulos de \"price_aprox_usd\" con la columna \"dollar_desc\"\n"
   ]
  },
  {
   "cell_type": "code",
   "execution_count": 111,
   "metadata": {
    "scrolled": true
   },
   "outputs": [
    {
     "data": {
      "text/html": [
       "<div>\n",
       "<style scoped>\n",
       "    .dataframe tbody tr th:only-of-type {\n",
       "        vertical-align: middle;\n",
       "    }\n",
       "\n",
       "    .dataframe tbody tr th {\n",
       "        vertical-align: top;\n",
       "    }\n",
       "\n",
       "    .dataframe thead th {\n",
       "        text-align: right;\n",
       "    }\n",
       "</style>\n",
       "<table border=\"1\" class=\"dataframe\">\n",
       "  <thead>\n",
       "    <tr style=\"text-align: right;\">\n",
       "      <th></th>\n",
       "      <th>description</th>\n",
       "      <th>dollar_desc</th>\n",
       "      <th>price_title</th>\n",
       "    </tr>\n",
       "  </thead>\n",
       "  <tbody>\n",
       "    <tr>\n",
       "      <th>0</th>\n",
       "      <td>2 AMBIENTES TIPO CASA PLANTA BAJA POR PASILLO,...</td>\n",
       "      <td>NaN</td>\n",
       "      <td>NaN</td>\n",
       "    </tr>\n",
       "    <tr>\n",
       "      <th>1</th>\n",
       "      <td>Venta de departamento en décimo piso al frente...</td>\n",
       "      <td>U$D 20.000</td>\n",
       "      <td>NaN</td>\n",
       "    </tr>\n",
       "    <tr>\n",
       "      <th>2</th>\n",
       "      <td>2 AMBIENTES 3ER PISO LATERAL LIVING COMEDOR AM...</td>\n",
       "      <td>NaN</td>\n",
       "      <td>NaN</td>\n",
       "    </tr>\n",
       "    <tr>\n",
       "      <th>3</th>\n",
       "      <td>PH 3 ambientes con patio. Hay 3 deptos en lote...</td>\n",
       "      <td>NaN</td>\n",
       "      <td>NaN</td>\n",
       "    </tr>\n",
       "    <tr>\n",
       "      <th>4</th>\n",
       "      <td>DEPARTAMENTO CON FANTÁSTICA ILUMINACIÓN NATURA...</td>\n",
       "      <td>NaN</td>\n",
       "      <td>NaN</td>\n",
       "    </tr>\n",
       "    <tr>\n",
       "      <th>5</th>\n",
       "      <td>Casa en el perímetro del barrio 338, ubicada e...</td>\n",
       "      <td>NaN</td>\n",
       "      <td>NaN</td>\n",
       "    </tr>\n",
       "  </tbody>\n",
       "</table>\n",
       "</div>"
      ],
      "text/plain": [
       "                                         description dollar_desc price_title\n",
       "0  2 AMBIENTES TIPO CASA PLANTA BAJA POR PASILLO,...         NaN         NaN\n",
       "1  Venta de departamento en décimo piso al frente...  U$D 20.000         NaN\n",
       "2  2 AMBIENTES 3ER PISO LATERAL LIVING COMEDOR AM...         NaN         NaN\n",
       "3  PH 3 ambientes con patio. Hay 3 deptos en lote...         NaN         NaN\n",
       "4  DEPARTAMENTO CON FANTÁSTICA ILUMINACIÓN NATURA...         NaN         NaN\n",
       "5  Casa en el perímetro del barrio 338, ubicada e...         NaN         NaN"
      ]
     },
     "execution_count": 111,
     "metadata": {},
     "output_type": "execute_result"
    }
   ],
   "source": [
    "# Evaluamos coherencia y correcta aplicacion del match\n",
    "data_nuevo.loc[0:5,['description','dollar_desc',\"price_title\"]]"
   ]
  },
  {
   "cell_type": "code",
   "execution_count": 112,
   "metadata": {},
   "outputs": [
    {
     "name": "stdout",
     "output_type": "stream",
     "text": [
      "True\n"
     ]
    },
    {
     "data": {
      "text/html": [
       "<div>\n",
       "<style scoped>\n",
       "    .dataframe tbody tr th:only-of-type {\n",
       "        vertical-align: middle;\n",
       "    }\n",
       "\n",
       "    .dataframe tbody tr th {\n",
       "        vertical-align: top;\n",
       "    }\n",
       "\n",
       "    .dataframe thead th {\n",
       "        text-align: right;\n",
       "    }\n",
       "</style>\n",
       "<table border=\"1\" class=\"dataframe\">\n",
       "  <thead>\n",
       "    <tr style=\"text-align: right;\">\n",
       "      <th></th>\n",
       "      <th>Unnamed: 0</th>\n",
       "      <th>operation</th>\n",
       "      <th>property_type</th>\n",
       "      <th>place_name</th>\n",
       "      <th>place_with_parent_names</th>\n",
       "      <th>country_name</th>\n",
       "      <th>state_name</th>\n",
       "      <th>geonames_id</th>\n",
       "      <th>lat-lon</th>\n",
       "      <th>lat</th>\n",
       "      <th>...</th>\n",
       "      <th>Provincia</th>\n",
       "      <th>Barrio</th>\n",
       "      <th>m2_desc</th>\n",
       "      <th>rooms_desc</th>\n",
       "      <th>dollar_desc</th>\n",
       "      <th>property_desc</th>\n",
       "      <th>rooms_title</th>\n",
       "      <th>price_title</th>\n",
       "      <th>m2_title</th>\n",
       "      <th>property_title</th>\n",
       "    </tr>\n",
       "  </thead>\n",
       "  <tbody>\n",
       "    <tr>\n",
       "      <th>92149</th>\n",
       "      <td>92149</td>\n",
       "      <td>sell</td>\n",
       "      <td>house</td>\n",
       "      <td>Punilla</td>\n",
       "      <td>|Argentina|Córdoba|Punilla|</td>\n",
       "      <td>Argentina</td>\n",
       "      <td>Córdoba</td>\n",
       "      <td>3839996.0</td>\n",
       "      <td>NaN</td>\n",
       "      <td>NaN</td>\n",
       "      <td>...</td>\n",
       "      <td>Córdoba</td>\n",
       "      <td>Punilla</td>\n",
       "      <td>NaN</td>\n",
       "      <td>NaN</td>\n",
       "      <td>U$D 100.000</td>\n",
       "      <td>CASA</td>\n",
       "      <td>NaN</td>\n",
       "      <td>NaN</td>\n",
       "      <td>NaN</td>\n",
       "      <td>CASA</td>\n",
       "    </tr>\n",
       "    <tr>\n",
       "      <th>119300</th>\n",
       "      <td>119300</td>\n",
       "      <td>sell</td>\n",
       "      <td>PH</td>\n",
       "      <td>Villa Ballester</td>\n",
       "      <td>|Argentina|Bs.As. G.B.A. Zona Norte|General Sa...</td>\n",
       "      <td>Argentina</td>\n",
       "      <td>Bs.As. G.B.A. Zona Norte</td>\n",
       "      <td>3427467.0</td>\n",
       "      <td>-34.5454848068,-58.5673549524</td>\n",
       "      <td>-34.545485</td>\n",
       "      <td>...</td>\n",
       "      <td>Bs.As. G.B.A. Zona Norte</td>\n",
       "      <td>General San Martín</td>\n",
       "      <td>NaN</td>\n",
       "      <td>NaN</td>\n",
       "      <td>U$D 100.000</td>\n",
       "      <td>CASA</td>\n",
       "      <td>NaN</td>\n",
       "      <td>NaN</td>\n",
       "      <td>NaN</td>\n",
       "      <td>NaN</td>\n",
       "    </tr>\n",
       "    <tr>\n",
       "      <th>61368</th>\n",
       "      <td>61368</td>\n",
       "      <td>sell</td>\n",
       "      <td>apartment</td>\n",
       "      <td>San Martín de los Andes</td>\n",
       "      <td>|Argentina|Neuquén|San Martín de los Andes|</td>\n",
       "      <td>Argentina</td>\n",
       "      <td>Neuquén</td>\n",
       "      <td>3836951.0</td>\n",
       "      <td>-40.1539514,-71.3449129</td>\n",
       "      <td>-40.153951</td>\n",
       "      <td>...</td>\n",
       "      <td>Neuquén</td>\n",
       "      <td>San Martín de los Andes</td>\n",
       "      <td>53.74</td>\n",
       "      <td>NaN</td>\n",
       "      <td>U$D 105.000</td>\n",
       "      <td>NaN</td>\n",
       "      <td>NaN</td>\n",
       "      <td>NaN</td>\n",
       "      <td>NaN</td>\n",
       "      <td>NaN</td>\n",
       "    </tr>\n",
       "    <tr>\n",
       "      <th>89633</th>\n",
       "      <td>89633</td>\n",
       "      <td>sell</td>\n",
       "      <td>apartment</td>\n",
       "      <td>Villa Ballester</td>\n",
       "      <td>|Argentina|Bs.As. G.B.A. Zona Norte|General Sa...</td>\n",
       "      <td>Argentina</td>\n",
       "      <td>Bs.As. G.B.A. Zona Norte</td>\n",
       "      <td>3427467.0</td>\n",
       "      <td>-34.5443544,-58.5686386</td>\n",
       "      <td>-34.544354</td>\n",
       "      <td>...</td>\n",
       "      <td>Bs.As. G.B.A. Zona Norte</td>\n",
       "      <td>General San Martín</td>\n",
       "      <td>38</td>\n",
       "      <td>3.0</td>\n",
       "      <td>U$D 108.000</td>\n",
       "      <td>NaN</td>\n",
       "      <td>NaN</td>\n",
       "      <td>NaN</td>\n",
       "      <td>NaN</td>\n",
       "      <td>NaN</td>\n",
       "    </tr>\n",
       "    <tr>\n",
       "      <th>39745</th>\n",
       "      <td>39745</td>\n",
       "      <td>sell</td>\n",
       "      <td>apartment</td>\n",
       "      <td>San Luis</td>\n",
       "      <td>|Argentina|San Luis|San Luis|</td>\n",
       "      <td>Argentina</td>\n",
       "      <td>San Luis</td>\n",
       "      <td>3837056.0</td>\n",
       "      <td>-33.2948254,-66.3360086</td>\n",
       "      <td>-33.294825</td>\n",
       "      <td>...</td>\n",
       "      <td>San Luis</td>\n",
       "      <td>San Luis</td>\n",
       "      <td>NaN</td>\n",
       "      <td>NaN</td>\n",
       "      <td>U$D 110.000</td>\n",
       "      <td>NaN</td>\n",
       "      <td>NaN</td>\n",
       "      <td>NaN</td>\n",
       "      <td>NaN</td>\n",
       "      <td>NaN</td>\n",
       "    </tr>\n",
       "  </tbody>\n",
       "</table>\n",
       "<p>5 rows × 36 columns</p>\n",
       "</div>"
      ],
      "text/plain": [
       "        Unnamed: 0 operation property_type               place_name  \\\n",
       "92149        92149      sell         house                  Punilla   \n",
       "119300      119300      sell            PH          Villa Ballester   \n",
       "61368        61368      sell     apartment  San Martín de los Andes   \n",
       "89633        89633      sell     apartment          Villa Ballester   \n",
       "39745        39745      sell     apartment                 San Luis   \n",
       "\n",
       "                                  place_with_parent_names country_name  \\\n",
       "92149                         |Argentina|Córdoba|Punilla|    Argentina   \n",
       "119300  |Argentina|Bs.As. G.B.A. Zona Norte|General Sa...    Argentina   \n",
       "61368         |Argentina|Neuquén|San Martín de los Andes|    Argentina   \n",
       "89633   |Argentina|Bs.As. G.B.A. Zona Norte|General Sa...    Argentina   \n",
       "39745                       |Argentina|San Luis|San Luis|    Argentina   \n",
       "\n",
       "                      state_name  geonames_id                        lat-lon  \\\n",
       "92149                    Córdoba    3839996.0                            NaN   \n",
       "119300  Bs.As. G.B.A. Zona Norte    3427467.0  -34.5454848068,-58.5673549524   \n",
       "61368                    Neuquén    3836951.0        -40.1539514,-71.3449129   \n",
       "89633   Bs.As. G.B.A. Zona Norte    3427467.0        -34.5443544,-58.5686386   \n",
       "39745                   San Luis    3837056.0        -33.2948254,-66.3360086   \n",
       "\n",
       "              lat  ...                 Provincia                   Barrio  \\\n",
       "92149         NaN  ...                   Córdoba                  Punilla   \n",
       "119300 -34.545485  ...  Bs.As. G.B.A. Zona Norte       General San Martín   \n",
       "61368  -40.153951  ...                   Neuquén  San Martín de los Andes   \n",
       "89633  -34.544354  ...  Bs.As. G.B.A. Zona Norte       General San Martín   \n",
       "39745  -33.294825  ...                  San Luis                 San Luis   \n",
       "\n",
       "       m2_desc  rooms_desc  dollar_desc  property_desc  rooms_title  \\\n",
       "92149      NaN         NaN  U$D 100.000           CASA          NaN   \n",
       "119300     NaN         NaN  U$D 100.000           CASA          NaN   \n",
       "61368    53.74         NaN  U$D 105.000            NaN          NaN   \n",
       "89633       38         3.0  U$D 108.000            NaN          NaN   \n",
       "39745      NaN         NaN  U$D 110.000            NaN          NaN   \n",
       "\n",
       "        price_title  m2_title  property_title  \n",
       "92149           NaN       NaN            CASA  \n",
       "119300          NaN       NaN             NaN  \n",
       "61368           NaN       NaN             NaN  \n",
       "89633           NaN       NaN             NaN  \n",
       "39745           NaN       NaN             NaN  \n",
       "\n",
       "[5 rows x 36 columns]"
      ]
     },
     "execution_count": 112,
     "metadata": {},
     "output_type": "execute_result"
    }
   ],
   "source": [
    "#vamos a ver si hay duplicados entre la columnas \"dollar_desc\", \"price_title\"\n",
    "\n",
    "\n",
    "duplicated_mask_dollar = data_nuevo.duplicated(subset = [ \"dollar_desc\", \"price_title\"], keep = \"first\")\n",
    "\n",
    "print(any(duplicated_mask_dollar))\n",
    "\n",
    "duplicated_dollar = data_nuevo.loc[duplicated_mask_dollar]\n",
    "duplicated_dollar.sort_values(by=[\"dollar_desc\", \"price_title\"]).head(5)"
   ]
  },
  {
   "cell_type": "code",
   "execution_count": 113,
   "metadata": {},
   "outputs": [
    {
     "data": {
      "text/plain": [
       "3924"
      ]
     },
     "execution_count": 113,
     "metadata": {},
     "output_type": "execute_result"
    }
   ],
   "source": [
    "#una vez detectados que hay duplicados vamos a eliminarlos quedandonos con los que aparezcan en description\n",
    "\n",
    "data_dollar_nodup = duplicated_dollar.drop_duplicates(subset = [\"dollar_desc\", \"price_title\"], keep = \"first\")\n",
    "data_nuevo.dollar_desc.notnull().sum()"
   ]
  },
  {
   "cell_type": "code",
   "execution_count": 114,
   "metadata": {},
   "outputs": [],
   "source": [
    "#Con lo cual vamos a rellenar la columna de price price_aprox_usd con la informacion extraida en description sobre los precios en usd de los inmuebles\n",
    "# Creamos las series de price_aprox_usd y dollar_desc\n",
    "price_aprox_usd_serie = data_nuevo.price_aprox_usd\n",
    "dollar_desc_serie = data_nuevo.dollar_desc\n",
    "\n",
    "# Convertimos rooms_desc a float\n",
    "#data_nuevo[\"rooms_desc\"] = rooms_desc_serie.astype(float)\n",
    "\n",
    "# Reemplazamos los missings values que esten en rooms por los valores que tenga rooms_desc\n",
    "#data_nuevo['price_aprox_usd'] = price_aprox_usd_serie.fillna(dollar_desc_serie)"
   ]
  },
  {
   "cell_type": "code",
   "execution_count": 115,
   "metadata": {},
   "outputs": [
    {
     "data": {
      "text/plain": [
       "100702"
      ]
     },
     "execution_count": 115,
     "metadata": {},
     "output_type": "execute_result"
    }
   ],
   "source": [
    "#vamos a ver cuantos valores salavamos comparando la situacion el numero anterio de not nulls\n",
    "\n",
    "data_nuevo.price_aprox_usd.notnull().sum()"
   ]
  },
  {
   "cell_type": "markdown",
   "metadata": {},
   "source": [
    "# 8. Conclusiones sobre los Regex \n"
   ]
  },
  {
   "cell_type": "markdown",
   "metadata": {},
   "source": [
    "### 8.1 Conclusión \"title\" \n",
    "\n",
    "Luego de analizar dicha columna determinamos que el aporte de la columna era insignificante y no tan fiable, razon por la cual nos centramos en utilizar solamente la columna \"description\"\n",
    "\n",
    "\n",
    "\n"
   ]
  },
  {
   "cell_type": "markdown",
   "metadata": {},
   "source": [
    "### 8.2 Conclusión \"description\"\n",
    "\n",
    "Luego del proceso de extraccion de datos de la columna description aplicando regex aplicamos un fillna sobre las columnas originales y tuvimos los siguientes resultados:\n",
    "\n",
    "+ **Rooms**: Antes de extraer datos de cantidad de rooms de la columna description, la cantidad de valores no nulos era 47.390, y luego de reemplazar los NaNs con los valores de rooms_desc, la cantidad de valores no nulos asciende a 67.594 , lo que significa que los esfuerzos de extraccion aportaron un aumento de datos del 43% (y en cantidad 20.204).\n",
    "\n",
    "+ **M2**: Antes de extraer datos de cantidad de m2 de la columna description, la cantidad de valores no nulos era de 81.892 y luego de reemplazar los NaNs con los valores de m2_desc, la cantidad de valores no nulos asciende a 83.491, lo que significa que los esfuerzos de extraccion de informacion aportaron un aumento poco significativo de datos del 1.95% (y en cantidad 1.599).  A su vez no podemos discernir si la superficie que obtenemos es cubierta o total.\n",
    "\n",
    "+ **Precio en Dólares**: Antes de extraer informacion de precios en dolares de la columna description, la cantidad de valores no nulos era de 100.810 y luego de reemplazar los NaNs con los valores de dollar_desc, la cantidad de valores no nulos asciende a 100.939, lo que aporta un porcentaje poco significativo del 0.13% (en cantidad 129 datos)\n",
    "\n",
    "#### En relacion a los datos obtenidos decidimos NO utilizar la variables dolar_desc  y M2_desc, por otro lado si vamos a considerar usar la variable rooms_desc como un potencial dato para el posterior analisis de decisiones a tomar. "
   ]
  },
  {
   "cell_type": "markdown",
   "metadata": {},
   "source": [
    "# 9. Nuevo Dataset limpio "
   ]
  },
  {
   "cell_type": "code",
   "execution_count": 116,
   "metadata": {},
   "outputs": [
    {
     "data": {
      "text/plain": [
       "50696     10.0\n",
       "47471     10.0\n",
       "48479     10.0\n",
       "14887     10.0\n",
       "14873     10.0\n",
       "          ... \n",
       "121155     NaN\n",
       "121156     NaN\n",
       "121207     NaN\n",
       "121208     NaN\n",
       "121210     NaN\n",
       "Name: surface_total_in_m2, Length: 121220, dtype: float64"
      ]
     },
     "execution_count": 116,
     "metadata": {},
     "output_type": "execute_result"
    }
   ],
   "source": [
    "data_nuevo.surface_total_in_m2.sort_values()"
   ]
  },
  {
   "cell_type": "markdown",
   "metadata": {},
   "source": [
    "### 9.1 Generamos un nuevo dataset en base a la columna que vamos a usar para establecer las relaciones "
   ]
  },
  {
   "cell_type": "code",
   "execution_count": 117,
   "metadata": {},
   "outputs": [
    {
     "data": {
      "text/plain": [
       "Index(['Unnamed: 0', 'operation', 'property_type', 'place_name',\n",
       "       'place_with_parent_names', 'country_name', 'state_name', 'geonames_id',\n",
       "       'lat-lon', 'lat', 'lon', 'price', 'currency',\n",
       "       'price_aprox_local_currency', 'price_aprox_usd', 'surface_total_in_m2',\n",
       "       'surface_covered_in_m2', 'price_usd_per_m2', 'price_per_m2', 'floor',\n",
       "       'rooms', 'expenses', 'properati_url', 'description', 'title',\n",
       "       'image_thumbnail', 'Provincia', 'Barrio', 'm2_desc', 'rooms_desc',\n",
       "       'dollar_desc', 'property_desc', 'rooms_title', 'price_title',\n",
       "       'm2_title', 'property_title'],\n",
       "      dtype='object')"
      ]
     },
     "execution_count": 117,
     "metadata": {},
     "output_type": "execute_result"
    }
   ],
   "source": [
    "data_nuevo.columns\n"
   ]
  },
  {
   "cell_type": "code",
   "execution_count": null,
   "metadata": {},
   "outputs": [],
   "source": [
    "# Vamos a sacar las columnas que no nos sirven para quedarnos con un dataframe reducido y limpio\n",
    "\n",
    "\n",
    "#data_nuevo.drop(columns=['place_with_parent_names','geonames_id', 'lat-lon','price_per_m2',\"description\",\"title\",'price_usd_per_m2','lat', 'lon','rooms_desc','dollar_desc', 'm2_desc','property_desc', 'rooms_title', 'price_title','m2_title', 'property_title'],inplace=True)"
   ]
  },
  {
   "cell_type": "code",
   "execution_count": 118,
   "metadata": {
    "scrolled": true
   },
   "outputs": [
    {
     "data": {
      "text/html": [
       "<div>\n",
       "<style scoped>\n",
       "    .dataframe tbody tr th:only-of-type {\n",
       "        vertical-align: middle;\n",
       "    }\n",
       "\n",
       "    .dataframe tbody tr th {\n",
       "        vertical-align: top;\n",
       "    }\n",
       "\n",
       "    .dataframe thead th {\n",
       "        text-align: right;\n",
       "    }\n",
       "</style>\n",
       "<table border=\"1\" class=\"dataframe\">\n",
       "  <thead>\n",
       "    <tr style=\"text-align: right;\">\n",
       "      <th></th>\n",
       "      <th>Unnamed: 0</th>\n",
       "      <th>operation</th>\n",
       "      <th>property_type</th>\n",
       "      <th>place_name</th>\n",
       "      <th>place_with_parent_names</th>\n",
       "      <th>country_name</th>\n",
       "      <th>state_name</th>\n",
       "      <th>geonames_id</th>\n",
       "      <th>lat-lon</th>\n",
       "      <th>lat</th>\n",
       "      <th>...</th>\n",
       "      <th>Provincia</th>\n",
       "      <th>Barrio</th>\n",
       "      <th>m2_desc</th>\n",
       "      <th>rooms_desc</th>\n",
       "      <th>dollar_desc</th>\n",
       "      <th>property_desc</th>\n",
       "      <th>rooms_title</th>\n",
       "      <th>price_title</th>\n",
       "      <th>m2_title</th>\n",
       "      <th>property_title</th>\n",
       "    </tr>\n",
       "  </thead>\n",
       "  <tbody>\n",
       "    <tr>\n",
       "      <th>0</th>\n",
       "      <td>0</td>\n",
       "      <td>sell</td>\n",
       "      <td>PH</td>\n",
       "      <td>Mataderos</td>\n",
       "      <td>|Argentina|Capital Federal|Mataderos|</td>\n",
       "      <td>Argentina</td>\n",
       "      <td>Capital Federal</td>\n",
       "      <td>3430787.0</td>\n",
       "      <td>-34.6618237,-58.5088387</td>\n",
       "      <td>-34.661824</td>\n",
       "      <td>...</td>\n",
       "      <td>Capital Federal</td>\n",
       "      <td>Mataderos</td>\n",
       "      <td>NaN</td>\n",
       "      <td>2.0</td>\n",
       "      <td>NaN</td>\n",
       "      <td>CASA</td>\n",
       "      <td>2</td>\n",
       "      <td>NaN</td>\n",
       "      <td>NaN</td>\n",
       "      <td>CASA</td>\n",
       "    </tr>\n",
       "    <tr>\n",
       "      <th>1</th>\n",
       "      <td>1</td>\n",
       "      <td>sell</td>\n",
       "      <td>apartment</td>\n",
       "      <td>La Plata</td>\n",
       "      <td>|Argentina|Bs.As. G.B.A. Zona Sur|La Plata|</td>\n",
       "      <td>Argentina</td>\n",
       "      <td>Bs.As. G.B.A. Zona Sur</td>\n",
       "      <td>3432039.0</td>\n",
       "      <td>-34.9038831,-57.9643295</td>\n",
       "      <td>-34.903883</td>\n",
       "      <td>...</td>\n",
       "      <td>Bs.As. G.B.A. Zona Sur</td>\n",
       "      <td>La Plata</td>\n",
       "      <td>NaN</td>\n",
       "      <td>NaN</td>\n",
       "      <td>U$D 20.000</td>\n",
       "      <td>NaN</td>\n",
       "      <td>NaN</td>\n",
       "      <td>NaN</td>\n",
       "      <td>NaN</td>\n",
       "      <td>NaN</td>\n",
       "    </tr>\n",
       "    <tr>\n",
       "      <th>2</th>\n",
       "      <td>2</td>\n",
       "      <td>sell</td>\n",
       "      <td>apartment</td>\n",
       "      <td>Mataderos</td>\n",
       "      <td>|Argentina|Capital Federal|Mataderos|</td>\n",
       "      <td>Argentina</td>\n",
       "      <td>Capital Federal</td>\n",
       "      <td>3430787.0</td>\n",
       "      <td>-34.6522615,-58.5229825</td>\n",
       "      <td>-34.652262</td>\n",
       "      <td>...</td>\n",
       "      <td>Capital Federal</td>\n",
       "      <td>Mataderos</td>\n",
       "      <td>NaN</td>\n",
       "      <td>2.0</td>\n",
       "      <td>NaN</td>\n",
       "      <td>NaN</td>\n",
       "      <td>2</td>\n",
       "      <td>NaN</td>\n",
       "      <td>NaN</td>\n",
       "      <td>NaN</td>\n",
       "    </tr>\n",
       "    <tr>\n",
       "      <th>3</th>\n",
       "      <td>3</td>\n",
       "      <td>sell</td>\n",
       "      <td>PH</td>\n",
       "      <td>Liniers</td>\n",
       "      <td>|Argentina|Capital Federal|Liniers|</td>\n",
       "      <td>Argentina</td>\n",
       "      <td>Capital Federal</td>\n",
       "      <td>3431333.0</td>\n",
       "      <td>-34.6477969,-58.5164244</td>\n",
       "      <td>-34.647797</td>\n",
       "      <td>...</td>\n",
       "      <td>Capital Federal</td>\n",
       "      <td>Liniers</td>\n",
       "      <td>NaN</td>\n",
       "      <td>3.0</td>\n",
       "      <td>NaN</td>\n",
       "      <td>NaN</td>\n",
       "      <td>3</td>\n",
       "      <td>NaN</td>\n",
       "      <td>NaN</td>\n",
       "      <td>NaN</td>\n",
       "    </tr>\n",
       "    <tr>\n",
       "      <th>4</th>\n",
       "      <td>4</td>\n",
       "      <td>sell</td>\n",
       "      <td>apartment</td>\n",
       "      <td>Centro</td>\n",
       "      <td>|Argentina|Buenos Aires Costa Atlántica|Mar de...</td>\n",
       "      <td>Argentina</td>\n",
       "      <td>Buenos Aires Costa Atlántica</td>\n",
       "      <td>3435548.0</td>\n",
       "      <td>-38.0026256,-57.5494468</td>\n",
       "      <td>-38.002626</td>\n",
       "      <td>...</td>\n",
       "      <td>Buenos Aires Costa Atlántica</td>\n",
       "      <td>Mar del Plata</td>\n",
       "      <td>NaN</td>\n",
       "      <td>NaN</td>\n",
       "      <td>NaN</td>\n",
       "      <td>NaN</td>\n",
       "      <td>2</td>\n",
       "      <td>NaN</td>\n",
       "      <td>NaN</td>\n",
       "      <td>NaN</td>\n",
       "    </tr>\n",
       "    <tr>\n",
       "      <th>...</th>\n",
       "      <td>...</td>\n",
       "      <td>...</td>\n",
       "      <td>...</td>\n",
       "      <td>...</td>\n",
       "      <td>...</td>\n",
       "      <td>...</td>\n",
       "      <td>...</td>\n",
       "      <td>...</td>\n",
       "      <td>...</td>\n",
       "      <td>...</td>\n",
       "      <td>...</td>\n",
       "      <td>...</td>\n",
       "      <td>...</td>\n",
       "      <td>...</td>\n",
       "      <td>...</td>\n",
       "      <td>...</td>\n",
       "      <td>...</td>\n",
       "      <td>...</td>\n",
       "      <td>...</td>\n",
       "      <td>...</td>\n",
       "      <td>...</td>\n",
       "    </tr>\n",
       "    <tr>\n",
       "      <th>121215</th>\n",
       "      <td>121215</td>\n",
       "      <td>sell</td>\n",
       "      <td>apartment</td>\n",
       "      <td>Belgrano</td>\n",
       "      <td>|Argentina|Capital Federal|Belgrano|</td>\n",
       "      <td>Argentina</td>\n",
       "      <td>Capital Federal</td>\n",
       "      <td>3436077.0</td>\n",
       "      <td>NaN</td>\n",
       "      <td>NaN</td>\n",
       "      <td>...</td>\n",
       "      <td>Capital Federal</td>\n",
       "      <td>Belgrano</td>\n",
       "      <td>NaN</td>\n",
       "      <td>NaN</td>\n",
       "      <td>NaN</td>\n",
       "      <td>NaN</td>\n",
       "      <td>3</td>\n",
       "      <td>NaN</td>\n",
       "      <td>NaN</td>\n",
       "      <td>NaN</td>\n",
       "    </tr>\n",
       "    <tr>\n",
       "      <th>121216</th>\n",
       "      <td>121216</td>\n",
       "      <td>sell</td>\n",
       "      <td>house</td>\n",
       "      <td>Beccar</td>\n",
       "      <td>|Argentina|Bs.As. G.B.A. Zona Norte|San Isidro...</td>\n",
       "      <td>Argentina</td>\n",
       "      <td>Bs.As. G.B.A. Zona Norte</td>\n",
       "      <td>3436080.0</td>\n",
       "      <td>NaN</td>\n",
       "      <td>NaN</td>\n",
       "      <td>...</td>\n",
       "      <td>Bs.As. G.B.A. Zona Norte</td>\n",
       "      <td>San Isidro</td>\n",
       "      <td>572</td>\n",
       "      <td>NaN</td>\n",
       "      <td>NaN</td>\n",
       "      <td>CASA</td>\n",
       "      <td>NaN</td>\n",
       "      <td>NaN</td>\n",
       "      <td>NaN</td>\n",
       "      <td>NaN</td>\n",
       "    </tr>\n",
       "    <tr>\n",
       "      <th>121217</th>\n",
       "      <td>121217</td>\n",
       "      <td>sell</td>\n",
       "      <td>apartment</td>\n",
       "      <td>Villa Urquiza</td>\n",
       "      <td>|Argentina|Capital Federal|Villa Urquiza|</td>\n",
       "      <td>Argentina</td>\n",
       "      <td>Capital Federal</td>\n",
       "      <td>3433775.0</td>\n",
       "      <td>-34.5706388726,-58.4755963355</td>\n",
       "      <td>-34.570639</td>\n",
       "      <td>...</td>\n",
       "      <td>Capital Federal</td>\n",
       "      <td>Villa Urquiza</td>\n",
       "      <td>43,00</td>\n",
       "      <td>NaN</td>\n",
       "      <td>USD 20.000</td>\n",
       "      <td>NaN</td>\n",
       "      <td>NaN</td>\n",
       "      <td>NaN</td>\n",
       "      <td>NaN</td>\n",
       "      <td>NaN</td>\n",
       "    </tr>\n",
       "    <tr>\n",
       "      <th>121218</th>\n",
       "      <td>121218</td>\n",
       "      <td>sell</td>\n",
       "      <td>apartment</td>\n",
       "      <td>Plaza Colón</td>\n",
       "      <td>|Argentina|Buenos Aires Costa Atlántica|Mar de...</td>\n",
       "      <td>Argentina</td>\n",
       "      <td>Buenos Aires Costa Atlántica</td>\n",
       "      <td>NaN</td>\n",
       "      <td>NaN</td>\n",
       "      <td>NaN</td>\n",
       "      <td>...</td>\n",
       "      <td>Buenos Aires Costa Atlántica</td>\n",
       "      <td>Mar del Plata</td>\n",
       "      <td>NaN</td>\n",
       "      <td>2.0</td>\n",
       "      <td>NaN</td>\n",
       "      <td>NaN</td>\n",
       "      <td>2</td>\n",
       "      <td>NaN</td>\n",
       "      <td>NaN</td>\n",
       "      <td>NaN</td>\n",
       "    </tr>\n",
       "    <tr>\n",
       "      <th>121219</th>\n",
       "      <td>121219</td>\n",
       "      <td>sell</td>\n",
       "      <td>apartment</td>\n",
       "      <td>Capital Federal</td>\n",
       "      <td>|Argentina|Capital Federal|</td>\n",
       "      <td>Argentina</td>\n",
       "      <td>Capital Federal</td>\n",
       "      <td>3433955.0</td>\n",
       "      <td>NaN</td>\n",
       "      <td>NaN</td>\n",
       "      <td>...</td>\n",
       "      <td>Capital Federal</td>\n",
       "      <td></td>\n",
       "      <td>77</td>\n",
       "      <td>NaN</td>\n",
       "      <td>NaN</td>\n",
       "      <td>NaN</td>\n",
       "      <td>NaN</td>\n",
       "      <td>NaN</td>\n",
       "      <td>NaN</td>\n",
       "      <td>NaN</td>\n",
       "    </tr>\n",
       "  </tbody>\n",
       "</table>\n",
       "<p>121220 rows × 36 columns</p>\n",
       "</div>"
      ],
      "text/plain": [
       "        Unnamed: 0 operation property_type       place_name  \\\n",
       "0                0      sell            PH        Mataderos   \n",
       "1                1      sell     apartment         La Plata   \n",
       "2                2      sell     apartment        Mataderos   \n",
       "3                3      sell            PH          Liniers   \n",
       "4                4      sell     apartment           Centro   \n",
       "...            ...       ...           ...              ...   \n",
       "121215      121215      sell     apartment         Belgrano   \n",
       "121216      121216      sell         house           Beccar   \n",
       "121217      121217      sell     apartment    Villa Urquiza   \n",
       "121218      121218      sell     apartment      Plaza Colón   \n",
       "121219      121219      sell     apartment  Capital Federal   \n",
       "\n",
       "                                  place_with_parent_names country_name  \\\n",
       "0                   |Argentina|Capital Federal|Mataderos|    Argentina   \n",
       "1             |Argentina|Bs.As. G.B.A. Zona Sur|La Plata|    Argentina   \n",
       "2                   |Argentina|Capital Federal|Mataderos|    Argentina   \n",
       "3                     |Argentina|Capital Federal|Liniers|    Argentina   \n",
       "4       |Argentina|Buenos Aires Costa Atlántica|Mar de...    Argentina   \n",
       "...                                                   ...          ...   \n",
       "121215               |Argentina|Capital Federal|Belgrano|    Argentina   \n",
       "121216  |Argentina|Bs.As. G.B.A. Zona Norte|San Isidro...    Argentina   \n",
       "121217          |Argentina|Capital Federal|Villa Urquiza|    Argentina   \n",
       "121218  |Argentina|Buenos Aires Costa Atlántica|Mar de...    Argentina   \n",
       "121219                        |Argentina|Capital Federal|    Argentina   \n",
       "\n",
       "                          state_name  geonames_id  \\\n",
       "0                    Capital Federal    3430787.0   \n",
       "1             Bs.As. G.B.A. Zona Sur    3432039.0   \n",
       "2                    Capital Federal    3430787.0   \n",
       "3                    Capital Federal    3431333.0   \n",
       "4       Buenos Aires Costa Atlántica    3435548.0   \n",
       "...                              ...          ...   \n",
       "121215               Capital Federal    3436077.0   \n",
       "121216      Bs.As. G.B.A. Zona Norte    3436080.0   \n",
       "121217               Capital Federal    3433775.0   \n",
       "121218  Buenos Aires Costa Atlántica          NaN   \n",
       "121219               Capital Federal    3433955.0   \n",
       "\n",
       "                              lat-lon        lat  ...  \\\n",
       "0             -34.6618237,-58.5088387 -34.661824  ...   \n",
       "1             -34.9038831,-57.9643295 -34.903883  ...   \n",
       "2             -34.6522615,-58.5229825 -34.652262  ...   \n",
       "3             -34.6477969,-58.5164244 -34.647797  ...   \n",
       "4             -38.0026256,-57.5494468 -38.002626  ...   \n",
       "...                               ...        ...  ...   \n",
       "121215                            NaN        NaN  ...   \n",
       "121216                            NaN        NaN  ...   \n",
       "121217  -34.5706388726,-58.4755963355 -34.570639  ...   \n",
       "121218                            NaN        NaN  ...   \n",
       "121219                            NaN        NaN  ...   \n",
       "\n",
       "                           Provincia         Barrio m2_desc  rooms_desc  \\\n",
       "0                    Capital Federal      Mataderos     NaN         2.0   \n",
       "1             Bs.As. G.B.A. Zona Sur       La Plata     NaN         NaN   \n",
       "2                    Capital Federal      Mataderos     NaN         2.0   \n",
       "3                    Capital Federal        Liniers     NaN         3.0   \n",
       "4       Buenos Aires Costa Atlántica  Mar del Plata     NaN         NaN   \n",
       "...                              ...            ...     ...         ...   \n",
       "121215               Capital Federal       Belgrano     NaN         NaN   \n",
       "121216      Bs.As. G.B.A. Zona Norte     San Isidro     572         NaN   \n",
       "121217               Capital Federal  Villa Urquiza   43,00         NaN   \n",
       "121218  Buenos Aires Costa Atlántica  Mar del Plata     NaN         2.0   \n",
       "121219               Capital Federal                     77         NaN   \n",
       "\n",
       "        dollar_desc  property_desc  rooms_title  price_title  m2_title  \\\n",
       "0               NaN           CASA            2          NaN       NaN   \n",
       "1        U$D 20.000            NaN          NaN          NaN       NaN   \n",
       "2               NaN            NaN            2          NaN       NaN   \n",
       "3               NaN            NaN            3          NaN       NaN   \n",
       "4               NaN            NaN            2          NaN       NaN   \n",
       "...             ...            ...          ...          ...       ...   \n",
       "121215          NaN            NaN            3          NaN       NaN   \n",
       "121216          NaN           CASA          NaN          NaN       NaN   \n",
       "121217   USD 20.000            NaN          NaN          NaN       NaN   \n",
       "121218          NaN            NaN            2          NaN       NaN   \n",
       "121219          NaN            NaN          NaN          NaN       NaN   \n",
       "\n",
       "        property_title  \n",
       "0                 CASA  \n",
       "1                  NaN  \n",
       "2                  NaN  \n",
       "3                  NaN  \n",
       "4                  NaN  \n",
       "...                ...  \n",
       "121215             NaN  \n",
       "121216             NaN  \n",
       "121217             NaN  \n",
       "121218             NaN  \n",
       "121219             NaN  \n",
       "\n",
       "[121220 rows x 36 columns]"
      ]
     },
     "execution_count": 118,
     "metadata": {},
     "output_type": "execute_result"
    }
   ],
   "source": [
    "data_nuevo\n"
   ]
  },
  {
   "cell_type": "markdown",
   "metadata": {},
   "source": [
    "# 9.2 Exportamos el dataframe "
   ]
  },
  {
   "cell_type": "code",
   "execution_count": 119,
   "metadata": {},
   "outputs": [],
   "source": [
    "#exportamos el archivo para trabajarlo en la notebook 3 \n",
    "\n",
    "ubicacion = r\"C:\\Users\\usuario\\Desktop\\RELIQUIDACIONES\\data_limpio.csv\"\n",
    "\n"
   ]
  },
  {
   "cell_type": "code",
   "execution_count": 120,
   "metadata": {},
   "outputs": [],
   "source": [
    "data_nuevo.to_csv(ubicacion)"
   ]
  },
  {
   "cell_type": "code",
   "execution_count": 121,
   "metadata": {},
   "outputs": [
    {
     "data": {
      "text/plain": [
       "27344"
      ]
     },
     "execution_count": 121,
     "metadata": {},
     "output_type": "execute_result"
    }
   ],
   "source": [
    "data_nuevo.surface_total_in_m2.isnull().sum()"
   ]
  },
  {
   "cell_type": "code",
   "execution_count": 122,
   "metadata": {},
   "outputs": [
    {
     "data": {
      "text/plain": [
       "121220"
      ]
     },
     "execution_count": 122,
     "metadata": {},
     "output_type": "execute_result"
    }
   ],
   "source": [
    "data_nuevo.shape[0]"
   ]
  },
  {
   "cell_type": "code",
   "execution_count": null,
   "metadata": {},
   "outputs": [],
   "source": []
  }
 ],
 "metadata": {
  "kernelspec": {
   "display_name": "Python 3",
   "language": "python",
   "name": "python3"
  },
  "language_info": {
   "codemirror_mode": {
    "name": "ipython",
    "version": 3
   },
   "file_extension": ".py",
   "mimetype": "text/x-python",
   "name": "python",
   "nbconvert_exporter": "python",
   "pygments_lexer": "ipython3",
   "version": "3.7.7"
  }
 },
 "nbformat": 4,
 "nbformat_minor": 4
}
